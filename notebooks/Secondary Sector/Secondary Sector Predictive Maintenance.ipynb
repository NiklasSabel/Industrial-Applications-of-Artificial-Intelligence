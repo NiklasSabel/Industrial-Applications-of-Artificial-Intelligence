{
 "cells": [
  {
   "cell_type": "markdown",
   "metadata": {
    "collapsed": true
   },
   "source": [
    "# Industrial Applications of Artificial Intelligence - Predictive Maintenance"
   ]
  },
  {
   "cell_type": "markdown",
   "metadata": {},
   "source": [
    "### This notebook is part of the second hand-in regarding the secondary sector in the lecture Industrial Applications of AI by Niklas Sabel (Matr. no. 1599748)"
   ]
  },
  {
   "cell_type": "markdown",
   "metadata": {},
   "source": [
    "Industrial companies rely heavily on the machines that operate within their assembly lines. Even the slighest error that would cause the line to be stopped will result in losses of serveral hundred to thousands of euros. In 2015, insiders calculated that one minute of downtime costs Daimler, BMW and AUDI between €1000 and €6000 [(src)](https://www.dvz.de/rubriken/logistik/it-in-der-logistik/detail/news/geruestet-fuer-den-blackout.html#:~:text=Denn%20eine%20Minute%20Bandstillstand%20bei,zwischen%201000%20und%206000%20EUR.). Due to rising competition in a global economy, predictive maintenance becomes a crucial task to no lose money and time in operations, because a company is able to prevent breakdowns with early countermeasures. The challenge arises for the company to prevent components from being replaced too early in the lifecycle and still ensuring reliability. Machine Learning can help in this task. By making use of data from the machines itself and sensors in the surrounding, companies are able to plan ahead and schedule actions to keep their assembly line healthy. One possible way to do this, is modelling the failure/non-failure of a machine as a binary classification. In the following we want to explore how to preprocess a related dataset and how models are able to support companies in recognizing a failure or not."
   ]
  },
  {
   "cell_type": "code",
   "execution_count": 1,
   "metadata": {
    "pycharm": {
     "is_executing": true
    }
   },
   "outputs": [
    {
     "name": "stderr",
     "output_type": "stream",
     "text": [
      "C:\\Users\\Nikla\\anaconda3\\envs\\Industrial-Applications-of-Artificial-Intelligence\\lib\\site-packages\\xgboost\\compat.py:36: FutureWarning: pandas.Int64Index is deprecated and will be removed from pandas in a future version. Use pandas.Index with the appropriate dtype instead.\n",
      "  from pandas import MultiIndex, Int64Index\n"
     ]
    }
   ],
   "source": [
    "import numpy as np\n",
    "import pandas as pd\n",
    "import matplotlib.pyplot as plt\n",
    "import seaborn as sns\n",
    "import os\n",
    "import re\n",
    "from tensorflow.keras.models import Model\n",
    "from sklearn.preprocessing import OneHotEncoder, StandardScaler\n",
    "from sklearn.model_selection import train_test_split, cross_val_score\n",
    "import tensorflow as tf\n",
    "from sklearn.metrics import accuracy_score, f1_score, precision_score, recall_score, confusion_matrix\n",
    "from sklearn.linear_model import LogisticRegression\n",
    "from sklearn.naive_bayes import GaussianNB\n",
    "from sklearn.ensemble import RandomForestClassifier, VotingClassifier\n",
    "from sklearn.neural_network import MLPClassifier\n",
    "from sklearn.svm import SVC\n",
    "from xgboost import XGBClassifier\n",
    "from tensorflow.keras.models import Sequential, load_model\n",
    "from tensorflow.keras.layers import Conv2D, MaxPooling2D, Flatten, Dense, Reshape, UpSampling2D"
   ]
  },
  {
   "cell_type": "markdown",
   "metadata": {},
   "source": [
    "## I. Import Data"
   ]
  },
  {
   "cell_type": "markdown",
   "metadata": {},
   "source": [
    "The dataset can be found on kaggle unter the following [URL](https://www.kaggle.com/datasets/shivamb/machine-predictive-maintenance-classification?select=predictive_maintenance.csv). As real data is in most of the cases a secret that is hidden by the respective company to not give an edge to competitors, we make use of a synthetically generated dataset found on kaggle that reflects real predictive maintenance encountered in industry. The dataset was  [published](https://archive.ics.uci.edu/ml/datasets/AI4I+2020+Predictive+Maintenance+Dataset ) by the Center for Machine Learning and Intelligent Systems of the University of California . First of all, the dataset consists out of 10.000 entries containing eight features and two targets, which will be described in the following.\n",
    "* UDI: unique identifier having the same value as the corresponding index\n",
    "* Product ID: Combination of a letter and a 4-digit serial number. The value of the letter reflects the quality of the product, where L stands for low, M for medium and H for high.\n",
    "* Type: Again reflects the quality of the product in the same manner as the product ID.\n",
    "* Air temperature [K]: Refleccts the temperature of the surrounding air measured in Kalvin (0°C = 173,15 K).\n",
    "* Process temperature [K]: Measures the temperature within the process/machine in Kalvin.\n",
    "* Rotational speed [rpm]: Corresponds to the rotation speed of the machine measured revolutions per minute .\n",
    "* Torque [Nm]: Moment of force, rotational force in Newtonmeter. Rotational equivalent to linear force.\n",
    "* Tool wear [min]: Gradual failure of tools due to regular operation. Depending on quality the add different minutes to the used tool (H/M/L -> 5/3/2 minutes). So, the value is reseted to zero, if the machine has been changed.\n",
    "* Target: Binary: 1: Failure/0: Non-Failure \n",
    "* Failure Type"
   ]
  },
  {
   "cell_type": "code",
   "execution_count": 343,
   "metadata": {},
   "outputs": [
    {
     "data": {
      "text/html": [
       "<div>\n",
       "<style scoped>\n",
       "    .dataframe tbody tr th:only-of-type {\n",
       "        vertical-align: middle;\n",
       "    }\n",
       "\n",
       "    .dataframe tbody tr th {\n",
       "        vertical-align: top;\n",
       "    }\n",
       "\n",
       "    .dataframe thead th {\n",
       "        text-align: right;\n",
       "    }\n",
       "</style>\n",
       "<table border=\"1\" class=\"dataframe\">\n",
       "  <thead>\n",
       "    <tr style=\"text-align: right;\">\n",
       "      <th></th>\n",
       "      <th>UDI</th>\n",
       "      <th>Product ID</th>\n",
       "      <th>Type</th>\n",
       "      <th>Air temperature [K]</th>\n",
       "      <th>Process temperature [K]</th>\n",
       "      <th>Rotational speed [rpm]</th>\n",
       "      <th>Torque [Nm]</th>\n",
       "      <th>Tool wear [min]</th>\n",
       "      <th>Target</th>\n",
       "      <th>Failure Type</th>\n",
       "    </tr>\n",
       "  </thead>\n",
       "  <tbody>\n",
       "    <tr>\n",
       "      <th>0</th>\n",
       "      <td>1</td>\n",
       "      <td>M14860</td>\n",
       "      <td>M</td>\n",
       "      <td>298.1</td>\n",
       "      <td>308.6</td>\n",
       "      <td>1551</td>\n",
       "      <td>42.8</td>\n",
       "      <td>0</td>\n",
       "      <td>0</td>\n",
       "      <td>No Failure</td>\n",
       "    </tr>\n",
       "    <tr>\n",
       "      <th>1</th>\n",
       "      <td>2</td>\n",
       "      <td>L47181</td>\n",
       "      <td>L</td>\n",
       "      <td>298.2</td>\n",
       "      <td>308.7</td>\n",
       "      <td>1408</td>\n",
       "      <td>46.3</td>\n",
       "      <td>3</td>\n",
       "      <td>0</td>\n",
       "      <td>No Failure</td>\n",
       "    </tr>\n",
       "    <tr>\n",
       "      <th>2</th>\n",
       "      <td>3</td>\n",
       "      <td>L47182</td>\n",
       "      <td>L</td>\n",
       "      <td>298.1</td>\n",
       "      <td>308.5</td>\n",
       "      <td>1498</td>\n",
       "      <td>49.4</td>\n",
       "      <td>5</td>\n",
       "      <td>0</td>\n",
       "      <td>No Failure</td>\n",
       "    </tr>\n",
       "    <tr>\n",
       "      <th>3</th>\n",
       "      <td>4</td>\n",
       "      <td>L47183</td>\n",
       "      <td>L</td>\n",
       "      <td>298.2</td>\n",
       "      <td>308.6</td>\n",
       "      <td>1433</td>\n",
       "      <td>39.5</td>\n",
       "      <td>7</td>\n",
       "      <td>0</td>\n",
       "      <td>No Failure</td>\n",
       "    </tr>\n",
       "    <tr>\n",
       "      <th>4</th>\n",
       "      <td>5</td>\n",
       "      <td>L47184</td>\n",
       "      <td>L</td>\n",
       "      <td>298.2</td>\n",
       "      <td>308.7</td>\n",
       "      <td>1408</td>\n",
       "      <td>40.0</td>\n",
       "      <td>9</td>\n",
       "      <td>0</td>\n",
       "      <td>No Failure</td>\n",
       "    </tr>\n",
       "    <tr>\n",
       "      <th>5</th>\n",
       "      <td>6</td>\n",
       "      <td>M14865</td>\n",
       "      <td>M</td>\n",
       "      <td>298.1</td>\n",
       "      <td>308.6</td>\n",
       "      <td>1425</td>\n",
       "      <td>41.9</td>\n",
       "      <td>11</td>\n",
       "      <td>0</td>\n",
       "      <td>No Failure</td>\n",
       "    </tr>\n",
       "    <tr>\n",
       "      <th>6</th>\n",
       "      <td>7</td>\n",
       "      <td>L47186</td>\n",
       "      <td>L</td>\n",
       "      <td>298.1</td>\n",
       "      <td>308.6</td>\n",
       "      <td>1558</td>\n",
       "      <td>42.4</td>\n",
       "      <td>14</td>\n",
       "      <td>0</td>\n",
       "      <td>No Failure</td>\n",
       "    </tr>\n",
       "    <tr>\n",
       "      <th>7</th>\n",
       "      <td>8</td>\n",
       "      <td>L47187</td>\n",
       "      <td>L</td>\n",
       "      <td>298.1</td>\n",
       "      <td>308.6</td>\n",
       "      <td>1527</td>\n",
       "      <td>40.2</td>\n",
       "      <td>16</td>\n",
       "      <td>0</td>\n",
       "      <td>No Failure</td>\n",
       "    </tr>\n",
       "    <tr>\n",
       "      <th>8</th>\n",
       "      <td>9</td>\n",
       "      <td>M14868</td>\n",
       "      <td>M</td>\n",
       "      <td>298.3</td>\n",
       "      <td>308.7</td>\n",
       "      <td>1667</td>\n",
       "      <td>28.6</td>\n",
       "      <td>18</td>\n",
       "      <td>0</td>\n",
       "      <td>No Failure</td>\n",
       "    </tr>\n",
       "    <tr>\n",
       "      <th>9</th>\n",
       "      <td>10</td>\n",
       "      <td>M14869</td>\n",
       "      <td>M</td>\n",
       "      <td>298.5</td>\n",
       "      <td>309.0</td>\n",
       "      <td>1741</td>\n",
       "      <td>28.0</td>\n",
       "      <td>21</td>\n",
       "      <td>0</td>\n",
       "      <td>No Failure</td>\n",
       "    </tr>\n",
       "  </tbody>\n",
       "</table>\n",
       "</div>"
      ],
      "text/plain": [
       "   UDI Product ID Type  Air temperature [K]  Process temperature [K]  \\\n",
       "0    1     M14860    M                298.1                    308.6   \n",
       "1    2     L47181    L                298.2                    308.7   \n",
       "2    3     L47182    L                298.1                    308.5   \n",
       "3    4     L47183    L                298.2                    308.6   \n",
       "4    5     L47184    L                298.2                    308.7   \n",
       "5    6     M14865    M                298.1                    308.6   \n",
       "6    7     L47186    L                298.1                    308.6   \n",
       "7    8     L47187    L                298.1                    308.6   \n",
       "8    9     M14868    M                298.3                    308.7   \n",
       "9   10     M14869    M                298.5                    309.0   \n",
       "\n",
       "   Rotational speed [rpm]  Torque [Nm]  Tool wear [min]  Target Failure Type  \n",
       "0                    1551         42.8                0       0   No Failure  \n",
       "1                    1408         46.3                3       0   No Failure  \n",
       "2                    1498         49.4                5       0   No Failure  \n",
       "3                    1433         39.5                7       0   No Failure  \n",
       "4                    1408         40.0                9       0   No Failure  \n",
       "5                    1425         41.9               11       0   No Failure  \n",
       "6                    1558         42.4               14       0   No Failure  \n",
       "7                    1527         40.2               16       0   No Failure  \n",
       "8                    1667         28.6               18       0   No Failure  \n",
       "9                    1741         28.0               21       0   No Failure  "
      ]
     },
     "execution_count": 343,
     "metadata": {},
     "output_type": "execute_result"
    }
   ],
   "source": [
    "dir_path ='../../src/data/Abgabe_2/'\n",
    "df = pd.read_csv(os.path.join(dir_path, \"predictive_maintenance.csv\"))\n",
    "df.head(10)"
   ]
  },
  {
   "cell_type": "markdown",
   "metadata": {},
   "source": [
    "During the training, we noticed that some algorithms, in particular XGBoost, cannot cope with specific values in the feature names of our dataframe (in our case \"[ ]\". So, we will clean this up in the beginning for the whole table."
   ]
  },
  {
   "cell_type": "code",
   "execution_count": 344,
   "metadata": {},
   "outputs": [
    {
     "data": {
      "text/html": [
       "<div>\n",
       "<style scoped>\n",
       "    .dataframe tbody tr th:only-of-type {\n",
       "        vertical-align: middle;\n",
       "    }\n",
       "\n",
       "    .dataframe tbody tr th {\n",
       "        vertical-align: top;\n",
       "    }\n",
       "\n",
       "    .dataframe thead th {\n",
       "        text-align: right;\n",
       "    }\n",
       "</style>\n",
       "<table border=\"1\" class=\"dataframe\">\n",
       "  <thead>\n",
       "    <tr style=\"text-align: right;\">\n",
       "      <th></th>\n",
       "      <th>UDI</th>\n",
       "      <th>Product ID</th>\n",
       "      <th>Type</th>\n",
       "      <th>Air temperature K</th>\n",
       "      <th>Process temperature K</th>\n",
       "      <th>Rotational speed rpm</th>\n",
       "      <th>Torque Nm</th>\n",
       "      <th>Tool wear min</th>\n",
       "      <th>Target</th>\n",
       "      <th>Failure Type</th>\n",
       "    </tr>\n",
       "  </thead>\n",
       "  <tbody>\n",
       "    <tr>\n",
       "      <th>0</th>\n",
       "      <td>1</td>\n",
       "      <td>M14860</td>\n",
       "      <td>M</td>\n",
       "      <td>298.1</td>\n",
       "      <td>308.6</td>\n",
       "      <td>1551</td>\n",
       "      <td>42.8</td>\n",
       "      <td>0</td>\n",
       "      <td>0</td>\n",
       "      <td>No Failure</td>\n",
       "    </tr>\n",
       "    <tr>\n",
       "      <th>1</th>\n",
       "      <td>2</td>\n",
       "      <td>L47181</td>\n",
       "      <td>L</td>\n",
       "      <td>298.2</td>\n",
       "      <td>308.7</td>\n",
       "      <td>1408</td>\n",
       "      <td>46.3</td>\n",
       "      <td>3</td>\n",
       "      <td>0</td>\n",
       "      <td>No Failure</td>\n",
       "    </tr>\n",
       "    <tr>\n",
       "      <th>2</th>\n",
       "      <td>3</td>\n",
       "      <td>L47182</td>\n",
       "      <td>L</td>\n",
       "      <td>298.1</td>\n",
       "      <td>308.5</td>\n",
       "      <td>1498</td>\n",
       "      <td>49.4</td>\n",
       "      <td>5</td>\n",
       "      <td>0</td>\n",
       "      <td>No Failure</td>\n",
       "    </tr>\n",
       "    <tr>\n",
       "      <th>3</th>\n",
       "      <td>4</td>\n",
       "      <td>L47183</td>\n",
       "      <td>L</td>\n",
       "      <td>298.2</td>\n",
       "      <td>308.6</td>\n",
       "      <td>1433</td>\n",
       "      <td>39.5</td>\n",
       "      <td>7</td>\n",
       "      <td>0</td>\n",
       "      <td>No Failure</td>\n",
       "    </tr>\n",
       "    <tr>\n",
       "      <th>4</th>\n",
       "      <td>5</td>\n",
       "      <td>L47184</td>\n",
       "      <td>L</td>\n",
       "      <td>298.2</td>\n",
       "      <td>308.7</td>\n",
       "      <td>1408</td>\n",
       "      <td>40.0</td>\n",
       "      <td>9</td>\n",
       "      <td>0</td>\n",
       "      <td>No Failure</td>\n",
       "    </tr>\n",
       "    <tr>\n",
       "      <th>5</th>\n",
       "      <td>6</td>\n",
       "      <td>M14865</td>\n",
       "      <td>M</td>\n",
       "      <td>298.1</td>\n",
       "      <td>308.6</td>\n",
       "      <td>1425</td>\n",
       "      <td>41.9</td>\n",
       "      <td>11</td>\n",
       "      <td>0</td>\n",
       "      <td>No Failure</td>\n",
       "    </tr>\n",
       "    <tr>\n",
       "      <th>6</th>\n",
       "      <td>7</td>\n",
       "      <td>L47186</td>\n",
       "      <td>L</td>\n",
       "      <td>298.1</td>\n",
       "      <td>308.6</td>\n",
       "      <td>1558</td>\n",
       "      <td>42.4</td>\n",
       "      <td>14</td>\n",
       "      <td>0</td>\n",
       "      <td>No Failure</td>\n",
       "    </tr>\n",
       "    <tr>\n",
       "      <th>7</th>\n",
       "      <td>8</td>\n",
       "      <td>L47187</td>\n",
       "      <td>L</td>\n",
       "      <td>298.1</td>\n",
       "      <td>308.6</td>\n",
       "      <td>1527</td>\n",
       "      <td>40.2</td>\n",
       "      <td>16</td>\n",
       "      <td>0</td>\n",
       "      <td>No Failure</td>\n",
       "    </tr>\n",
       "    <tr>\n",
       "      <th>8</th>\n",
       "      <td>9</td>\n",
       "      <td>M14868</td>\n",
       "      <td>M</td>\n",
       "      <td>298.3</td>\n",
       "      <td>308.7</td>\n",
       "      <td>1667</td>\n",
       "      <td>28.6</td>\n",
       "      <td>18</td>\n",
       "      <td>0</td>\n",
       "      <td>No Failure</td>\n",
       "    </tr>\n",
       "    <tr>\n",
       "      <th>9</th>\n",
       "      <td>10</td>\n",
       "      <td>M14869</td>\n",
       "      <td>M</td>\n",
       "      <td>298.5</td>\n",
       "      <td>309.0</td>\n",
       "      <td>1741</td>\n",
       "      <td>28.0</td>\n",
       "      <td>21</td>\n",
       "      <td>0</td>\n",
       "      <td>No Failure</td>\n",
       "    </tr>\n",
       "  </tbody>\n",
       "</table>\n",
       "</div>"
      ],
      "text/plain": [
       "   UDI Product ID Type  Air temperature K  Process temperature K  \\\n",
       "0    1     M14860    M              298.1                  308.6   \n",
       "1    2     L47181    L              298.2                  308.7   \n",
       "2    3     L47182    L              298.1                  308.5   \n",
       "3    4     L47183    L              298.2                  308.6   \n",
       "4    5     L47184    L              298.2                  308.7   \n",
       "5    6     M14865    M              298.1                  308.6   \n",
       "6    7     L47186    L              298.1                  308.6   \n",
       "7    8     L47187    L              298.1                  308.6   \n",
       "8    9     M14868    M              298.3                  308.7   \n",
       "9   10     M14869    M              298.5                  309.0   \n",
       "\n",
       "   Rotational speed rpm  Torque Nm  Tool wear min  Target Failure Type  \n",
       "0                  1551       42.8              0       0   No Failure  \n",
       "1                  1408       46.3              3       0   No Failure  \n",
       "2                  1498       49.4              5       0   No Failure  \n",
       "3                  1433       39.5              7       0   No Failure  \n",
       "4                  1408       40.0              9       0   No Failure  \n",
       "5                  1425       41.9             11       0   No Failure  \n",
       "6                  1558       42.4             14       0   No Failure  \n",
       "7                  1527       40.2             16       0   No Failure  \n",
       "8                  1667       28.6             18       0   No Failure  \n",
       "9                  1741       28.0             21       0   No Failure  "
      ]
     },
     "execution_count": 344,
     "metadata": {},
     "output_type": "execute_result"
    }
   ],
   "source": [
    "regex = re.compile(r\"\\[|\\]|<\", re.IGNORECASE)\n",
    "df.columns = [regex.sub(\"\", col) if any(x in str(col) for x in set(('[', ']', '<'))) else col for col in df.columns.values]\n",
    "df.head(10)"
   ]
  },
  {
   "cell_type": "markdown",
   "metadata": {},
   "source": [
    "As we already know that UDI is always the same value as the index+1, we discard the column."
   ]
  },
  {
   "cell_type": "code",
   "execution_count": 345,
   "metadata": {},
   "outputs": [
    {
     "data": {
      "text/html": [
       "<div>\n",
       "<style scoped>\n",
       "    .dataframe tbody tr th:only-of-type {\n",
       "        vertical-align: middle;\n",
       "    }\n",
       "\n",
       "    .dataframe tbody tr th {\n",
       "        vertical-align: top;\n",
       "    }\n",
       "\n",
       "    .dataframe thead th {\n",
       "        text-align: right;\n",
       "    }\n",
       "</style>\n",
       "<table border=\"1\" class=\"dataframe\">\n",
       "  <thead>\n",
       "    <tr style=\"text-align: right;\">\n",
       "      <th></th>\n",
       "      <th>count</th>\n",
       "      <th>mean</th>\n",
       "      <th>std</th>\n",
       "      <th>min</th>\n",
       "      <th>25%</th>\n",
       "      <th>50%</th>\n",
       "      <th>75%</th>\n",
       "      <th>max</th>\n",
       "    </tr>\n",
       "  </thead>\n",
       "  <tbody>\n",
       "    <tr>\n",
       "      <th>Air temperature K</th>\n",
       "      <td>10000.00</td>\n",
       "      <td>300.00</td>\n",
       "      <td>2.00</td>\n",
       "      <td>295.30</td>\n",
       "      <td>298.30</td>\n",
       "      <td>300.10</td>\n",
       "      <td>301.50</td>\n",
       "      <td>304.50</td>\n",
       "    </tr>\n",
       "    <tr>\n",
       "      <th>Process temperature K</th>\n",
       "      <td>10000.00</td>\n",
       "      <td>310.01</td>\n",
       "      <td>1.48</td>\n",
       "      <td>305.70</td>\n",
       "      <td>308.80</td>\n",
       "      <td>310.10</td>\n",
       "      <td>311.10</td>\n",
       "      <td>313.80</td>\n",
       "    </tr>\n",
       "    <tr>\n",
       "      <th>Rotational speed rpm</th>\n",
       "      <td>10000.00</td>\n",
       "      <td>1538.78</td>\n",
       "      <td>179.28</td>\n",
       "      <td>1168.00</td>\n",
       "      <td>1423.00</td>\n",
       "      <td>1503.00</td>\n",
       "      <td>1612.00</td>\n",
       "      <td>2886.00</td>\n",
       "    </tr>\n",
       "    <tr>\n",
       "      <th>Torque Nm</th>\n",
       "      <td>10000.00</td>\n",
       "      <td>39.99</td>\n",
       "      <td>9.97</td>\n",
       "      <td>3.80</td>\n",
       "      <td>33.20</td>\n",
       "      <td>40.10</td>\n",
       "      <td>46.80</td>\n",
       "      <td>76.60</td>\n",
       "    </tr>\n",
       "    <tr>\n",
       "      <th>Tool wear min</th>\n",
       "      <td>10000.00</td>\n",
       "      <td>107.95</td>\n",
       "      <td>63.65</td>\n",
       "      <td>0.00</td>\n",
       "      <td>53.00</td>\n",
       "      <td>108.00</td>\n",
       "      <td>162.00</td>\n",
       "      <td>253.00</td>\n",
       "    </tr>\n",
       "    <tr>\n",
       "      <th>Target</th>\n",
       "      <td>10000.00</td>\n",
       "      <td>0.03</td>\n",
       "      <td>0.18</td>\n",
       "      <td>0.00</td>\n",
       "      <td>0.00</td>\n",
       "      <td>0.00</td>\n",
       "      <td>0.00</td>\n",
       "      <td>1.00</td>\n",
       "    </tr>\n",
       "  </tbody>\n",
       "</table>\n",
       "</div>"
      ],
      "text/plain": [
       "                          count     mean     std      min      25%      50%  \\\n",
       "Air temperature K      10000.00   300.00    2.00   295.30   298.30   300.10   \n",
       "Process temperature K  10000.00   310.01    1.48   305.70   308.80   310.10   \n",
       "Rotational speed rpm   10000.00  1538.78  179.28  1168.00  1423.00  1503.00   \n",
       "Torque Nm              10000.00    39.99    9.97     3.80    33.20    40.10   \n",
       "Tool wear min          10000.00   107.95   63.65     0.00    53.00   108.00   \n",
       "Target                 10000.00     0.03    0.18     0.00     0.00     0.00   \n",
       "\n",
       "                           75%      max  \n",
       "Air temperature K       301.50   304.50  \n",
       "Process temperature K   311.10   313.80  \n",
       "Rotational speed rpm   1612.00  2886.00  \n",
       "Torque Nm                46.80    76.60  \n",
       "Tool wear min           162.00   253.00  \n",
       "Target                    0.00     1.00  "
      ]
     },
     "execution_count": 345,
     "metadata": {},
     "output_type": "execute_result"
    }
   ],
   "source": [
    "df = df.drop(columns=['UDI'])\n",
    "# look at distribution\n",
    "df.describe().transpose().applymap(\"{:.2f}\".format)"
   ]
  },
  {
   "cell_type": "code",
   "execution_count": 346,
   "metadata": {},
   "outputs": [
    {
     "data": {
      "text/plain": [
       "Product ID               0\n",
       "Type                     0\n",
       "Air temperature K        0\n",
       "Process temperature K    0\n",
       "Rotational speed rpm     0\n",
       "Torque Nm                0\n",
       "Tool wear min            0\n",
       "Target                   0\n",
       "Failure Type             0\n",
       "dtype: int64"
      ]
     },
     "execution_count": 346,
     "metadata": {},
     "output_type": "execute_result"
    }
   ],
   "source": [
    "df.isna().sum()"
   ]
  },
  {
   "cell_type": "markdown",
   "metadata": {},
   "source": [
    "Since we have a synthetical dataset, we do not have any NA values. So, we do not need to further preprocess the data in that regard. In the following, we will also discard the failure type, as we want to focus on the binary classification of failure/non-failure. Including the failure type column as a feature to the algorithm would be a false predictor, as it would spoil the label since no-failure does always correspond to 0 in the target."
   ]
  },
  {
   "cell_type": "code",
   "execution_count": 347,
   "metadata": {},
   "outputs": [],
   "source": [
    "df = df.drop(columns=['Failure Type'])"
   ]
  },
  {
   "cell_type": "markdown",
   "metadata": {},
   "source": [
    "After dropping the column, we will again look at our data to decide whether we have to scale it or not."
   ]
  },
  {
   "cell_type": "code",
   "execution_count": 348,
   "metadata": {},
   "outputs": [
    {
     "data": {
      "text/html": [
       "<div>\n",
       "<style scoped>\n",
       "    .dataframe tbody tr th:only-of-type {\n",
       "        vertical-align: middle;\n",
       "    }\n",
       "\n",
       "    .dataframe tbody tr th {\n",
       "        vertical-align: top;\n",
       "    }\n",
       "\n",
       "    .dataframe thead th {\n",
       "        text-align: right;\n",
       "    }\n",
       "</style>\n",
       "<table border=\"1\" class=\"dataframe\">\n",
       "  <thead>\n",
       "    <tr style=\"text-align: right;\">\n",
       "      <th></th>\n",
       "      <th>count</th>\n",
       "      <th>mean</th>\n",
       "      <th>std</th>\n",
       "      <th>min</th>\n",
       "      <th>25%</th>\n",
       "      <th>50%</th>\n",
       "      <th>75%</th>\n",
       "      <th>max</th>\n",
       "    </tr>\n",
       "  </thead>\n",
       "  <tbody>\n",
       "    <tr>\n",
       "      <th>Air temperature K</th>\n",
       "      <td>10000.00</td>\n",
       "      <td>300.00</td>\n",
       "      <td>2.00</td>\n",
       "      <td>295.30</td>\n",
       "      <td>298.30</td>\n",
       "      <td>300.10</td>\n",
       "      <td>301.50</td>\n",
       "      <td>304.50</td>\n",
       "    </tr>\n",
       "    <tr>\n",
       "      <th>Process temperature K</th>\n",
       "      <td>10000.00</td>\n",
       "      <td>310.01</td>\n",
       "      <td>1.48</td>\n",
       "      <td>305.70</td>\n",
       "      <td>308.80</td>\n",
       "      <td>310.10</td>\n",
       "      <td>311.10</td>\n",
       "      <td>313.80</td>\n",
       "    </tr>\n",
       "    <tr>\n",
       "      <th>Rotational speed rpm</th>\n",
       "      <td>10000.00</td>\n",
       "      <td>1538.78</td>\n",
       "      <td>179.28</td>\n",
       "      <td>1168.00</td>\n",
       "      <td>1423.00</td>\n",
       "      <td>1503.00</td>\n",
       "      <td>1612.00</td>\n",
       "      <td>2886.00</td>\n",
       "    </tr>\n",
       "    <tr>\n",
       "      <th>Torque Nm</th>\n",
       "      <td>10000.00</td>\n",
       "      <td>39.99</td>\n",
       "      <td>9.97</td>\n",
       "      <td>3.80</td>\n",
       "      <td>33.20</td>\n",
       "      <td>40.10</td>\n",
       "      <td>46.80</td>\n",
       "      <td>76.60</td>\n",
       "    </tr>\n",
       "    <tr>\n",
       "      <th>Tool wear min</th>\n",
       "      <td>10000.00</td>\n",
       "      <td>107.95</td>\n",
       "      <td>63.65</td>\n",
       "      <td>0.00</td>\n",
       "      <td>53.00</td>\n",
       "      <td>108.00</td>\n",
       "      <td>162.00</td>\n",
       "      <td>253.00</td>\n",
       "    </tr>\n",
       "    <tr>\n",
       "      <th>Target</th>\n",
       "      <td>10000.00</td>\n",
       "      <td>0.03</td>\n",
       "      <td>0.18</td>\n",
       "      <td>0.00</td>\n",
       "      <td>0.00</td>\n",
       "      <td>0.00</td>\n",
       "      <td>0.00</td>\n",
       "      <td>1.00</td>\n",
       "    </tr>\n",
       "  </tbody>\n",
       "</table>\n",
       "</div>"
      ],
      "text/plain": [
       "                          count     mean     std      min      25%      50%  \\\n",
       "Air temperature K      10000.00   300.00    2.00   295.30   298.30   300.10   \n",
       "Process temperature K  10000.00   310.01    1.48   305.70   308.80   310.10   \n",
       "Rotational speed rpm   10000.00  1538.78  179.28  1168.00  1423.00  1503.00   \n",
       "Torque Nm              10000.00    39.99    9.97     3.80    33.20    40.10   \n",
       "Tool wear min          10000.00   107.95   63.65     0.00    53.00   108.00   \n",
       "Target                 10000.00     0.03    0.18     0.00     0.00     0.00   \n",
       "\n",
       "                           75%      max  \n",
       "Air temperature K       301.50   304.50  \n",
       "Process temperature K   311.10   313.80  \n",
       "Rotational speed rpm   1612.00  2886.00  \n",
       "Torque Nm                46.80    76.60  \n",
       "Tool wear min           162.00   253.00  \n",
       "Target                    0.00     1.00  "
      ]
     },
     "execution_count": 348,
     "metadata": {},
     "output_type": "execute_result"
    }
   ],
   "source": [
    "# look at distribution\n",
    "df.describe().transpose().applymap(\"{:.2f}\".format)"
   ]
  },
  {
   "cell_type": "markdown",
   "metadata": {},
   "source": [
    "We see that our scales for the different features, differ a lot. That could possibly have a big impact on the algorithms' performances. However, we do not want to do that on all the data, but rather fit the scaler on the train data only and use it on test and validation. So, we will come back to that after the train test split."
   ]
  },
  {
   "cell_type": "markdown",
   "metadata": {},
   "source": [
    "On top of that, we currently have currently have two categorical features. For the algorithms to be able to work with them in the downstream tasks, we will one-hot encode them. However, before we do that, we will get rid of the letter in the product ID, as we always have that in the type column already."
   ]
  },
  {
   "cell_type": "code",
   "execution_count": 349,
   "metadata": {},
   "outputs": [],
   "source": [
    "# we strip the letters from the numbers and use only the numbers for the Product ID\n",
    "df['Product ID'] = df['Product ID'].apply(lambda row: int(''.join(filter(str.isdigit, row))))"
   ]
  },
  {
   "cell_type": "code",
   "execution_count": 350,
   "metadata": {},
   "outputs": [
    {
     "data": {
      "text/html": [
       "<div>\n",
       "<style scoped>\n",
       "    .dataframe tbody tr th:only-of-type {\n",
       "        vertical-align: middle;\n",
       "    }\n",
       "\n",
       "    .dataframe tbody tr th {\n",
       "        vertical-align: top;\n",
       "    }\n",
       "\n",
       "    .dataframe thead th {\n",
       "        text-align: right;\n",
       "    }\n",
       "</style>\n",
       "<table border=\"1\" class=\"dataframe\">\n",
       "  <thead>\n",
       "    <tr style=\"text-align: right;\">\n",
       "      <th></th>\n",
       "      <th>Product ID</th>\n",
       "      <th>Type</th>\n",
       "      <th>Air temperature K</th>\n",
       "      <th>Process temperature K</th>\n",
       "      <th>Rotational speed rpm</th>\n",
       "      <th>Torque Nm</th>\n",
       "      <th>Tool wear min</th>\n",
       "      <th>Target</th>\n",
       "    </tr>\n",
       "  </thead>\n",
       "  <tbody>\n",
       "    <tr>\n",
       "      <th>0</th>\n",
       "      <td>14860</td>\n",
       "      <td>M</td>\n",
       "      <td>298.1</td>\n",
       "      <td>308.6</td>\n",
       "      <td>1551</td>\n",
       "      <td>42.8</td>\n",
       "      <td>0</td>\n",
       "      <td>0</td>\n",
       "    </tr>\n",
       "    <tr>\n",
       "      <th>1</th>\n",
       "      <td>47181</td>\n",
       "      <td>L</td>\n",
       "      <td>298.2</td>\n",
       "      <td>308.7</td>\n",
       "      <td>1408</td>\n",
       "      <td>46.3</td>\n",
       "      <td>3</td>\n",
       "      <td>0</td>\n",
       "    </tr>\n",
       "    <tr>\n",
       "      <th>2</th>\n",
       "      <td>47182</td>\n",
       "      <td>L</td>\n",
       "      <td>298.1</td>\n",
       "      <td>308.5</td>\n",
       "      <td>1498</td>\n",
       "      <td>49.4</td>\n",
       "      <td>5</td>\n",
       "      <td>0</td>\n",
       "    </tr>\n",
       "    <tr>\n",
       "      <th>3</th>\n",
       "      <td>47183</td>\n",
       "      <td>L</td>\n",
       "      <td>298.2</td>\n",
       "      <td>308.6</td>\n",
       "      <td>1433</td>\n",
       "      <td>39.5</td>\n",
       "      <td>7</td>\n",
       "      <td>0</td>\n",
       "    </tr>\n",
       "    <tr>\n",
       "      <th>4</th>\n",
       "      <td>47184</td>\n",
       "      <td>L</td>\n",
       "      <td>298.2</td>\n",
       "      <td>308.7</td>\n",
       "      <td>1408</td>\n",
       "      <td>40.0</td>\n",
       "      <td>9</td>\n",
       "      <td>0</td>\n",
       "    </tr>\n",
       "    <tr>\n",
       "      <th>5</th>\n",
       "      <td>14865</td>\n",
       "      <td>M</td>\n",
       "      <td>298.1</td>\n",
       "      <td>308.6</td>\n",
       "      <td>1425</td>\n",
       "      <td>41.9</td>\n",
       "      <td>11</td>\n",
       "      <td>0</td>\n",
       "    </tr>\n",
       "    <tr>\n",
       "      <th>6</th>\n",
       "      <td>47186</td>\n",
       "      <td>L</td>\n",
       "      <td>298.1</td>\n",
       "      <td>308.6</td>\n",
       "      <td>1558</td>\n",
       "      <td>42.4</td>\n",
       "      <td>14</td>\n",
       "      <td>0</td>\n",
       "    </tr>\n",
       "    <tr>\n",
       "      <th>7</th>\n",
       "      <td>47187</td>\n",
       "      <td>L</td>\n",
       "      <td>298.1</td>\n",
       "      <td>308.6</td>\n",
       "      <td>1527</td>\n",
       "      <td>40.2</td>\n",
       "      <td>16</td>\n",
       "      <td>0</td>\n",
       "    </tr>\n",
       "    <tr>\n",
       "      <th>8</th>\n",
       "      <td>14868</td>\n",
       "      <td>M</td>\n",
       "      <td>298.3</td>\n",
       "      <td>308.7</td>\n",
       "      <td>1667</td>\n",
       "      <td>28.6</td>\n",
       "      <td>18</td>\n",
       "      <td>0</td>\n",
       "    </tr>\n",
       "    <tr>\n",
       "      <th>9</th>\n",
       "      <td>14869</td>\n",
       "      <td>M</td>\n",
       "      <td>298.5</td>\n",
       "      <td>309.0</td>\n",
       "      <td>1741</td>\n",
       "      <td>28.0</td>\n",
       "      <td>21</td>\n",
       "      <td>0</td>\n",
       "    </tr>\n",
       "  </tbody>\n",
       "</table>\n",
       "</div>"
      ],
      "text/plain": [
       "   Product ID Type  Air temperature K  Process temperature K  \\\n",
       "0       14860    M              298.1                  308.6   \n",
       "1       47181    L              298.2                  308.7   \n",
       "2       47182    L              298.1                  308.5   \n",
       "3       47183    L              298.2                  308.6   \n",
       "4       47184    L              298.2                  308.7   \n",
       "5       14865    M              298.1                  308.6   \n",
       "6       47186    L              298.1                  308.6   \n",
       "7       47187    L              298.1                  308.6   \n",
       "8       14868    M              298.3                  308.7   \n",
       "9       14869    M              298.5                  309.0   \n",
       "\n",
       "   Rotational speed rpm  Torque Nm  Tool wear min  Target  \n",
       "0                  1551       42.8              0       0  \n",
       "1                  1408       46.3              3       0  \n",
       "2                  1498       49.4              5       0  \n",
       "3                  1433       39.5              7       0  \n",
       "4                  1408       40.0              9       0  \n",
       "5                  1425       41.9             11       0  \n",
       "6                  1558       42.4             14       0  \n",
       "7                  1527       40.2             16       0  \n",
       "8                  1667       28.6             18       0  \n",
       "9                  1741       28.0             21       0  "
      ]
     },
     "execution_count": 350,
     "metadata": {},
     "output_type": "execute_result"
    }
   ],
   "source": [
    "df.head(10)"
   ]
  },
  {
   "cell_type": "code",
   "execution_count": 351,
   "metadata": {},
   "outputs": [
    {
     "data": {
      "text/plain": [
       "10000"
      ]
     },
     "execution_count": 351,
     "metadata": {},
     "output_type": "execute_result"
    }
   ],
   "source": [
    "# we still see that we have no duplicate numbers\n",
    "df['Product ID'].nunique()"
   ]
  },
  {
   "cell_type": "markdown",
   "metadata": {},
   "source": [
    "We can still see that we do not have any duplicates in our column. So, the ID does not offer any further information in our downstream tasks. So, we discard this column as it has a 1:1 relationship to our index."
   ]
  },
  {
   "cell_type": "code",
   "execution_count": 352,
   "metadata": {},
   "outputs": [],
   "source": [
    "df = df.drop(columns=['Product ID'])"
   ]
  },
  {
   "cell_type": "code",
   "execution_count": 12,
   "metadata": {},
   "outputs": [
    {
     "name": "stderr",
     "output_type": "stream",
     "text": [
      "C:\\Users\\Nikla\\anaconda3\\envs\\Industrial-Applications-of-Artificial-Intelligence\\lib\\site-packages\\sklearn\\utils\\deprecation.py:87: FutureWarning: Function get_feature_names is deprecated; get_feature_names is deprecated in 1.0 and will be removed in 1.2. Please use get_feature_names_out instead.\n",
      "  warnings.warn(msg, category=FutureWarning)\n"
     ]
    },
    {
     "data": {
      "text/html": [
       "<div>\n",
       "<style scoped>\n",
       "    .dataframe tbody tr th:only-of-type {\n",
       "        vertical-align: middle;\n",
       "    }\n",
       "\n",
       "    .dataframe tbody tr th {\n",
       "        vertical-align: top;\n",
       "    }\n",
       "\n",
       "    .dataframe thead th {\n",
       "        text-align: right;\n",
       "    }\n",
       "</style>\n",
       "<table border=\"1\" class=\"dataframe\">\n",
       "  <thead>\n",
       "    <tr style=\"text-align: right;\">\n",
       "      <th></th>\n",
       "      <th>Air temperature K</th>\n",
       "      <th>Process temperature K</th>\n",
       "      <th>Rotational speed rpm</th>\n",
       "      <th>Torque Nm</th>\n",
       "      <th>Tool wear min</th>\n",
       "      <th>Target</th>\n",
       "      <th>Type_H</th>\n",
       "      <th>Type_L</th>\n",
       "      <th>Type_M</th>\n",
       "    </tr>\n",
       "  </thead>\n",
       "  <tbody>\n",
       "    <tr>\n",
       "      <th>0</th>\n",
       "      <td>298.1</td>\n",
       "      <td>308.6</td>\n",
       "      <td>1551</td>\n",
       "      <td>42.8</td>\n",
       "      <td>0</td>\n",
       "      <td>0</td>\n",
       "      <td>0.0</td>\n",
       "      <td>0.0</td>\n",
       "      <td>1.0</td>\n",
       "    </tr>\n",
       "    <tr>\n",
       "      <th>1</th>\n",
       "      <td>298.2</td>\n",
       "      <td>308.7</td>\n",
       "      <td>1408</td>\n",
       "      <td>46.3</td>\n",
       "      <td>3</td>\n",
       "      <td>0</td>\n",
       "      <td>0.0</td>\n",
       "      <td>1.0</td>\n",
       "      <td>0.0</td>\n",
       "    </tr>\n",
       "    <tr>\n",
       "      <th>2</th>\n",
       "      <td>298.1</td>\n",
       "      <td>308.5</td>\n",
       "      <td>1498</td>\n",
       "      <td>49.4</td>\n",
       "      <td>5</td>\n",
       "      <td>0</td>\n",
       "      <td>0.0</td>\n",
       "      <td>1.0</td>\n",
       "      <td>0.0</td>\n",
       "    </tr>\n",
       "    <tr>\n",
       "      <th>3</th>\n",
       "      <td>298.2</td>\n",
       "      <td>308.6</td>\n",
       "      <td>1433</td>\n",
       "      <td>39.5</td>\n",
       "      <td>7</td>\n",
       "      <td>0</td>\n",
       "      <td>0.0</td>\n",
       "      <td>1.0</td>\n",
       "      <td>0.0</td>\n",
       "    </tr>\n",
       "    <tr>\n",
       "      <th>4</th>\n",
       "      <td>298.2</td>\n",
       "      <td>308.7</td>\n",
       "      <td>1408</td>\n",
       "      <td>40.0</td>\n",
       "      <td>9</td>\n",
       "      <td>0</td>\n",
       "      <td>0.0</td>\n",
       "      <td>1.0</td>\n",
       "      <td>0.0</td>\n",
       "    </tr>\n",
       "    <tr>\n",
       "      <th>5</th>\n",
       "      <td>298.1</td>\n",
       "      <td>308.6</td>\n",
       "      <td>1425</td>\n",
       "      <td>41.9</td>\n",
       "      <td>11</td>\n",
       "      <td>0</td>\n",
       "      <td>0.0</td>\n",
       "      <td>0.0</td>\n",
       "      <td>1.0</td>\n",
       "    </tr>\n",
       "    <tr>\n",
       "      <th>6</th>\n",
       "      <td>298.1</td>\n",
       "      <td>308.6</td>\n",
       "      <td>1558</td>\n",
       "      <td>42.4</td>\n",
       "      <td>14</td>\n",
       "      <td>0</td>\n",
       "      <td>0.0</td>\n",
       "      <td>1.0</td>\n",
       "      <td>0.0</td>\n",
       "    </tr>\n",
       "    <tr>\n",
       "      <th>7</th>\n",
       "      <td>298.1</td>\n",
       "      <td>308.6</td>\n",
       "      <td>1527</td>\n",
       "      <td>40.2</td>\n",
       "      <td>16</td>\n",
       "      <td>0</td>\n",
       "      <td>0.0</td>\n",
       "      <td>1.0</td>\n",
       "      <td>0.0</td>\n",
       "    </tr>\n",
       "    <tr>\n",
       "      <th>8</th>\n",
       "      <td>298.3</td>\n",
       "      <td>308.7</td>\n",
       "      <td>1667</td>\n",
       "      <td>28.6</td>\n",
       "      <td>18</td>\n",
       "      <td>0</td>\n",
       "      <td>0.0</td>\n",
       "      <td>0.0</td>\n",
       "      <td>1.0</td>\n",
       "    </tr>\n",
       "    <tr>\n",
       "      <th>9</th>\n",
       "      <td>298.5</td>\n",
       "      <td>309.0</td>\n",
       "      <td>1741</td>\n",
       "      <td>28.0</td>\n",
       "      <td>21</td>\n",
       "      <td>0</td>\n",
       "      <td>0.0</td>\n",
       "      <td>0.0</td>\n",
       "      <td>1.0</td>\n",
       "    </tr>\n",
       "  </tbody>\n",
       "</table>\n",
       "</div>"
      ],
      "text/plain": [
       "   Air temperature K  Process temperature K  Rotational speed rpm  Torque Nm  \\\n",
       "0              298.1                  308.6                  1551       42.8   \n",
       "1              298.2                  308.7                  1408       46.3   \n",
       "2              298.1                  308.5                  1498       49.4   \n",
       "3              298.2                  308.6                  1433       39.5   \n",
       "4              298.2                  308.7                  1408       40.0   \n",
       "5              298.1                  308.6                  1425       41.9   \n",
       "6              298.1                  308.6                  1558       42.4   \n",
       "7              298.1                  308.6                  1527       40.2   \n",
       "8              298.3                  308.7                  1667       28.6   \n",
       "9              298.5                  309.0                  1741       28.0   \n",
       "\n",
       "   Tool wear min  Target  Type_H  Type_L  Type_M  \n",
       "0              0       0     0.0     0.0     1.0  \n",
       "1              3       0     0.0     1.0     0.0  \n",
       "2              5       0     0.0     1.0     0.0  \n",
       "3              7       0     0.0     1.0     0.0  \n",
       "4              9       0     0.0     1.0     0.0  \n",
       "5             11       0     0.0     0.0     1.0  \n",
       "6             14       0     0.0     1.0     0.0  \n",
       "7             16       0     0.0     1.0     0.0  \n",
       "8             18       0     0.0     0.0     1.0  \n",
       "9             21       0     0.0     0.0     1.0  "
      ]
     },
     "execution_count": 12,
     "metadata": {},
     "output_type": "execute_result"
    }
   ],
   "source": [
    "# encode type as last remaining categorical feature\n",
    "categorical_features = ['Type']\n",
    "encoder = OneHotEncoder()\n",
    "#create encoded dataframe\n",
    "encoded = pd.DataFrame(encoder.fit_transform(df[categorical_features]).toarray(), columns=encoder.get_feature_names(categorical_features))\n",
    "df_ohe = df.drop(columns=categorical_features).join(encoded)\n",
    "df_ohe.head(10)"
   ]
  },
  {
   "cell_type": "markdown",
   "metadata": {},
   "source": [
    "In a last preprocessing step, we will deeper investigate that in the following and drop a feature if it has a correlation of more than 0.8 to one of the other features (excluding the target)."
   ]
  },
  {
   "cell_type": "code",
   "execution_count": 13,
   "metadata": {},
   "outputs": [],
   "source": [
    "def drop_correlated_features(df:pd.DataFrame, thr:float) -> pd.DataFrame:\n",
    "    \"\"\"\n",
    "    Function to detect all correlated features\n",
    "    :param df: general dataframe\n",
    "    :param thr: threshold for the correlation param\n",
    "    :return: dataframe without correlated features\n",
    "    \"\"\"\n",
    "    correlated_features = set()\n",
    "    correlation_matrix = df.corr()\n",
    "\n",
    "    for i in range(len(correlation_matrix.columns)):\n",
    "        for j in range(i):\n",
    "            if abs(correlation_matrix.iloc[i, j]) > thr:\n",
    "                print(\n",
    "                    f\"The following features are correlated: {correlation_matrix.columns[i]} and {correlation_matrix.columns[j]}. Correlation = {round(abs(correlation_matrix.iloc[i, j]), 2)}\")\n",
    "                colname = correlation_matrix.columns[j]\n",
    "                correlated_features.add(colname)\n",
    "    print(f\"Drop the following features: {correlated_features}\")\n",
    "    # drop correlated features\n",
    "    df = df.drop(columns=correlated_features)\n",
    "\n",
    "    return df"
   ]
  },
  {
   "cell_type": "code",
   "execution_count": 14,
   "metadata": {},
   "outputs": [
    {
     "name": "stderr",
     "output_type": "stream",
     "text": [
      "C:\\Users\\Nikla\\AppData\\Local\\Temp\\ipykernel_20624\\3025600473.py:5: UserWarning: Matplotlib is currently using module://matplotlib_inline.backend_inline, which is a non-GUI backend, so cannot show the figure.\n",
      "  f.show()\n"
     ]
    },
    {
     "data": {
      "image/png": "[encoded data removed]",
      "text/plain": [
       "<Figure size 1008x648 with 2 Axes>"
      ]
     },
     "metadata": {
      "needs_background": "light"
     },
     "output_type": "display_data"
    }
   ],
   "source": [
    "# investigate correlation heatmap\n",
    "corrMatrix=df_ohe.corr()\n",
    "f=plt.figure(figsize=(14,9))\n",
    "sns.heatmap(corrMatrix, annot=False)\n",
    "f.show()"
   ]
  },
  {
   "cell_type": "code",
   "execution_count": 15,
   "metadata": {},
   "outputs": [
    {
     "name": "stdout",
     "output_type": "stream",
     "text": [
      "The following features are correlated: Process temperature K and Air temperature K. Correlation = 0.88\n",
      "The following features are correlated: Torque Nm and Rotational speed rpm. Correlation = 0.88\n",
      "The following features are correlated: Type_M and Type_L. Correlation = 0.8\n",
      "Drop the following features: {'Air temperature K', 'Type_L', 'Rotational speed rpm'}\n"
     ]
    }
   ],
   "source": [
    "#drop target to not use it in the correlations of the explanatory variables\n",
    "df_target = df_ohe['Target']\n",
    "df_cor = df_ohe.drop(columns=['Target'])\n",
    "# drop highly correlated features\n",
    "df_cor = drop_correlated_features(df_cor, 0.8)"
   ]
  },
  {
   "cell_type": "markdown",
   "metadata": {},
   "source": [
    "In a last step, we will again concatenate the target column to our dataframe."
   ]
  },
  {
   "cell_type": "code",
   "execution_count": 16,
   "metadata": {},
   "outputs": [
    {
     "data": {
      "text/html": [
       "<div>\n",
       "<style scoped>\n",
       "    .dataframe tbody tr th:only-of-type {\n",
       "        vertical-align: middle;\n",
       "    }\n",
       "\n",
       "    .dataframe tbody tr th {\n",
       "        vertical-align: top;\n",
       "    }\n",
       "\n",
       "    .dataframe thead th {\n",
       "        text-align: right;\n",
       "    }\n",
       "</style>\n",
       "<table border=\"1\" class=\"dataframe\">\n",
       "  <thead>\n",
       "    <tr style=\"text-align: right;\">\n",
       "      <th></th>\n",
       "      <th>Process temperature K</th>\n",
       "      <th>Torque Nm</th>\n",
       "      <th>Tool wear min</th>\n",
       "      <th>Type_H</th>\n",
       "      <th>Type_M</th>\n",
       "      <th>Target</th>\n",
       "    </tr>\n",
       "  </thead>\n",
       "  <tbody>\n",
       "    <tr>\n",
       "      <th>0</th>\n",
       "      <td>308.6</td>\n",
       "      <td>42.8</td>\n",
       "      <td>0</td>\n",
       "      <td>0.0</td>\n",
       "      <td>1.0</td>\n",
       "      <td>0</td>\n",
       "    </tr>\n",
       "    <tr>\n",
       "      <th>1</th>\n",
       "      <td>308.7</td>\n",
       "      <td>46.3</td>\n",
       "      <td>3</td>\n",
       "      <td>0.0</td>\n",
       "      <td>0.0</td>\n",
       "      <td>0</td>\n",
       "    </tr>\n",
       "    <tr>\n",
       "      <th>2</th>\n",
       "      <td>308.5</td>\n",
       "      <td>49.4</td>\n",
       "      <td>5</td>\n",
       "      <td>0.0</td>\n",
       "      <td>0.0</td>\n",
       "      <td>0</td>\n",
       "    </tr>\n",
       "    <tr>\n",
       "      <th>3</th>\n",
       "      <td>308.6</td>\n",
       "      <td>39.5</td>\n",
       "      <td>7</td>\n",
       "      <td>0.0</td>\n",
       "      <td>0.0</td>\n",
       "      <td>0</td>\n",
       "    </tr>\n",
       "    <tr>\n",
       "      <th>4</th>\n",
       "      <td>308.7</td>\n",
       "      <td>40.0</td>\n",
       "      <td>9</td>\n",
       "      <td>0.0</td>\n",
       "      <td>0.0</td>\n",
       "      <td>0</td>\n",
       "    </tr>\n",
       "  </tbody>\n",
       "</table>\n",
       "</div>"
      ],
      "text/plain": [
       "   Process temperature K  Torque Nm  Tool wear min  Type_H  Type_M  Target\n",
       "0                  308.6       42.8              0     0.0     1.0       0\n",
       "1                  308.7       46.3              3     0.0     0.0       0\n",
       "2                  308.5       49.4              5     0.0     0.0       0\n",
       "3                  308.6       39.5              7     0.0     0.0       0\n",
       "4                  308.7       40.0              9     0.0     0.0       0"
      ]
     },
     "execution_count": 16,
     "metadata": {},
     "output_type": "execute_result"
    }
   ],
   "source": [
    "df_preprocessed = pd.concat([df_cor, df_target], axis=1)\n",
    "df_preprocessed.head(5)"
   ]
  },
  {
   "cell_type": "markdown",
   "metadata": {},
   "source": [
    "We will now aggregate all our preprocessing steps in one function, that can be varied depending on settings we want to test. Such that we can easily adjust the parameters based on the setting, we want to test (e.g., keep correlated features vs. drop them)."
   ]
  },
  {
   "cell_type": "markdown",
   "metadata": {},
   "source": [
    "We are now done with preprocessing and will create a train-test split in the following that can be used in downstream tasks."
   ]
  },
  {
   "cell_type": "markdown",
   "metadata": {},
   "source": [
    "# II. Train-Test-Split"
   ]
  },
  {
   "cell_type": "markdown",
   "metadata": {},
   "source": [
    "Since we do not have a given split up into train, test and validation, we will create that in the following. We will therefore split our given data into 60% train, 20% val and 20% test. Before we do that, we will have a short look on the distribution of our target to check for an imbalanced set."
   ]
  },
  {
   "cell_type": "code",
   "execution_count": 17,
   "metadata": {},
   "outputs": [],
   "source": [
    "df_preprocessed = df_ohe"
   ]
  },
  {
   "cell_type": "code",
   "execution_count": 18,
   "metadata": {},
   "outputs": [
    {
     "data": {
      "text/plain": [
       "<AxesSubplot:>"
      ]
     },
     "execution_count": 18,
     "metadata": {},
     "output_type": "execute_result"
    },
    {
     "data": {
      "image/png": "[encoded data removed]",
      "text/plain": [
       "<Figure size 432x288 with 1 Axes>"
      ]
     },
     "metadata": {
      "needs_background": "light"
     },
     "output_type": "display_data"
    }
   ],
   "source": [
    "df_preprocessed['Target'].value_counts().plot(kind ='barh')"
   ]
  },
  {
   "cell_type": "code",
   "execution_count": 19,
   "metadata": {
    "scrolled": true
   },
   "outputs": [
    {
     "data": {
      "text/plain": [
       "0    9661\n",
       "1     339\n",
       "Name: Target, dtype: int64"
      ]
     },
     "execution_count": 19,
     "metadata": {},
     "output_type": "execute_result"
    }
   ],
   "source": [
    "df_preprocessed['Target'].value_counts()"
   ]
  },
  {
   "cell_type": "markdown",
   "metadata": {},
   "source": [
    "We can clearly see that we have an highly unbalanced dataset and therefore need to make sure to include all classes in our splitted sets via stratified sampling. The imbalance is also an indicator to use the f1-score as metric for our further downstream task instead of the accuracy, as accuracy would deliver a good result for not predicting the minor class at all."
   ]
  },
  {
   "cell_type": "code",
   "execution_count": 20,
   "metadata": {},
   "outputs": [],
   "source": [
    "# first split up in train+val and test\n",
    "data_train_val, data_test, target_train_val, target_test = train_test_split(df_preprocessed.drop(columns=['Target']), df_preprocessed['Target'], test_size=0.2, random_state=42, stratify=df_preprocessed['Target'])"
   ]
  },
  {
   "cell_type": "code",
   "execution_count": 21,
   "metadata": {},
   "outputs": [],
   "source": [
    "#  split up train+val in train and val\n",
    "data_train, data_val, target_train, target_val = train_test_split(data_train_val, target_train_val, test_size=0.2, random_state=42, stratify=target_train_val)"
   ]
  },
  {
   "cell_type": "markdown",
   "metadata": {},
   "source": [
    "We will now have a look at the values in our different sets to check wether the distribution of the target is nearly the same."
   ]
  },
  {
   "cell_type": "code",
   "execution_count": 22,
   "metadata": {},
   "outputs": [],
   "source": [
    "# define values for plots\n",
    "x = ['0','1']\n",
    "y_train = target_train.value_counts().to_list()\n",
    "y_val = target_val.value_counts().to_list()\n",
    "y_test = target_test.value_counts().to_list()"
   ]
  },
  {
   "cell_type": "code",
   "execution_count": 23,
   "metadata": {},
   "outputs": [
    {
     "data": {
      "image/png": "[encoded data removed]",
      "text/plain": [
       "<Figure size 1080x216 with 3 Axes>"
      ]
     },
     "metadata": {
      "needs_background": "light"
     },
     "output_type": "display_data"
    }
   ],
   "source": [
    "fig, (ax1, ax2, ax3) = plt.subplots(1, 3,  figsize=(15,3))\n",
    "fig.suptitle('Distribution of target in all the sets')\n",
    "ax1.bar(x, y_train)\n",
    "ax1.set_xlabel('Train')\n",
    "ax2.bar(x, y_val)\n",
    "ax2.set_xlabel('Validation')\n",
    "ax3.bar(x, y_test)\n",
    "ax3.set_xlabel('Test')\n",
    "plt.show()"
   ]
  },
  {
   "cell_type": "markdown",
   "metadata": {},
   "source": [
    "We can clearly see that the distribution is nearly the same for all our sets. As we generated the train-test-validation split in the previous step, we now want to scale the data as described earlier. This is for the reason, that different scales might actually distort our algorithm a lot due to big differences in the scales. For scaling we use the StandardScaler from the sklearn package. It should be noted that we only fit the scaler on our training data and use only the transformation on the validation and testing part, because we want to keep them completely separated."
   ]
  },
  {
   "cell_type": "code",
   "execution_count": 24,
   "metadata": {},
   "outputs": [],
   "source": [
    "# define standard scaler\n",
    "scaler = StandardScaler()\n",
    "# features to scale\n",
    "numerical_features = ['Process temperature K','Torque Nm','Tool wear min', 'Air temperature K', 'Process temperature K', 'Rotational speed rpm' ]\n",
    "# transform data\n",
    "data_train[numerical_features] = scaler.fit_transform(data_train[numerical_features])\n",
    "data_val[numerical_features] = scaler.transform(data_val[numerical_features])\n",
    "data_test[numerical_features] = scaler.transform(data_test[numerical_features])"
   ]
  },
  {
   "cell_type": "code",
   "execution_count": 25,
   "metadata": {},
   "outputs": [
    {
     "data": {
      "text/html": [
       "<div>\n",
       "<style scoped>\n",
       "    .dataframe tbody tr th:only-of-type {\n",
       "        vertical-align: middle;\n",
       "    }\n",
       "\n",
       "    .dataframe tbody tr th {\n",
       "        vertical-align: top;\n",
       "    }\n",
       "\n",
       "    .dataframe thead th {\n",
       "        text-align: right;\n",
       "    }\n",
       "</style>\n",
       "<table border=\"1\" class=\"dataframe\">\n",
       "  <thead>\n",
       "    <tr style=\"text-align: right;\">\n",
       "      <th></th>\n",
       "      <th>Air temperature K</th>\n",
       "      <th>Process temperature K</th>\n",
       "      <th>Rotational speed rpm</th>\n",
       "      <th>Torque Nm</th>\n",
       "      <th>Tool wear min</th>\n",
       "      <th>Type_H</th>\n",
       "      <th>Type_L</th>\n",
       "      <th>Type_M</th>\n",
       "    </tr>\n",
       "  </thead>\n",
       "  <tbody>\n",
       "    <tr>\n",
       "      <th>8204</th>\n",
       "      <td>-0.303801</td>\n",
       "      <td>0.605754</td>\n",
       "      <td>1.182947</td>\n",
       "      <td>-1.218791</td>\n",
       "      <td>-1.524967</td>\n",
       "      <td>0.0</td>\n",
       "      <td>1.0</td>\n",
       "      <td>0.0</td>\n",
       "    </tr>\n",
       "    <tr>\n",
       "      <th>8372</th>\n",
       "      <td>-0.604270</td>\n",
       "      <td>-0.206288</td>\n",
       "      <td>-0.508422</td>\n",
       "      <td>0.480406</td>\n",
       "      <td>-1.195608</td>\n",
       "      <td>0.0</td>\n",
       "      <td>0.0</td>\n",
       "      <td>1.0</td>\n",
       "    </tr>\n",
       "    <tr>\n",
       "      <th>292</th>\n",
       "      <td>-0.954816</td>\n",
       "      <td>-1.086000</td>\n",
       "      <td>-1.139196</td>\n",
       "      <td>0.020623</td>\n",
       "      <td>0.027726</td>\n",
       "      <td>0.0</td>\n",
       "      <td>1.0</td>\n",
       "      <td>0.0</td>\n",
       "    </tr>\n",
       "    <tr>\n",
       "      <th>4460</th>\n",
       "      <td>1.298695</td>\n",
       "      <td>0.335073</td>\n",
       "      <td>0.317726</td>\n",
       "      <td>-0.719027</td>\n",
       "      <td>1.345163</td>\n",
       "      <td>0.0</td>\n",
       "      <td>1.0</td>\n",
       "      <td>0.0</td>\n",
       "    </tr>\n",
       "    <tr>\n",
       "      <th>6499</th>\n",
       "      <td>0.447369</td>\n",
       "      <td>-0.003278</td>\n",
       "      <td>0.736381</td>\n",
       "      <td>-1.318744</td>\n",
       "      <td>1.439265</td>\n",
       "      <td>0.0</td>\n",
       "      <td>1.0</td>\n",
       "      <td>0.0</td>\n",
       "    </tr>\n",
       "  </tbody>\n",
       "</table>\n",
       "</div>"
      ],
      "text/plain": [
       "      Air temperature K  Process temperature K  Rotational speed rpm  \\\n",
       "8204          -0.303801               0.605754              1.182947   \n",
       "8372          -0.604270              -0.206288             -0.508422   \n",
       "292           -0.954816              -1.086000             -1.139196   \n",
       "4460           1.298695               0.335073              0.317726   \n",
       "6499           0.447369              -0.003278              0.736381   \n",
       "\n",
       "      Torque Nm  Tool wear min  Type_H  Type_L  Type_M  \n",
       "8204  -1.218791      -1.524967     0.0     1.0     0.0  \n",
       "8372   0.480406      -1.195608     0.0     0.0     1.0  \n",
       "292    0.020623       0.027726     0.0     1.0     0.0  \n",
       "4460  -0.719027       1.345163     0.0     1.0     0.0  \n",
       "6499  -1.318744       1.439265     0.0     1.0     0.0  "
      ]
     },
     "execution_count": 25,
     "metadata": {},
     "output_type": "execute_result"
    }
   ],
   "source": [
    "data_train.head(5)"
   ]
  },
  {
   "cell_type": "code",
   "execution_count": 26,
   "metadata": {},
   "outputs": [
    {
     "data": {
      "text/html": [
       "<div>\n",
       "<style scoped>\n",
       "    .dataframe tbody tr th:only-of-type {\n",
       "        vertical-align: middle;\n",
       "    }\n",
       "\n",
       "    .dataframe tbody tr th {\n",
       "        vertical-align: top;\n",
       "    }\n",
       "\n",
       "    .dataframe thead th {\n",
       "        text-align: right;\n",
       "    }\n",
       "</style>\n",
       "<table border=\"1\" class=\"dataframe\">\n",
       "  <thead>\n",
       "    <tr style=\"text-align: right;\">\n",
       "      <th></th>\n",
       "      <th>Air temperature K</th>\n",
       "      <th>Process temperature K</th>\n",
       "      <th>Rotational speed rpm</th>\n",
       "      <th>Torque Nm</th>\n",
       "      <th>Tool wear min</th>\n",
       "      <th>Type_H</th>\n",
       "      <th>Type_L</th>\n",
       "      <th>Type_M</th>\n",
       "    </tr>\n",
       "  </thead>\n",
       "  <tbody>\n",
       "    <tr>\n",
       "      <th>1267</th>\n",
       "      <td>-0.954816</td>\n",
       "      <td>-0.273958</td>\n",
       "      <td>0.055368</td>\n",
       "      <td>-0.129306</td>\n",
       "      <td>-1.007403</td>\n",
       "      <td>0.0</td>\n",
       "      <td>0.0</td>\n",
       "      <td>1.0</td>\n",
       "    </tr>\n",
       "    <tr>\n",
       "      <th>5085</th>\n",
       "      <td>1.999787</td>\n",
       "      <td>2.026827</td>\n",
       "      <td>-0.904749</td>\n",
       "      <td>1.599876</td>\n",
       "      <td>-0.725095</td>\n",
       "      <td>0.0</td>\n",
       "      <td>0.0</td>\n",
       "      <td>1.0</td>\n",
       "    </tr>\n",
       "    <tr>\n",
       "      <th>440</th>\n",
       "      <td>-1.305362</td>\n",
       "      <td>-1.018330</td>\n",
       "      <td>-0.837764</td>\n",
       "      <td>-0.079330</td>\n",
       "      <td>-0.834881</td>\n",
       "      <td>0.0</td>\n",
       "      <td>1.0</td>\n",
       "      <td>0.0</td>\n",
       "    </tr>\n",
       "    <tr>\n",
       "      <th>3445</th>\n",
       "      <td>0.797915</td>\n",
       "      <td>0.402743</td>\n",
       "      <td>0.334472</td>\n",
       "      <td>-0.389183</td>\n",
       "      <td>1.580419</td>\n",
       "      <td>0.0</td>\n",
       "      <td>0.0</td>\n",
       "      <td>1.0</td>\n",
       "    </tr>\n",
       "    <tr>\n",
       "      <th>1693</th>\n",
       "      <td>-1.004894</td>\n",
       "      <td>-1.695032</td>\n",
       "      <td>0.803366</td>\n",
       "      <td>-1.218791</td>\n",
       "      <td>-1.274027</td>\n",
       "      <td>1.0</td>\n",
       "      <td>0.0</td>\n",
       "      <td>0.0</td>\n",
       "    </tr>\n",
       "  </tbody>\n",
       "</table>\n",
       "</div>"
      ],
      "text/plain": [
       "      Air temperature K  Process temperature K  Rotational speed rpm  \\\n",
       "1267          -0.954816              -0.273958              0.055368   \n",
       "5085           1.999787               2.026827             -0.904749   \n",
       "440           -1.305362              -1.018330             -0.837764   \n",
       "3445           0.797915               0.402743              0.334472   \n",
       "1693          -1.004894              -1.695032              0.803366   \n",
       "\n",
       "      Torque Nm  Tool wear min  Type_H  Type_L  Type_M  \n",
       "1267  -0.129306      -1.007403     0.0     0.0     1.0  \n",
       "5085   1.599876      -0.725095     0.0     0.0     1.0  \n",
       "440   -0.079330      -0.834881     0.0     1.0     0.0  \n",
       "3445  -0.389183       1.580419     0.0     0.0     1.0  \n",
       "1693  -1.218791      -1.274027     1.0     0.0     0.0  "
      ]
     },
     "execution_count": 26,
     "metadata": {},
     "output_type": "execute_result"
    }
   ],
   "source": [
    "data_val.head(5)"
   ]
  },
  {
   "cell_type": "code",
   "execution_count": 27,
   "metadata": {},
   "outputs": [
    {
     "data": {
      "text/html": [
       "<div>\n",
       "<style scoped>\n",
       "    .dataframe tbody tr th:only-of-type {\n",
       "        vertical-align: middle;\n",
       "    }\n",
       "\n",
       "    .dataframe tbody tr th {\n",
       "        vertical-align: top;\n",
       "    }\n",
       "\n",
       "    .dataframe thead th {\n",
       "        text-align: right;\n",
       "    }\n",
       "</style>\n",
       "<table border=\"1\" class=\"dataframe\">\n",
       "  <thead>\n",
       "    <tr style=\"text-align: right;\">\n",
       "      <th></th>\n",
       "      <th>Air temperature K</th>\n",
       "      <th>Process temperature K</th>\n",
       "      <th>Rotational speed rpm</th>\n",
       "      <th>Torque Nm</th>\n",
       "      <th>Tool wear min</th>\n",
       "      <th>Type_H</th>\n",
       "      <th>Type_L</th>\n",
       "      <th>Type_M</th>\n",
       "    </tr>\n",
       "  </thead>\n",
       "  <tbody>\n",
       "    <tr>\n",
       "      <th>2997</th>\n",
       "      <td>0.247057</td>\n",
       "      <td>-0.138618</td>\n",
       "      <td>-1.083375</td>\n",
       "      <td>2.269560</td>\n",
       "      <td>0.717812</td>\n",
       "      <td>0.0</td>\n",
       "      <td>1.0</td>\n",
       "      <td>0.0</td>\n",
       "    </tr>\n",
       "    <tr>\n",
       "      <th>4871</th>\n",
       "      <td>1.849553</td>\n",
       "      <td>1.620806</td>\n",
       "      <td>-0.145587</td>\n",
       "      <td>0.010628</td>\n",
       "      <td>0.435504</td>\n",
       "      <td>0.0</td>\n",
       "      <td>1.0</td>\n",
       "      <td>0.0</td>\n",
       "    </tr>\n",
       "    <tr>\n",
       "      <th>3858</th>\n",
       "      <td>1.248617</td>\n",
       "      <td>0.944104</td>\n",
       "      <td>0.111189</td>\n",
       "      <td>-0.239254</td>\n",
       "      <td>1.596103</td>\n",
       "      <td>0.0</td>\n",
       "      <td>1.0</td>\n",
       "      <td>0.0</td>\n",
       "    </tr>\n",
       "    <tr>\n",
       "      <th>951</th>\n",
       "      <td>-2.206766</td>\n",
       "      <td>-2.507073</td>\n",
       "      <td>-0.167915</td>\n",
       "      <td>-0.419169</td>\n",
       "      <td>-0.740779</td>\n",
       "      <td>1.0</td>\n",
       "      <td>0.0</td>\n",
       "      <td>0.0</td>\n",
       "    </tr>\n",
       "    <tr>\n",
       "      <th>6463</th>\n",
       "      <td>0.247057</td>\n",
       "      <td>-0.003278</td>\n",
       "      <td>-1.010808</td>\n",
       "      <td>2.039668</td>\n",
       "      <td>-0.082060</td>\n",
       "      <td>1.0</td>\n",
       "      <td>0.0</td>\n",
       "      <td>0.0</td>\n",
       "    </tr>\n",
       "  </tbody>\n",
       "</table>\n",
       "</div>"
      ],
      "text/plain": [
       "      Air temperature K  Process temperature K  Rotational speed rpm  \\\n",
       "2997           0.247057              -0.138618             -1.083375   \n",
       "4871           1.849553               1.620806             -0.145587   \n",
       "3858           1.248617               0.944104              0.111189   \n",
       "951           -2.206766              -2.507073             -0.167915   \n",
       "6463           0.247057              -0.003278             -1.010808   \n",
       "\n",
       "      Torque Nm  Tool wear min  Type_H  Type_L  Type_M  \n",
       "2997   2.269560       0.717812     0.0     1.0     0.0  \n",
       "4871   0.010628       0.435504     0.0     1.0     0.0  \n",
       "3858  -0.239254       1.596103     0.0     1.0     0.0  \n",
       "951   -0.419169      -0.740779     1.0     0.0     0.0  \n",
       "6463   2.039668      -0.082060     1.0     0.0     0.0  "
      ]
     },
     "execution_count": 27,
     "metadata": {},
     "output_type": "execute_result"
    }
   ],
   "source": [
    "data_test.head(5)"
   ]
  },
  {
   "cell_type": "markdown",
   "metadata": {},
   "source": [
    "Since we have scaled the data, we can now continue with our baseline."
   ]
  },
  {
   "cell_type": "markdown",
   "metadata": {},
   "source": [
    "# III. Baseline"
   ]
  },
  {
   "cell_type": "markdown",
   "metadata": {},
   "source": [
    "Our baseline will be an easy prediction using only the majority class for our validation set. Therefore all our values will be set to 0. Since we want to get the f1_score weighted over all classes, we use the macro averaged one to better understand the performance."
   ]
  },
  {
   "cell_type": "code",
   "execution_count": 28,
   "metadata": {},
   "outputs": [
    {
     "name": "stdout",
     "output_type": "stream",
     "text": [
      "The Accuracy on the validation set: 0.9663\n",
      "The F1-Score micro on the validation set: 0.4914\n",
      "The Precision on the validation set: 0.4831\n",
      "The Recall on the validation set: 0.5000\n",
      "Confusion Matrix : \n",
      "[[1546    0]\n",
      " [  54    0]]\n"
     ]
    },
    {
     "name": "stderr",
     "output_type": "stream",
     "text": [
      "C:\\Users\\Nikla\\anaconda3\\envs\\Industrial-Applications-of-Artificial-Intelligence\\lib\\site-packages\\sklearn\\metrics\\_classification.py:1318: UndefinedMetricWarning: Precision is ill-defined and being set to 0.0 in labels with no predicted samples. Use `zero_division` parameter to control this behavior.\n",
      "  _warn_prf(average, modifier, msg_start, len(result))\n"
     ]
    }
   ],
   "source": [
    "prediction = np.zeros(len(target_val))\n",
    "acc = accuracy_score(target_val,prediction) \n",
    "f1= f1_score(target_val,prediction, average = 'macro') \n",
    "precision = precision_score(target_val,prediction, average = 'macro')\n",
    "recall = recall_score(target_val,prediction, average = 'macro')\n",
    "print(\"The Accuracy on the validation set: {:.4f}\".format(acc))\n",
    "print(\"The F1-Score micro on the validation set: {:.4f}\".format(f1))\n",
    "print(\"The Precision on the validation set: {:.4f}\".format(precision))\n",
    "print(\"The Recall on the validation set: {:.4f}\".format(recall))\n",
    "print('Confusion Matrix : \\n' + str(confusion_matrix(target_val,prediction)))"
   ]
  },
  {
   "cell_type": "markdown",
   "metadata": {},
   "source": [
    "We can clearly see that our model is worse that guessing, as we are only predicting the major class. However, as already indicated, one could also see that we do have a pretty high accuracy, as our dataset is extremly imbalanced, as failures occur normally far less than no failures. That is the reason, why accuracy is not a good measure in our case and we will focus on the f1_score."
   ]
  },
  {
   "cell_type": "markdown",
   "metadata": {},
   "source": [
    "# IV. Modelling"
   ]
  },
  {
   "cell_type": "markdown",
   "metadata": {},
   "source": [
    "In the following, we will first try out some models and see how they behave with their default values, afterwards we will focus on 1 or 2 models for extensive training to achieve better results."
   ]
  },
  {
   "cell_type": "markdown",
   "metadata": {},
   "source": [
    "### Logistic Regression"
   ]
  },
  {
   "cell_type": "code",
   "execution_count": 29,
   "metadata": {},
   "outputs": [
    {
     "name": "stdout",
     "output_type": "stream",
     "text": [
      "CV-average F1-score: 0.6402\n",
      "The F1-Score micro on the validation set: 0.6544\n",
      "The Precision on the validation set: 0.8793\n",
      "The Recall on the validation set: 0.6009\n",
      "Confusion Matrix : \n",
      "[[1543    3]\n",
      " [  43   11]]\n"
     ]
    }
   ],
   "source": [
    "lr = LogisticRegression()\n",
    "cross_val=cross_val_score(lr, data_train, target_train, cv=5, scoring='f1_macro')\n",
    "lr.fit(data_train,target_train)\n",
    "prediction = lr.predict(data_val)\n",
    "f1= f1_score(target_val,prediction, average = 'macro') \n",
    "precision = precision_score(target_val,prediction, average = 'macro')\n",
    "recall = recall_score(target_val,prediction, average = 'macro')\n",
    "print(\"CV-average F1-score: %.4f\" % cross_val.mean())\n",
    "print(\"The F1-Score micro on the validation set: {:.4f}\".format(f1))\n",
    "print(\"The Precision on the validation set: {:.4f}\".format(precision))\n",
    "print(\"The Recall on the validation set: {:.4f}\".format(recall))\n",
    "print('Confusion Matrix : \\n' + str(confusion_matrix(target_val,prediction)))"
   ]
  },
  {
   "cell_type": "markdown",
   "metadata": {},
   "source": [
    "### SVM"
   ]
  },
  {
   "cell_type": "code",
   "execution_count": 30,
   "metadata": {},
   "outputs": [
    {
     "name": "stdout",
     "output_type": "stream",
     "text": [
      "CV-average F1-score: 0.6623\n",
      "The F1-Score micro on the validation set: 0.7158\n",
      "The Precision on the validation set: 0.9324\n",
      "The Recall on the validation set: 0.6475\n",
      "Confusion Matrix : \n",
      "[[1544    2]\n",
      " [  38   16]]\n"
     ]
    }
   ],
   "source": [
    "svc = SVC()\n",
    "cross_val=cross_val_score(svc, data_train, target_train, cv=5, scoring='f1_macro')\n",
    "svc.fit(data_train,target_train)\n",
    "prediction = svc.predict(data_val)\n",
    "f1= f1_score(target_val,prediction, average = 'macro') \n",
    "precision = precision_score(target_val,prediction, average = 'macro')\n",
    "recall = recall_score(target_val,prediction, average = 'macro')\n",
    "print(\"CV-average F1-score: %.4f\" % cross_val.mean())\n",
    "print(\"The F1-Score micro on the validation set: {:.4f}\".format(f1))\n",
    "print(\"The Precision on the validation set: {:.4f}\".format(precision))\n",
    "print(\"The Recall on the validation set: {:.4f}\".format(recall))\n",
    "print('Confusion Matrix : \\n' + str(confusion_matrix(target_val,prediction)))"
   ]
  },
  {
   "cell_type": "markdown",
   "metadata": {},
   "source": [
    "### Naive Bayes"
   ]
  },
  {
   "cell_type": "code",
   "execution_count": 31,
   "metadata": {},
   "outputs": [
    {
     "name": "stdout",
     "output_type": "stream",
     "text": [
      "CV-average F1-score: 0.6316\n",
      "The F1-Score micro on the validation set: 0.6602\n",
      "The Precision on the validation set: 0.6878\n",
      "The Recall on the validation set: 0.6404\n",
      "Confusion Matrix : \n",
      "[[1522   24]\n",
      " [  38   16]]\n"
     ]
    }
   ],
   "source": [
    "nb=GaussianNB()\n",
    "cross_val=cross_val_score(nb, data_train, target_train, cv=5, scoring='f1_macro')\n",
    "nb.fit(data_train,target_train)\n",
    "prediction = nb.predict(data_val)\n",
    "f1= f1_score(target_val,prediction, average = 'macro') \n",
    "precision = precision_score(target_val,prediction, average = 'macro')\n",
    "recall = recall_score(target_val,prediction, average = 'macro')\n",
    "print(\"CV-average F1-score: %.4f\" % cross_val.mean())\n",
    "print(\"The F1-Score micro on the validation set: {:.4f}\".format(f1))\n",
    "print(\"The Precision on the validation set: {:.4f}\".format(precision))\n",
    "print(\"The Recall on the validation set: {:.4f}\".format(recall))\n",
    "print('Confusion Matrix : \\n' + str(confusion_matrix(target_val,prediction)))"
   ]
  },
  {
   "cell_type": "markdown",
   "metadata": {},
   "source": [
    "### Random Forest"
   ]
  },
  {
   "cell_type": "code",
   "execution_count": 32,
   "metadata": {
    "scrolled": true
   },
   "outputs": [
    {
     "name": "stdout",
     "output_type": "stream",
     "text": [
      "CV-average F1-score: 0.8022\n",
      "The F1-Score micro on the validation set: 0.8327\n",
      "The Precision on the validation set: 0.9452\n",
      "The Recall on the validation set: 0.7675\n",
      "Confusion Matrix : \n",
      "[[1543    3]\n",
      " [  25   29]]\n"
     ]
    }
   ],
   "source": [
    "rf = RandomForestClassifier()\n",
    "cross_val=cross_val_score(rf, data_train, target_train, cv=5,scoring='f1_macro')\n",
    "rf.fit(data_train, target_train)\n",
    "prediction = rf.predict(data_val)\n",
    "f1= f1_score(target_val,prediction, average = 'macro') \n",
    "precision = precision_score(target_val,prediction, average = 'macro')\n",
    "recall = recall_score(target_val,prediction, average = 'macro')\n",
    "print(\"CV-average F1-score: %.4f\" % cross_val.mean())\n",
    "print(\"The F1-Score micro on the validation set: {:.4f}\".format(f1))\n",
    "print(\"The Precision on the validation set: {:.4f}\".format(precision))\n",
    "print(\"The Recall on the validation set: {:.4f}\".format(recall))\n",
    "print('Confusion Matrix : \\n' + str(confusion_matrix(target_val,prediction)))"
   ]
  },
  {
   "cell_type": "markdown",
   "metadata": {},
   "source": [
    "### XGBoost"
   ]
  },
  {
   "cell_type": "code",
   "execution_count": 33,
   "metadata": {
    "scrolled": true
   },
   "outputs": [
    {
     "name": "stdout",
     "output_type": "stream",
     "text": [
      "[16:56:58] WARNING: C:/Users/Administrator/workspace/xgboost-win64_release_1.5.1/src/learner.cc:1115: Starting in XGBoost 1.3.0, the default evaluation metric used with the objective 'binary:logistic' was changed from 'error' to 'logloss'. Explicitly set eval_metric if you'd like to restore the old behavior.\n"
     ]
    },
    {
     "name": "stderr",
     "output_type": "stream",
     "text": [
      "C:\\Users\\Nikla\\anaconda3\\envs\\Industrial-Applications-of-Artificial-Intelligence\\lib\\site-packages\\xgboost\\sklearn.py:1224: UserWarning: The use of label encoder in XGBClassifier is deprecated and will be removed in a future release. To remove this warning, do the following: 1) Pass option use_label_encoder=False when constructing XGBClassifier object; and 2) Encode your labels (y) as integers starting with 0, i.e. 0, 1, 2, ..., [num_class - 1].\n",
      "  warnings.warn(label_encoder_deprecation_msg, UserWarning)\n",
      "C:\\Users\\Nikla\\anaconda3\\envs\\Industrial-Applications-of-Artificial-Intelligence\\lib\\site-packages\\xgboost\\data.py:262: FutureWarning: pandas.Int64Index is deprecated and will be removed from pandas in a future version. Use pandas.Index with the appropriate dtype instead.\n",
      "  elif isinstance(data.columns, (pd.Int64Index, pd.RangeIndex)):\n",
      "C:\\Users\\Nikla\\anaconda3\\envs\\Industrial-Applications-of-Artificial-Intelligence\\lib\\site-packages\\xgboost\\sklearn.py:1224: UserWarning: The use of label encoder in XGBClassifier is deprecated and will be removed in a future release. To remove this warning, do the following: 1) Pass option use_label_encoder=False when constructing XGBClassifier object; and 2) Encode your labels (y) as integers starting with 0, i.e. 0, 1, 2, ..., [num_class - 1].\n",
      "  warnings.warn(label_encoder_deprecation_msg, UserWarning)\n",
      "C:\\Users\\Nikla\\anaconda3\\envs\\Industrial-Applications-of-Artificial-Intelligence\\lib\\site-packages\\xgboost\\data.py:262: FutureWarning: pandas.Int64Index is deprecated and will be removed from pandas in a future version. Use pandas.Index with the appropriate dtype instead.\n",
      "  elif isinstance(data.columns, (pd.Int64Index, pd.RangeIndex)):\n"
     ]
    },
    {
     "name": "stdout",
     "output_type": "stream",
     "text": [
      "[16:56:58] WARNING: C:/Users/Administrator/workspace/xgboost-win64_release_1.5.1/src/learner.cc:1115: Starting in XGBoost 1.3.0, the default evaluation metric used with the objective 'binary:logistic' was changed from 'error' to 'logloss'. Explicitly set eval_metric if you'd like to restore the old behavior.\n"
     ]
    },
    {
     "name": "stderr",
     "output_type": "stream",
     "text": [
      "C:\\Users\\Nikla\\anaconda3\\envs\\Industrial-Applications-of-Artificial-Intelligence\\lib\\site-packages\\xgboost\\sklearn.py:1224: UserWarning: The use of label encoder in XGBClassifier is deprecated and will be removed in a future release. To remove this warning, do the following: 1) Pass option use_label_encoder=False when constructing XGBClassifier object; and 2) Encode your labels (y) as integers starting with 0, i.e. 0, 1, 2, ..., [num_class - 1].\n",
      "  warnings.warn(label_encoder_deprecation_msg, UserWarning)\n",
      "C:\\Users\\Nikla\\anaconda3\\envs\\Industrial-Applications-of-Artificial-Intelligence\\lib\\site-packages\\xgboost\\data.py:262: FutureWarning: pandas.Int64Index is deprecated and will be removed from pandas in a future version. Use pandas.Index with the appropriate dtype instead.\n",
      "  elif isinstance(data.columns, (pd.Int64Index, pd.RangeIndex)):\n"
     ]
    },
    {
     "name": "stdout",
     "output_type": "stream",
     "text": [
      "[16:56:58] WARNING: C:/Users/Administrator/workspace/xgboost-win64_release_1.5.1/src/learner.cc:1115: Starting in XGBoost 1.3.0, the default evaluation metric used with the objective 'binary:logistic' was changed from 'error' to 'logloss'. Explicitly set eval_metric if you'd like to restore the old behavior.\n"
     ]
    },
    {
     "name": "stderr",
     "output_type": "stream",
     "text": [
      "C:\\Users\\Nikla\\anaconda3\\envs\\Industrial-Applications-of-Artificial-Intelligence\\lib\\site-packages\\xgboost\\sklearn.py:1224: UserWarning: The use of label encoder in XGBClassifier is deprecated and will be removed in a future release. To remove this warning, do the following: 1) Pass option use_label_encoder=False when constructing XGBClassifier object; and 2) Encode your labels (y) as integers starting with 0, i.e. 0, 1, 2, ..., [num_class - 1].\n",
      "  warnings.warn(label_encoder_deprecation_msg, UserWarning)\n",
      "C:\\Users\\Nikla\\anaconda3\\envs\\Industrial-Applications-of-Artificial-Intelligence\\lib\\site-packages\\xgboost\\data.py:262: FutureWarning: pandas.Int64Index is deprecated and will be removed from pandas in a future version. Use pandas.Index with the appropriate dtype instead.\n",
      "  elif isinstance(data.columns, (pd.Int64Index, pd.RangeIndex)):\n"
     ]
    },
    {
     "name": "stdout",
     "output_type": "stream",
     "text": [
      "[16:56:59] WARNING: C:/Users/Administrator/workspace/xgboost-win64_release_1.5.1/src/learner.cc:1115: Starting in XGBoost 1.3.0, the default evaluation metric used with the objective 'binary:logistic' was changed from 'error' to 'logloss'. Explicitly set eval_metric if you'd like to restore the old behavior.\n"
     ]
    },
    {
     "name": "stderr",
     "output_type": "stream",
     "text": [
      "C:\\Users\\Nikla\\anaconda3\\envs\\Industrial-Applications-of-Artificial-Intelligence\\lib\\site-packages\\xgboost\\sklearn.py:1224: UserWarning: The use of label encoder in XGBClassifier is deprecated and will be removed in a future release. To remove this warning, do the following: 1) Pass option use_label_encoder=False when constructing XGBClassifier object; and 2) Encode your labels (y) as integers starting with 0, i.e. 0, 1, 2, ..., [num_class - 1].\n",
      "  warnings.warn(label_encoder_deprecation_msg, UserWarning)\n",
      "C:\\Users\\Nikla\\anaconda3\\envs\\Industrial-Applications-of-Artificial-Intelligence\\lib\\site-packages\\xgboost\\data.py:262: FutureWarning: pandas.Int64Index is deprecated and will be removed from pandas in a future version. Use pandas.Index with the appropriate dtype instead.\n",
      "  elif isinstance(data.columns, (pd.Int64Index, pd.RangeIndex)):\n"
     ]
    },
    {
     "name": "stdout",
     "output_type": "stream",
     "text": [
      "[16:56:59] WARNING: C:/Users/Administrator/workspace/xgboost-win64_release_1.5.1/src/learner.cc:1115: Starting in XGBoost 1.3.0, the default evaluation metric used with the objective 'binary:logistic' was changed from 'error' to 'logloss'. Explicitly set eval_metric if you'd like to restore the old behavior.\n"
     ]
    },
    {
     "name": "stderr",
     "output_type": "stream",
     "text": [
      "C:\\Users\\Nikla\\anaconda3\\envs\\Industrial-Applications-of-Artificial-Intelligence\\lib\\site-packages\\xgboost\\sklearn.py:1224: UserWarning: The use of label encoder in XGBClassifier is deprecated and will be removed in a future release. To remove this warning, do the following: 1) Pass option use_label_encoder=False when constructing XGBClassifier object; and 2) Encode your labels (y) as integers starting with 0, i.e. 0, 1, 2, ..., [num_class - 1].\n",
      "  warnings.warn(label_encoder_deprecation_msg, UserWarning)\n",
      "C:\\Users\\Nikla\\anaconda3\\envs\\Industrial-Applications-of-Artificial-Intelligence\\lib\\site-packages\\xgboost\\data.py:262: FutureWarning: pandas.Int64Index is deprecated and will be removed from pandas in a future version. Use pandas.Index with the appropriate dtype instead.\n",
      "  elif isinstance(data.columns, (pd.Int64Index, pd.RangeIndex)):\n"
     ]
    },
    {
     "name": "stdout",
     "output_type": "stream",
     "text": [
      "[16:56:59] WARNING: C:/Users/Administrator/workspace/xgboost-win64_release_1.5.1/src/learner.cc:1115: Starting in XGBoost 1.3.0, the default evaluation metric used with the objective 'binary:logistic' was changed from 'error' to 'logloss'. Explicitly set eval_metric if you'd like to restore the old behavior.\n",
      "CV-average F1-score: 0.8742\n",
      "The F1-Score micro on the validation set: 0.8644\n",
      "The Precision on the validation set: 0.9207\n",
      "The Recall on the validation set: 0.8221\n",
      "Confusion Matrix : \n",
      "[[1540    6]\n",
      " [  19   35]]\n"
     ]
    }
   ],
   "source": [
    "xgb = XGBClassifier()\n",
    "cross_val=cross_val_score(xgb, data_train, target_train, cv=5, scoring='f1_macro')\n",
    "xgb.fit(data_train, target_train)\n",
    "prediction = xgb.predict(data_val)\n",
    "f1= f1_score(target_val,prediction, average = 'macro') \n",
    "precision = precision_score(target_val,prediction, average = 'macro')\n",
    "recall = recall_score(target_val,prediction, average = 'macro')\n",
    "print(\"CV-average F1-score: %.4f\" % cross_val.mean())\n",
    "print(\"The F1-Score micro on the validation set: {:.4f}\".format(f1))\n",
    "print(\"The Precision on the validation set: {:.4f}\".format(precision))\n",
    "print(\"The Recall on the validation set: {:.4f}\".format(recall))\n",
    "print('Confusion Matrix : \\n' + str(confusion_matrix(target_val,prediction)))"
   ]
  },
  {
   "cell_type": "markdown",
   "metadata": {},
   "source": [
    "### MLP Classifier"
   ]
  },
  {
   "cell_type": "code",
   "execution_count": 34,
   "metadata": {},
   "outputs": [
    {
     "name": "stderr",
     "output_type": "stream",
     "text": [
      "C:\\Users\\Nikla\\anaconda3\\envs\\Industrial-Applications-of-Artificial-Intelligence\\lib\\site-packages\\sklearn\\neural_network\\_multilayer_perceptron.py:692: ConvergenceWarning: Stochastic Optimizer: Maximum iterations (200) reached and the optimization hasn't converged yet.\n",
      "  warnings.warn(\n",
      "C:\\Users\\Nikla\\anaconda3\\envs\\Industrial-Applications-of-Artificial-Intelligence\\lib\\site-packages\\sklearn\\neural_network\\_multilayer_perceptron.py:692: ConvergenceWarning: Stochastic Optimizer: Maximum iterations (200) reached and the optimization hasn't converged yet.\n",
      "  warnings.warn(\n",
      "C:\\Users\\Nikla\\anaconda3\\envs\\Industrial-Applications-of-Artificial-Intelligence\\lib\\site-packages\\sklearn\\neural_network\\_multilayer_perceptron.py:692: ConvergenceWarning: Stochastic Optimizer: Maximum iterations (200) reached and the optimization hasn't converged yet.\n",
      "  warnings.warn(\n",
      "C:\\Users\\Nikla\\anaconda3\\envs\\Industrial-Applications-of-Artificial-Intelligence\\lib\\site-packages\\sklearn\\neural_network\\_multilayer_perceptron.py:692: ConvergenceWarning: Stochastic Optimizer: Maximum iterations (200) reached and the optimization hasn't converged yet.\n",
      "  warnings.warn(\n",
      "C:\\Users\\Nikla\\anaconda3\\envs\\Industrial-Applications-of-Artificial-Intelligence\\lib\\site-packages\\sklearn\\neural_network\\_multilayer_perceptron.py:692: ConvergenceWarning: Stochastic Optimizer: Maximum iterations (200) reached and the optimization hasn't converged yet.\n",
      "  warnings.warn(\n"
     ]
    },
    {
     "name": "stdout",
     "output_type": "stream",
     "text": [
      "CV-average F1-score: 0.8060\n",
      "The F1-Score micro on the validation set: 0.8285\n",
      "The Precision on the validation set: 0.9090\n",
      "The Recall on the validation set: 0.7758\n",
      "Confusion Matrix : \n",
      "[[1540    6]\n",
      " [  24   30]]\n"
     ]
    },
    {
     "name": "stderr",
     "output_type": "stream",
     "text": [
      "C:\\Users\\Nikla\\anaconda3\\envs\\Industrial-Applications-of-Artificial-Intelligence\\lib\\site-packages\\sklearn\\neural_network\\_multilayer_perceptron.py:692: ConvergenceWarning: Stochastic Optimizer: Maximum iterations (200) reached and the optimization hasn't converged yet.\n",
      "  warnings.warn(\n"
     ]
    }
   ],
   "source": [
    "mlp=MLPClassifier()\n",
    "cross_val=cross_val_score(mlp, data_train, target_train, cv=5, scoring='f1_macro')\n",
    "mlp.fit(data_train,target_train)\n",
    "prediction = mlp.predict(data_val)\n",
    "f1= f1_score(target_val,prediction, average = 'macro') \n",
    "precision = precision_score(target_val,prediction, average = 'macro')\n",
    "recall = recall_score(target_val,prediction, average = 'macro')\n",
    "print(\"CV-average F1-score: %.4f\" % cross_val.mean())\n",
    "print(\"The F1-Score micro on the validation set: {:.4f}\".format(f1))\n",
    "print(\"The Precision on the validation set: {:.4f}\".format(precision))\n",
    "print(\"The Recall on the validation set: {:.4f}\".format(recall))\n",
    "print('Confusion Matrix : \\n' + str(confusion_matrix(target_val,prediction)))"
   ]
  },
  {
   "cell_type": "markdown",
   "metadata": {},
   "source": [
    "We have now fitted some models and see the scores with 5-fold cross-validation on our training data. We can clearly see, that all the models perform better than our baseline with random forest, xgboost and the multi-layer perceptron performing far better than the rest. That was to be expected, as those models are already more sophisticated due to ensemble methods and mlp more intensive as neural network than naive bayes, logistic regression and support vector classification."
   ]
  },
  {
   "cell_type": "markdown",
   "metadata": {},
   "source": [
    "However, as we can see the models make different mistakes. So, it can be useful to combine them in an ensemble strategy."
   ]
  },
  {
   "cell_type": "code",
   "execution_count": 35,
   "metadata": {
    "scrolled": true
   },
   "outputs": [
    {
     "name": "stderr",
     "output_type": "stream",
     "text": [
      "C:\\Users\\Nikla\\anaconda3\\envs\\Industrial-Applications-of-Artificial-Intelligence\\lib\\site-packages\\xgboost\\sklearn.py:1224: UserWarning: The use of label encoder in XGBClassifier is deprecated and will be removed in a future release. To remove this warning, do the following: 1) Pass option use_label_encoder=False when constructing XGBClassifier object; and 2) Encode your labels (y) as integers starting with 0, i.e. 0, 1, 2, ..., [num_class - 1].\n",
      "  warnings.warn(label_encoder_deprecation_msg, UserWarning)\n",
      "C:\\Users\\Nikla\\anaconda3\\envs\\Industrial-Applications-of-Artificial-Intelligence\\lib\\site-packages\\xgboost\\data.py:262: FutureWarning: pandas.Int64Index is deprecated and will be removed from pandas in a future version. Use pandas.Index with the appropriate dtype instead.\n",
      "  elif isinstance(data.columns, (pd.Int64Index, pd.RangeIndex)):\n"
     ]
    },
    {
     "name": "stdout",
     "output_type": "stream",
     "text": [
      "[16:57:46] WARNING: C:/Users/Administrator/workspace/xgboost-win64_release_1.5.1/src/learner.cc:1115: Starting in XGBoost 1.3.0, the default evaluation metric used with the objective 'binary:logistic' was changed from 'error' to 'logloss'. Explicitly set eval_metric if you'd like to restore the old behavior.\n"
     ]
    },
    {
     "name": "stderr",
     "output_type": "stream",
     "text": [
      "C:\\Users\\Nikla\\anaconda3\\envs\\Industrial-Applications-of-Artificial-Intelligence\\lib\\site-packages\\sklearn\\neural_network\\_multilayer_perceptron.py:692: ConvergenceWarning: Stochastic Optimizer: Maximum iterations (200) reached and the optimization hasn't converged yet.\n",
      "  warnings.warn(\n"
     ]
    },
    {
     "name": "stdout",
     "output_type": "stream",
     "text": [
      "CV-average F1-score: 0.8060\n",
      "The F1-Score micro on the validation set: 0.7997\n",
      "The Precision on the validation set: 0.9372\n",
      "The Recall on the validation set: 0.7305\n",
      "Confusion Matrix : \n",
      "[[1543    3]\n",
      " [  29   25]]\n"
     ]
    },
    {
     "name": "stderr",
     "output_type": "stream",
     "text": [
      "C:\\Users\\Nikla\\anaconda3\\envs\\Industrial-Applications-of-Artificial-Intelligence\\lib\\site-packages\\xgboost\\data.py:262: FutureWarning: pandas.Int64Index is deprecated and will be removed from pandas in a future version. Use pandas.Index with the appropriate dtype instead.\n",
      "  elif isinstance(data.columns, (pd.Int64Index, pd.RangeIndex)):\n"
     ]
    }
   ],
   "source": [
    "lr = LogisticRegression()\n",
    "nb=GaussianNB()\n",
    "svc = SVC()\n",
    "rf = RandomForestClassifier()\n",
    "xgb = XGBClassifier()\n",
    "mlp=MLPClassifier()\n",
    "\n",
    "\n",
    "vo_cl = VotingClassifier([ ('nb', nb),('svc',svc), ('rf',rf), ('xgb',xgb), ('mlp',mlp)])\n",
    "vo_cl.fit(data_train, target_train)\n",
    "prediction = vo_cl.predict(data_val)\n",
    "f1= f1_score(target_val,prediction, average = 'macro') \n",
    "precision = precision_score(target_val,prediction, average = 'macro')\n",
    "recall = recall_score(target_val,prediction, average = 'macro')\n",
    "print(\"CV-average F1-score: %.4f\" % cross_val.mean())\n",
    "print(\"The F1-Score micro on the validation set: {:.4f}\".format(f1))\n",
    "print(\"The Precision on the validation set: {:.4f}\".format(precision))\n",
    "print(\"The Recall on the validation set: {:.4f}\".format(recall))\n",
    "print('Confusion Matrix : \\n' + str(confusion_matrix(target_val,prediction)))"
   ]
  },
  {
   "cell_type": "markdown",
   "metadata": {},
   "source": [
    "After using a lot of different settings, it seems like the voting ensemble gets mostly dominated by the best classifier from the earlier stage and there is no real improvement compared to that with our default values."
   ]
  },
  {
   "cell_type": "markdown",
   "metadata": {},
   "source": [
    "We will now test a setting where we keep the correlatedf features for our best models, in particular XGBoost, Random Forest and the MLP Classifier. Per default those models should be able to handle correlated data instead of some other algorithms. And as they are already far better than the other models, we will focus on them in the following."
   ]
  },
  {
   "cell_type": "markdown",
   "metadata": {},
   "source": [
    "# V. RF, XGBoost and MLP with correlated features"
   ]
  },
  {
   "cell_type": "markdown",
   "metadata": {},
   "source": [
    "We will start our pipeline after the one-hot encoding step in cell 12 and leave the dropping of correlated features out."
   ]
  },
  {
   "cell_type": "code",
   "execution_count": 36,
   "metadata": {},
   "outputs": [
    {
     "data": {
      "text/html": [
       "<div>\n",
       "<style scoped>\n",
       "    .dataframe tbody tr th:only-of-type {\n",
       "        vertical-align: middle;\n",
       "    }\n",
       "\n",
       "    .dataframe tbody tr th {\n",
       "        vertical-align: top;\n",
       "    }\n",
       "\n",
       "    .dataframe thead th {\n",
       "        text-align: right;\n",
       "    }\n",
       "</style>\n",
       "<table border=\"1\" class=\"dataframe\">\n",
       "  <thead>\n",
       "    <tr style=\"text-align: right;\">\n",
       "      <th></th>\n",
       "      <th>Air temperature K</th>\n",
       "      <th>Process temperature K</th>\n",
       "      <th>Rotational speed rpm</th>\n",
       "      <th>Torque Nm</th>\n",
       "      <th>Tool wear min</th>\n",
       "      <th>Target</th>\n",
       "      <th>Type_H</th>\n",
       "      <th>Type_L</th>\n",
       "      <th>Type_M</th>\n",
       "    </tr>\n",
       "  </thead>\n",
       "  <tbody>\n",
       "    <tr>\n",
       "      <th>0</th>\n",
       "      <td>298.1</td>\n",
       "      <td>308.6</td>\n",
       "      <td>1551</td>\n",
       "      <td>42.8</td>\n",
       "      <td>0</td>\n",
       "      <td>0</td>\n",
       "      <td>0.0</td>\n",
       "      <td>0.0</td>\n",
       "      <td>1.0</td>\n",
       "    </tr>\n",
       "    <tr>\n",
       "      <th>1</th>\n",
       "      <td>298.2</td>\n",
       "      <td>308.7</td>\n",
       "      <td>1408</td>\n",
       "      <td>46.3</td>\n",
       "      <td>3</td>\n",
       "      <td>0</td>\n",
       "      <td>0.0</td>\n",
       "      <td>1.0</td>\n",
       "      <td>0.0</td>\n",
       "    </tr>\n",
       "    <tr>\n",
       "      <th>2</th>\n",
       "      <td>298.1</td>\n",
       "      <td>308.5</td>\n",
       "      <td>1498</td>\n",
       "      <td>49.4</td>\n",
       "      <td>5</td>\n",
       "      <td>0</td>\n",
       "      <td>0.0</td>\n",
       "      <td>1.0</td>\n",
       "      <td>0.0</td>\n",
       "    </tr>\n",
       "    <tr>\n",
       "      <th>3</th>\n",
       "      <td>298.2</td>\n",
       "      <td>308.6</td>\n",
       "      <td>1433</td>\n",
       "      <td>39.5</td>\n",
       "      <td>7</td>\n",
       "      <td>0</td>\n",
       "      <td>0.0</td>\n",
       "      <td>1.0</td>\n",
       "      <td>0.0</td>\n",
       "    </tr>\n",
       "    <tr>\n",
       "      <th>4</th>\n",
       "      <td>298.2</td>\n",
       "      <td>308.7</td>\n",
       "      <td>1408</td>\n",
       "      <td>40.0</td>\n",
       "      <td>9</td>\n",
       "      <td>0</td>\n",
       "      <td>0.0</td>\n",
       "      <td>1.0</td>\n",
       "      <td>0.0</td>\n",
       "    </tr>\n",
       "    <tr>\n",
       "      <th>5</th>\n",
       "      <td>298.1</td>\n",
       "      <td>308.6</td>\n",
       "      <td>1425</td>\n",
       "      <td>41.9</td>\n",
       "      <td>11</td>\n",
       "      <td>0</td>\n",
       "      <td>0.0</td>\n",
       "      <td>0.0</td>\n",
       "      <td>1.0</td>\n",
       "    </tr>\n",
       "    <tr>\n",
       "      <th>6</th>\n",
       "      <td>298.1</td>\n",
       "      <td>308.6</td>\n",
       "      <td>1558</td>\n",
       "      <td>42.4</td>\n",
       "      <td>14</td>\n",
       "      <td>0</td>\n",
       "      <td>0.0</td>\n",
       "      <td>1.0</td>\n",
       "      <td>0.0</td>\n",
       "    </tr>\n",
       "    <tr>\n",
       "      <th>7</th>\n",
       "      <td>298.1</td>\n",
       "      <td>308.6</td>\n",
       "      <td>1527</td>\n",
       "      <td>40.2</td>\n",
       "      <td>16</td>\n",
       "      <td>0</td>\n",
       "      <td>0.0</td>\n",
       "      <td>1.0</td>\n",
       "      <td>0.0</td>\n",
       "    </tr>\n",
       "    <tr>\n",
       "      <th>8</th>\n",
       "      <td>298.3</td>\n",
       "      <td>308.7</td>\n",
       "      <td>1667</td>\n",
       "      <td>28.6</td>\n",
       "      <td>18</td>\n",
       "      <td>0</td>\n",
       "      <td>0.0</td>\n",
       "      <td>0.0</td>\n",
       "      <td>1.0</td>\n",
       "    </tr>\n",
       "    <tr>\n",
       "      <th>9</th>\n",
       "      <td>298.5</td>\n",
       "      <td>309.0</td>\n",
       "      <td>1741</td>\n",
       "      <td>28.0</td>\n",
       "      <td>21</td>\n",
       "      <td>0</td>\n",
       "      <td>0.0</td>\n",
       "      <td>0.0</td>\n",
       "      <td>1.0</td>\n",
       "    </tr>\n",
       "  </tbody>\n",
       "</table>\n",
       "</div>"
      ],
      "text/plain": [
       "   Air temperature K  Process temperature K  Rotational speed rpm  Torque Nm  \\\n",
       "0              298.1                  308.6                  1551       42.8   \n",
       "1              298.2                  308.7                  1408       46.3   \n",
       "2              298.1                  308.5                  1498       49.4   \n",
       "3              298.2                  308.6                  1433       39.5   \n",
       "4              298.2                  308.7                  1408       40.0   \n",
       "5              298.1                  308.6                  1425       41.9   \n",
       "6              298.1                  308.6                  1558       42.4   \n",
       "7              298.1                  308.6                  1527       40.2   \n",
       "8              298.3                  308.7                  1667       28.6   \n",
       "9              298.5                  309.0                  1741       28.0   \n",
       "\n",
       "   Tool wear min  Target  Type_H  Type_L  Type_M  \n",
       "0              0       0     0.0     0.0     1.0  \n",
       "1              3       0     0.0     1.0     0.0  \n",
       "2              5       0     0.0     1.0     0.0  \n",
       "3              7       0     0.0     1.0     0.0  \n",
       "4              9       0     0.0     1.0     0.0  \n",
       "5             11       0     0.0     0.0     1.0  \n",
       "6             14       0     0.0     1.0     0.0  \n",
       "7             16       0     0.0     1.0     0.0  \n",
       "8             18       0     0.0     0.0     1.0  \n",
       "9             21       0     0.0     0.0     1.0  "
      ]
     },
     "execution_count": 36,
     "metadata": {},
     "output_type": "execute_result"
    }
   ],
   "source": [
    "df_ohe.head(10)"
   ]
  },
  {
   "cell_type": "markdown",
   "metadata": {},
   "source": [
    "In a first step, we split up the data again."
   ]
  },
  {
   "cell_type": "code",
   "execution_count": 37,
   "metadata": {},
   "outputs": [],
   "source": [
    "df_preprocessed = df_ohe\n",
    "\n",
    "# first split up in train+val and test\n",
    "data_train_val, data_test, target_train_val, target_test = train_test_split(df_preprocessed.drop(columns=['Target']), df_preprocessed['Target'], test_size=0.2, random_state=42, stratify=df_preprocessed['Target'])\n",
    "\n",
    "#  split up train+val in train and val\n",
    "data_train, data_val, target_train, target_val = train_test_split(data_train_val, target_train_val, test_size=0.2, random_state=42, stratify=target_train_val)"
   ]
  },
  {
   "cell_type": "markdown",
   "metadata": {},
   "source": [
    "Since we haven't scaled the features yet, we will make use of the same scaler method again."
   ]
  },
  {
   "cell_type": "code",
   "execution_count": 38,
   "metadata": {},
   "outputs": [],
   "source": [
    "# define standard scaler\n",
    "scaler = StandardScaler()\n",
    "# features to scale\n",
    "numerical_features = ['Process temperature K','Torque Nm','Tool wear min', 'Air temperature K', 'Process temperature K', 'Rotational speed rpm' ]\n",
    "# transform data\n",
    "data_train[numerical_features] = scaler.fit_transform(data_train[numerical_features])\n",
    "data_val[numerical_features] = scaler.transform(data_val[numerical_features])\n",
    "data_test[numerical_features] = scaler.transform(data_test[numerical_features])"
   ]
  },
  {
   "cell_type": "markdown",
   "metadata": {},
   "source": [
    "In the following, we will test the sets with our three best previous model and decide if we want to keep the features or not."
   ]
  },
  {
   "cell_type": "markdown",
   "metadata": {},
   "source": [
    "### Random Forest"
   ]
  },
  {
   "cell_type": "code",
   "execution_count": 42,
   "metadata": {
    "scrolled": true
   },
   "outputs": [
    {
     "name": "stdout",
     "output_type": "stream",
     "text": [
      "CV-average F1-score: 0.7970\n",
      "The F1-Score micro on the validation set: 0.8327\n",
      "The Precision on the validation set: 0.9452\n",
      "The Recall on the validation set: 0.7675\n",
      "Confusion Matrix : \n",
      "[[1543    3]\n",
      " [  25   29]]\n"
     ]
    }
   ],
   "source": [
    "rf = RandomForestClassifier()\n",
    "cross_val=cross_val_score(rf, data_train, target_train, cv=5,scoring='f1_macro')\n",
    "rf.fit(data_train, target_train)\n",
    "prediction = rf.predict(data_val)\n",
    "f1= f1_score(target_val,prediction, average = 'macro') \n",
    "precision = precision_score(target_val,prediction, average = 'macro')\n",
    "recall = recall_score(target_val,prediction, average = 'macro')\n",
    "print(\"CV-average F1-score: %.4f\" % cross_val.mean())\n",
    "print(\"The F1-Score micro on the validation set: {:.4f}\".format(f1))\n",
    "print(\"The Precision on the validation set: {:.4f}\".format(precision))\n",
    "print(\"The Recall on the validation set: {:.4f}\".format(recall))\n",
    "print('Confusion Matrix : \\n' + str(confusion_matrix(target_val,prediction)))"
   ]
  },
  {
   "cell_type": "markdown",
   "metadata": {},
   "source": [
    "### XGBoost"
   ]
  },
  {
   "cell_type": "code",
   "execution_count": 40,
   "metadata": {
    "scrolled": true
   },
   "outputs": [
    {
     "name": "stdout",
     "output_type": "stream",
     "text": [
      "[17:08:54] WARNING: C:/Users/Administrator/workspace/xgboost-win64_release_1.5.1/src/learner.cc:1115: Starting in XGBoost 1.3.0, the default evaluation metric used with the objective 'binary:logistic' was changed from 'error' to 'logloss'. Explicitly set eval_metric if you'd like to restore the old behavior.\n"
     ]
    },
    {
     "name": "stderr",
     "output_type": "stream",
     "text": [
      "C:\\Users\\Nikla\\anaconda3\\envs\\Industrial-Applications-of-Artificial-Intelligence\\lib\\site-packages\\xgboost\\sklearn.py:1224: UserWarning: The use of label encoder in XGBClassifier is deprecated and will be removed in a future release. To remove this warning, do the following: 1) Pass option use_label_encoder=False when constructing XGBClassifier object; and 2) Encode your labels (y) as integers starting with 0, i.e. 0, 1, 2, ..., [num_class - 1].\n",
      "  warnings.warn(label_encoder_deprecation_msg, UserWarning)\n",
      "C:\\Users\\Nikla\\anaconda3\\envs\\Industrial-Applications-of-Artificial-Intelligence\\lib\\site-packages\\xgboost\\data.py:262: FutureWarning: pandas.Int64Index is deprecated and will be removed from pandas in a future version. Use pandas.Index with the appropriate dtype instead.\n",
      "  elif isinstance(data.columns, (pd.Int64Index, pd.RangeIndex)):\n",
      "C:\\Users\\Nikla\\anaconda3\\envs\\Industrial-Applications-of-Artificial-Intelligence\\lib\\site-packages\\xgboost\\sklearn.py:1224: UserWarning: The use of label encoder in XGBClassifier is deprecated and will be removed in a future release. To remove this warning, do the following: 1) Pass option use_label_encoder=False when constructing XGBClassifier object; and 2) Encode your labels (y) as integers starting with 0, i.e. 0, 1, 2, ..., [num_class - 1].\n",
      "  warnings.warn(label_encoder_deprecation_msg, UserWarning)\n",
      "C:\\Users\\Nikla\\anaconda3\\envs\\Industrial-Applications-of-Artificial-Intelligence\\lib\\site-packages\\xgboost\\data.py:262: FutureWarning: pandas.Int64Index is deprecated and will be removed from pandas in a future version. Use pandas.Index with the appropriate dtype instead.\n",
      "  elif isinstance(data.columns, (pd.Int64Index, pd.RangeIndex)):\n"
     ]
    },
    {
     "name": "stdout",
     "output_type": "stream",
     "text": [
      "[17:08:54] WARNING: C:/Users/Administrator/workspace/xgboost-win64_release_1.5.1/src/learner.cc:1115: Starting in XGBoost 1.3.0, the default evaluation metric used with the objective 'binary:logistic' was changed from 'error' to 'logloss'. Explicitly set eval_metric if you'd like to restore the old behavior.\n"
     ]
    },
    {
     "name": "stderr",
     "output_type": "stream",
     "text": [
      "C:\\Users\\Nikla\\anaconda3\\envs\\Industrial-Applications-of-Artificial-Intelligence\\lib\\site-packages\\xgboost\\sklearn.py:1224: UserWarning: The use of label encoder in XGBClassifier is deprecated and will be removed in a future release. To remove this warning, do the following: 1) Pass option use_label_encoder=False when constructing XGBClassifier object; and 2) Encode your labels (y) as integers starting with 0, i.e. 0, 1, 2, ..., [num_class - 1].\n",
      "  warnings.warn(label_encoder_deprecation_msg, UserWarning)\n",
      "C:\\Users\\Nikla\\anaconda3\\envs\\Industrial-Applications-of-Artificial-Intelligence\\lib\\site-packages\\xgboost\\data.py:262: FutureWarning: pandas.Int64Index is deprecated and will be removed from pandas in a future version. Use pandas.Index with the appropriate dtype instead.\n",
      "  elif isinstance(data.columns, (pd.Int64Index, pd.RangeIndex)):\n"
     ]
    },
    {
     "name": "stdout",
     "output_type": "stream",
     "text": [
      "[17:08:54] WARNING: C:/Users/Administrator/workspace/xgboost-win64_release_1.5.1/src/learner.cc:1115: Starting in XGBoost 1.3.0, the default evaluation metric used with the objective 'binary:logistic' was changed from 'error' to 'logloss'. Explicitly set eval_metric if you'd like to restore the old behavior.\n"
     ]
    },
    {
     "name": "stderr",
     "output_type": "stream",
     "text": [
      "C:\\Users\\Nikla\\anaconda3\\envs\\Industrial-Applications-of-Artificial-Intelligence\\lib\\site-packages\\xgboost\\sklearn.py:1224: UserWarning: The use of label encoder in XGBClassifier is deprecated and will be removed in a future release. To remove this warning, do the following: 1) Pass option use_label_encoder=False when constructing XGBClassifier object; and 2) Encode your labels (y) as integers starting with 0, i.e. 0, 1, 2, ..., [num_class - 1].\n",
      "  warnings.warn(label_encoder_deprecation_msg, UserWarning)\n",
      "C:\\Users\\Nikla\\anaconda3\\envs\\Industrial-Applications-of-Artificial-Intelligence\\lib\\site-packages\\xgboost\\data.py:262: FutureWarning: pandas.Int64Index is deprecated and will be removed from pandas in a future version. Use pandas.Index with the appropriate dtype instead.\n",
      "  elif isinstance(data.columns, (pd.Int64Index, pd.RangeIndex)):\n"
     ]
    },
    {
     "name": "stdout",
     "output_type": "stream",
     "text": [
      "[17:08:55] WARNING: C:/Users/Administrator/workspace/xgboost-win64_release_1.5.1/src/learner.cc:1115: Starting in XGBoost 1.3.0, the default evaluation metric used with the objective 'binary:logistic' was changed from 'error' to 'logloss'. Explicitly set eval_metric if you'd like to restore the old behavior.\n"
     ]
    },
    {
     "name": "stderr",
     "output_type": "stream",
     "text": [
      "C:\\Users\\Nikla\\anaconda3\\envs\\Industrial-Applications-of-Artificial-Intelligence\\lib\\site-packages\\xgboost\\sklearn.py:1224: UserWarning: The use of label encoder in XGBClassifier is deprecated and will be removed in a future release. To remove this warning, do the following: 1) Pass option use_label_encoder=False when constructing XGBClassifier object; and 2) Encode your labels (y) as integers starting with 0, i.e. 0, 1, 2, ..., [num_class - 1].\n",
      "  warnings.warn(label_encoder_deprecation_msg, UserWarning)\n",
      "C:\\Users\\Nikla\\anaconda3\\envs\\Industrial-Applications-of-Artificial-Intelligence\\lib\\site-packages\\xgboost\\data.py:262: FutureWarning: pandas.Int64Index is deprecated and will be removed from pandas in a future version. Use pandas.Index with the appropriate dtype instead.\n",
      "  elif isinstance(data.columns, (pd.Int64Index, pd.RangeIndex)):\n"
     ]
    },
    {
     "name": "stdout",
     "output_type": "stream",
     "text": [
      "[17:08:55] WARNING: C:/Users/Administrator/workspace/xgboost-win64_release_1.5.1/src/learner.cc:1115: Starting in XGBoost 1.3.0, the default evaluation metric used with the objective 'binary:logistic' was changed from 'error' to 'logloss'. Explicitly set eval_metric if you'd like to restore the old behavior.\n"
     ]
    },
    {
     "name": "stderr",
     "output_type": "stream",
     "text": [
      "C:\\Users\\Nikla\\anaconda3\\envs\\Industrial-Applications-of-Artificial-Intelligence\\lib\\site-packages\\xgboost\\sklearn.py:1224: UserWarning: The use of label encoder in XGBClassifier is deprecated and will be removed in a future release. To remove this warning, do the following: 1) Pass option use_label_encoder=False when constructing XGBClassifier object; and 2) Encode your labels (y) as integers starting with 0, i.e. 0, 1, 2, ..., [num_class - 1].\n",
      "  warnings.warn(label_encoder_deprecation_msg, UserWarning)\n",
      "C:\\Users\\Nikla\\anaconda3\\envs\\Industrial-Applications-of-Artificial-Intelligence\\lib\\site-packages\\xgboost\\data.py:262: FutureWarning: pandas.Int64Index is deprecated and will be removed from pandas in a future version. Use pandas.Index with the appropriate dtype instead.\n",
      "  elif isinstance(data.columns, (pd.Int64Index, pd.RangeIndex)):\n"
     ]
    },
    {
     "name": "stdout",
     "output_type": "stream",
     "text": [
      "[17:08:55] WARNING: C:/Users/Administrator/workspace/xgboost-win64_release_1.5.1/src/learner.cc:1115: Starting in XGBoost 1.3.0, the default evaluation metric used with the objective 'binary:logistic' was changed from 'error' to 'logloss'. Explicitly set eval_metric if you'd like to restore the old behavior.\n",
      "CV-average F1-score: 0.8742\n",
      "The F1-Score micro on the validation set: 0.8644\n",
      "The Precision on the validation set: 0.9207\n",
      "The Recall on the validation set: 0.8221\n",
      "Confusion Matrix : \n",
      "[[1540    6]\n",
      " [  19   35]]\n"
     ]
    }
   ],
   "source": [
    "xgb = XGBClassifier()\n",
    "cross_val=cross_val_score(xgb, data_train, target_train, cv=5, scoring='f1_macro')\n",
    "xgb.fit(data_train, target_train)\n",
    "prediction = xgb.predict(data_val)\n",
    "f1= f1_score(target_val,prediction, average = 'macro') \n",
    "precision = precision_score(target_val,prediction, average = 'macro')\n",
    "recall = recall_score(target_val,prediction, average = 'macro')\n",
    "print(\"CV-average F1-score: %.4f\" % cross_val.mean())\n",
    "print(\"The F1-Score micro on the validation set: {:.4f}\".format(f1))\n",
    "print(\"The Precision on the validation set: {:.4f}\".format(precision))\n",
    "print(\"The Recall on the validation set: {:.4f}\".format(recall))\n",
    "print('Confusion Matrix : \\n' + str(confusion_matrix(target_val,prediction)))"
   ]
  },
  {
   "cell_type": "markdown",
   "metadata": {},
   "source": [
    "### MLP Classifier"
   ]
  },
  {
   "cell_type": "code",
   "execution_count": 41,
   "metadata": {},
   "outputs": [
    {
     "name": "stderr",
     "output_type": "stream",
     "text": [
      "C:\\Users\\Nikla\\anaconda3\\envs\\Industrial-Applications-of-Artificial-Intelligence\\lib\\site-packages\\sklearn\\neural_network\\_multilayer_perceptron.py:692: ConvergenceWarning: Stochastic Optimizer: Maximum iterations (200) reached and the optimization hasn't converged yet.\n",
      "  warnings.warn(\n",
      "C:\\Users\\Nikla\\anaconda3\\envs\\Industrial-Applications-of-Artificial-Intelligence\\lib\\site-packages\\sklearn\\neural_network\\_multilayer_perceptron.py:692: ConvergenceWarning: Stochastic Optimizer: Maximum iterations (200) reached and the optimization hasn't converged yet.\n",
      "  warnings.warn(\n",
      "C:\\Users\\Nikla\\anaconda3\\envs\\Industrial-Applications-of-Artificial-Intelligence\\lib\\site-packages\\sklearn\\neural_network\\_multilayer_perceptron.py:692: ConvergenceWarning: Stochastic Optimizer: Maximum iterations (200) reached and the optimization hasn't converged yet.\n",
      "  warnings.warn(\n",
      "C:\\Users\\Nikla\\anaconda3\\envs\\Industrial-Applications-of-Artificial-Intelligence\\lib\\site-packages\\sklearn\\neural_network\\_multilayer_perceptron.py:692: ConvergenceWarning: Stochastic Optimizer: Maximum iterations (200) reached and the optimization hasn't converged yet.\n",
      "  warnings.warn(\n",
      "C:\\Users\\Nikla\\anaconda3\\envs\\Industrial-Applications-of-Artificial-Intelligence\\lib\\site-packages\\sklearn\\neural_network\\_multilayer_perceptron.py:692: ConvergenceWarning: Stochastic Optimizer: Maximum iterations (200) reached and the optimization hasn't converged yet.\n",
      "  warnings.warn(\n"
     ]
    },
    {
     "name": "stdout",
     "output_type": "stream",
     "text": [
      "CV-average F1-score: 0.8195\n",
      "The F1-Score micro on the validation set: 0.8364\n",
      "The Precision on the validation set: 0.9335\n",
      "The Recall on the validation set: 0.7765\n",
      "Confusion Matrix : \n",
      "[[1542    4]\n",
      " [  24   30]]\n"
     ]
    },
    {
     "name": "stderr",
     "output_type": "stream",
     "text": [
      "C:\\Users\\Nikla\\anaconda3\\envs\\Industrial-Applications-of-Artificial-Intelligence\\lib\\site-packages\\sklearn\\neural_network\\_multilayer_perceptron.py:692: ConvergenceWarning: Stochastic Optimizer: Maximum iterations (200) reached and the optimization hasn't converged yet.\n",
      "  warnings.warn(\n"
     ]
    }
   ],
   "source": [
    "mlp=MLPClassifier()\n",
    "cross_val=cross_val_score(mlp, data_train, target_train, cv=5, scoring='f1_macro')\n",
    "mlp.fit(data_train,target_train)\n",
    "prediction = mlp.predict(data_val)\n",
    "f1= f1_score(target_val,prediction, average = 'macro') \n",
    "precision = precision_score(target_val,prediction, average = 'macro')\n",
    "recall = recall_score(target_val,prediction, average = 'macro')\n",
    "print(\"CV-average F1-score: %.4f\" % cross_val.mean())\n",
    "print(\"The F1-Score micro on the validation set: {:.4f}\".format(f1))\n",
    "print(\"The Precision on the validation set: {:.4f}\".format(precision))\n",
    "print(\"The Recall on the validation set: {:.4f}\".format(recall))\n",
    "print('Confusion Matrix : \\n' + str(confusion_matrix(target_val,prediction)))"
   ]
  },
  {
   "cell_type": "markdown",
   "metadata": {},
   "source": [
    "If we have a look at the average cross-validation score, we can see that XGBoost has nearly the same values, Random Forest slightly worse and the MLP better scores. So, as expected XGBoost and the MLP-Classifier are able to handle the values and we will proceed without dropping the features and continue focusing on XGBoost and the multi-layer-perceptron."
   ]
  },
  {
   "cell_type": "markdown",
   "metadata": {},
   "source": [
    "# V. Feature Generation"
   ]
  },
  {
   "cell_type": "markdown",
   "metadata": {},
   "source": [
    "We now want to have a look at the data itself to understand if we are able to achieve better performances by engineering further features."
   ]
  },
  {
   "cell_type": "code",
   "execution_count": 133,
   "metadata": {},
   "outputs": [
    {
     "data": {
      "text/html": [
       "<div>\n",
       "<style scoped>\n",
       "    .dataframe tbody tr th:only-of-type {\n",
       "        vertical-align: middle;\n",
       "    }\n",
       "\n",
       "    .dataframe tbody tr th {\n",
       "        vertical-align: top;\n",
       "    }\n",
       "\n",
       "    .dataframe thead th {\n",
       "        text-align: right;\n",
       "    }\n",
       "</style>\n",
       "<table border=\"1\" class=\"dataframe\">\n",
       "  <thead>\n",
       "    <tr style=\"text-align: right;\">\n",
       "      <th></th>\n",
       "      <th>Type</th>\n",
       "      <th>Air temperature K</th>\n",
       "      <th>Process temperature K</th>\n",
       "      <th>Rotational speed rpm</th>\n",
       "      <th>Torque Nm</th>\n",
       "      <th>Tool wear min</th>\n",
       "      <th>Target</th>\n",
       "    </tr>\n",
       "  </thead>\n",
       "  <tbody>\n",
       "    <tr>\n",
       "      <th>0</th>\n",
       "      <td>M</td>\n",
       "      <td>298.1</td>\n",
       "      <td>308.6</td>\n",
       "      <td>1551</td>\n",
       "      <td>42.8</td>\n",
       "      <td>0</td>\n",
       "      <td>0</td>\n",
       "    </tr>\n",
       "    <tr>\n",
       "      <th>1</th>\n",
       "      <td>L</td>\n",
       "      <td>298.2</td>\n",
       "      <td>308.7</td>\n",
       "      <td>1408</td>\n",
       "      <td>46.3</td>\n",
       "      <td>3</td>\n",
       "      <td>0</td>\n",
       "    </tr>\n",
       "    <tr>\n",
       "      <th>2</th>\n",
       "      <td>L</td>\n",
       "      <td>298.1</td>\n",
       "      <td>308.5</td>\n",
       "      <td>1498</td>\n",
       "      <td>49.4</td>\n",
       "      <td>5</td>\n",
       "      <td>0</td>\n",
       "    </tr>\n",
       "    <tr>\n",
       "      <th>3</th>\n",
       "      <td>L</td>\n",
       "      <td>298.2</td>\n",
       "      <td>308.6</td>\n",
       "      <td>1433</td>\n",
       "      <td>39.5</td>\n",
       "      <td>7</td>\n",
       "      <td>0</td>\n",
       "    </tr>\n",
       "    <tr>\n",
       "      <th>4</th>\n",
       "      <td>L</td>\n",
       "      <td>298.2</td>\n",
       "      <td>308.7</td>\n",
       "      <td>1408</td>\n",
       "      <td>40.0</td>\n",
       "      <td>9</td>\n",
       "      <td>0</td>\n",
       "    </tr>\n",
       "    <tr>\n",
       "      <th>5</th>\n",
       "      <td>M</td>\n",
       "      <td>298.1</td>\n",
       "      <td>308.6</td>\n",
       "      <td>1425</td>\n",
       "      <td>41.9</td>\n",
       "      <td>11</td>\n",
       "      <td>0</td>\n",
       "    </tr>\n",
       "    <tr>\n",
       "      <th>6</th>\n",
       "      <td>L</td>\n",
       "      <td>298.1</td>\n",
       "      <td>308.6</td>\n",
       "      <td>1558</td>\n",
       "      <td>42.4</td>\n",
       "      <td>14</td>\n",
       "      <td>0</td>\n",
       "    </tr>\n",
       "    <tr>\n",
       "      <th>7</th>\n",
       "      <td>L</td>\n",
       "      <td>298.1</td>\n",
       "      <td>308.6</td>\n",
       "      <td>1527</td>\n",
       "      <td>40.2</td>\n",
       "      <td>16</td>\n",
       "      <td>0</td>\n",
       "    </tr>\n",
       "    <tr>\n",
       "      <th>8</th>\n",
       "      <td>M</td>\n",
       "      <td>298.3</td>\n",
       "      <td>308.7</td>\n",
       "      <td>1667</td>\n",
       "      <td>28.6</td>\n",
       "      <td>18</td>\n",
       "      <td>0</td>\n",
       "    </tr>\n",
       "    <tr>\n",
       "      <th>9</th>\n",
       "      <td>M</td>\n",
       "      <td>298.5</td>\n",
       "      <td>309.0</td>\n",
       "      <td>1741</td>\n",
       "      <td>28.0</td>\n",
       "      <td>21</td>\n",
       "      <td>0</td>\n",
       "    </tr>\n",
       "  </tbody>\n",
       "</table>\n",
       "</div>"
      ],
      "text/plain": [
       "  Type  Air temperature K  Process temperature K  Rotational speed rpm  \\\n",
       "0    M              298.1                  308.6                  1551   \n",
       "1    L              298.2                  308.7                  1408   \n",
       "2    L              298.1                  308.5                  1498   \n",
       "3    L              298.2                  308.6                  1433   \n",
       "4    L              298.2                  308.7                  1408   \n",
       "5    M              298.1                  308.6                  1425   \n",
       "6    L              298.1                  308.6                  1558   \n",
       "7    L              298.1                  308.6                  1527   \n",
       "8    M              298.3                  308.7                  1667   \n",
       "9    M              298.5                  309.0                  1741   \n",
       "\n",
       "   Torque Nm  Tool wear min  Target  \n",
       "0       42.8              0       0  \n",
       "1       46.3              3       0  \n",
       "2       49.4              5       0  \n",
       "3       39.5              7       0  \n",
       "4       40.0              9       0  \n",
       "5       41.9             11       0  \n",
       "6       42.4             14       0  \n",
       "7       40.2             16       0  \n",
       "8       28.6             18       0  \n",
       "9       28.0             21       0  "
      ]
     },
     "execution_count": 133,
     "metadata": {},
     "output_type": "execute_result"
    }
   ],
   "source": [
    "df.head(10)"
   ]
  },
  {
   "cell_type": "code",
   "execution_count": 134,
   "metadata": {},
   "outputs": [
    {
     "data": {
      "text/html": [
       "<div>\n",
       "<style scoped>\n",
       "    .dataframe tbody tr th:only-of-type {\n",
       "        vertical-align: middle;\n",
       "    }\n",
       "\n",
       "    .dataframe tbody tr th {\n",
       "        vertical-align: top;\n",
       "    }\n",
       "\n",
       "    .dataframe thead th {\n",
       "        text-align: right;\n",
       "    }\n",
       "</style>\n",
       "<table border=\"1\" class=\"dataframe\">\n",
       "  <thead>\n",
       "    <tr style=\"text-align: right;\">\n",
       "      <th></th>\n",
       "      <th>count</th>\n",
       "      <th>mean</th>\n",
       "      <th>std</th>\n",
       "      <th>min</th>\n",
       "      <th>25%</th>\n",
       "      <th>50%</th>\n",
       "      <th>75%</th>\n",
       "      <th>max</th>\n",
       "    </tr>\n",
       "  </thead>\n",
       "  <tbody>\n",
       "    <tr>\n",
       "      <th>Air temperature K</th>\n",
       "      <td>9661.00</td>\n",
       "      <td>299.97</td>\n",
       "      <td>1.99</td>\n",
       "      <td>295.30</td>\n",
       "      <td>298.30</td>\n",
       "      <td>300.00</td>\n",
       "      <td>301.50</td>\n",
       "      <td>304.50</td>\n",
       "    </tr>\n",
       "    <tr>\n",
       "      <th>Process temperature K</th>\n",
       "      <td>9661.00</td>\n",
       "      <td>310.00</td>\n",
       "      <td>1.49</td>\n",
       "      <td>305.70</td>\n",
       "      <td>308.80</td>\n",
       "      <td>310.00</td>\n",
       "      <td>311.10</td>\n",
       "      <td>313.80</td>\n",
       "    </tr>\n",
       "    <tr>\n",
       "      <th>Rotational speed rpm</th>\n",
       "      <td>9661.00</td>\n",
       "      <td>1540.26</td>\n",
       "      <td>167.39</td>\n",
       "      <td>1168.00</td>\n",
       "      <td>1429.00</td>\n",
       "      <td>1507.00</td>\n",
       "      <td>1615.00</td>\n",
       "      <td>2695.00</td>\n",
       "    </tr>\n",
       "    <tr>\n",
       "      <th>Torque Nm</th>\n",
       "      <td>9661.00</td>\n",
       "      <td>39.63</td>\n",
       "      <td>9.47</td>\n",
       "      <td>12.60</td>\n",
       "      <td>33.10</td>\n",
       "      <td>39.90</td>\n",
       "      <td>46.30</td>\n",
       "      <td>70.00</td>\n",
       "    </tr>\n",
       "    <tr>\n",
       "      <th>Tool wear min</th>\n",
       "      <td>9661.00</td>\n",
       "      <td>106.69</td>\n",
       "      <td>62.95</td>\n",
       "      <td>0.00</td>\n",
       "      <td>52.00</td>\n",
       "      <td>107.00</td>\n",
       "      <td>160.00</td>\n",
       "      <td>246.00</td>\n",
       "    </tr>\n",
       "    <tr>\n",
       "      <th>Target</th>\n",
       "      <td>9661.00</td>\n",
       "      <td>0.00</td>\n",
       "      <td>0.00</td>\n",
       "      <td>0.00</td>\n",
       "      <td>0.00</td>\n",
       "      <td>0.00</td>\n",
       "      <td>0.00</td>\n",
       "      <td>0.00</td>\n",
       "    </tr>\n",
       "  </tbody>\n",
       "</table>\n",
       "</div>"
      ],
      "text/plain": [
       "                         count     mean     std      min      25%      50%  \\\n",
       "Air temperature K      9661.00   299.97    1.99   295.30   298.30   300.00   \n",
       "Process temperature K  9661.00   310.00    1.49   305.70   308.80   310.00   \n",
       "Rotational speed rpm   9661.00  1540.26  167.39  1168.00  1429.00  1507.00   \n",
       "Torque Nm              9661.00    39.63    9.47    12.60    33.10    39.90   \n",
       "Tool wear min          9661.00   106.69   62.95     0.00    52.00   107.00   \n",
       "Target                 9661.00     0.00    0.00     0.00     0.00     0.00   \n",
       "\n",
       "                           75%      max  \n",
       "Air temperature K       301.50   304.50  \n",
       "Process temperature K   311.10   313.80  \n",
       "Rotational speed rpm   1615.00  2695.00  \n",
       "Torque Nm                46.30    70.00  \n",
       "Tool wear min           160.00   246.00  \n",
       "Target                    0.00     0.00  "
      ]
     },
     "execution_count": 134,
     "metadata": {},
     "output_type": "execute_result"
    }
   ],
   "source": [
    "# look at distribution\n",
    "df[df.Target == 0].describe().transpose().applymap(\"{:.2f}\".format)"
   ]
  },
  {
   "cell_type": "code",
   "execution_count": 135,
   "metadata": {},
   "outputs": [
    {
     "data": {
      "text/html": [
       "<div>\n",
       "<style scoped>\n",
       "    .dataframe tbody tr th:only-of-type {\n",
       "        vertical-align: middle;\n",
       "    }\n",
       "\n",
       "    .dataframe tbody tr th {\n",
       "        vertical-align: top;\n",
       "    }\n",
       "\n",
       "    .dataframe thead th {\n",
       "        text-align: right;\n",
       "    }\n",
       "</style>\n",
       "<table border=\"1\" class=\"dataframe\">\n",
       "  <thead>\n",
       "    <tr style=\"text-align: right;\">\n",
       "      <th></th>\n",
       "      <th>count</th>\n",
       "      <th>mean</th>\n",
       "      <th>std</th>\n",
       "      <th>min</th>\n",
       "      <th>25%</th>\n",
       "      <th>50%</th>\n",
       "      <th>75%</th>\n",
       "      <th>max</th>\n",
       "    </tr>\n",
       "  </thead>\n",
       "  <tbody>\n",
       "    <tr>\n",
       "      <th>Air temperature K</th>\n",
       "      <td>339.00</td>\n",
       "      <td>300.89</td>\n",
       "      <td>2.07</td>\n",
       "      <td>295.60</td>\n",
       "      <td>299.10</td>\n",
       "      <td>301.60</td>\n",
       "      <td>302.50</td>\n",
       "      <td>304.40</td>\n",
       "    </tr>\n",
       "    <tr>\n",
       "      <th>Process temperature K</th>\n",
       "      <td>339.00</td>\n",
       "      <td>310.29</td>\n",
       "      <td>1.36</td>\n",
       "      <td>306.10</td>\n",
       "      <td>309.50</td>\n",
       "      <td>310.40</td>\n",
       "      <td>311.20</td>\n",
       "      <td>313.70</td>\n",
       "    </tr>\n",
       "    <tr>\n",
       "      <th>Rotational speed rpm</th>\n",
       "      <td>339.00</td>\n",
       "      <td>1496.49</td>\n",
       "      <td>384.94</td>\n",
       "      <td>1181.00</td>\n",
       "      <td>1326.50</td>\n",
       "      <td>1365.00</td>\n",
       "      <td>1421.50</td>\n",
       "      <td>2886.00</td>\n",
       "    </tr>\n",
       "    <tr>\n",
       "      <th>Torque Nm</th>\n",
       "      <td>339.00</td>\n",
       "      <td>50.17</td>\n",
       "      <td>16.37</td>\n",
       "      <td>3.80</td>\n",
       "      <td>45.95</td>\n",
       "      <td>53.70</td>\n",
       "      <td>61.20</td>\n",
       "      <td>76.60</td>\n",
       "    </tr>\n",
       "    <tr>\n",
       "      <th>Tool wear min</th>\n",
       "      <td>339.00</td>\n",
       "      <td>143.78</td>\n",
       "      <td>72.76</td>\n",
       "      <td>0.00</td>\n",
       "      <td>84.50</td>\n",
       "      <td>165.00</td>\n",
       "      <td>207.50</td>\n",
       "      <td>253.00</td>\n",
       "    </tr>\n",
       "    <tr>\n",
       "      <th>Target</th>\n",
       "      <td>339.00</td>\n",
       "      <td>1.00</td>\n",
       "      <td>0.00</td>\n",
       "      <td>1.00</td>\n",
       "      <td>1.00</td>\n",
       "      <td>1.00</td>\n",
       "      <td>1.00</td>\n",
       "      <td>1.00</td>\n",
       "    </tr>\n",
       "  </tbody>\n",
       "</table>\n",
       "</div>"
      ],
      "text/plain": [
       "                        count     mean     std      min      25%      50%  \\\n",
       "Air temperature K      339.00   300.89    2.07   295.60   299.10   301.60   \n",
       "Process temperature K  339.00   310.29    1.36   306.10   309.50   310.40   \n",
       "Rotational speed rpm   339.00  1496.49  384.94  1181.00  1326.50  1365.00   \n",
       "Torque Nm              339.00    50.17   16.37     3.80    45.95    53.70   \n",
       "Tool wear min          339.00   143.78   72.76     0.00    84.50   165.00   \n",
       "Target                 339.00     1.00    0.00     1.00     1.00     1.00   \n",
       "\n",
       "                           75%      max  \n",
       "Air temperature K       302.50   304.40  \n",
       "Process temperature K   311.20   313.70  \n",
       "Rotational speed rpm   1421.50  2886.00  \n",
       "Torque Nm                61.20    76.60  \n",
       "Tool wear min           207.50   253.00  \n",
       "Target                    1.00     1.00  "
      ]
     },
     "execution_count": 135,
     "metadata": {},
     "output_type": "execute_result"
    }
   ],
   "source": [
    "# look at distribution\n",
    "df[df.Target == 1].describe().transpose().applymap(\"{:.2f}\".format)"
   ]
  },
  {
   "cell_type": "markdown",
   "metadata": {},
   "source": [
    "Based on the distributions, we can see that the mean of tool wear and torque are a lot higher for failures than for non-failures. Our first assumption is that for high tool wear values a failure is more likely to happen, as the machine was used a lot and shows abrasion. On top of that if the tool is set under stress with force a crash is more likely to happen if the tool wear is already high. We have a further look into the distributions."
   ]
  },
  {
   "cell_type": "code",
   "execution_count": 136,
   "metadata": {},
   "outputs": [
    {
     "data": {
      "image/png": "[encoded data removed]",
      "text/plain": [
       "<Figure size 432x288 with 1 Axes>"
      ]
     },
     "metadata": {
      "needs_background": "light"
     },
     "output_type": "display_data"
    }
   ],
   "source": [
    "plt.scatter(df[df.Target == 1].index, df[df.Target == 1]['Tool wear min'], color='b')\n",
    "plt.title('Distribution Tool wear')\n",
    "plt.xlabel('Amount of produced produces')\n",
    "plt.ylabel('Tool wear')\n",
    "plt.show()"
   ]
  },
  {
   "cell_type": "code",
   "execution_count": 393,
   "metadata": {},
   "outputs": [
    {
     "data": {
      "image/png": "[encoded data removed]",
      "text/plain": [
       "<Figure size 432x288 with 1 Axes>"
      ]
     },
     "metadata": {
      "needs_background": "light"
     },
     "output_type": "display_data"
    }
   ],
   "source": [
    "plt.scatter(df[df.Target == 0].index, df[df.Target == 0]['Tool wear min'], color='b')\n",
    "plt.title('Distribution Tool wear')\n",
    "plt.xlabel('Amount of produced produces')\n",
    "plt.ylabel('Tool wear')\n",
    "plt.show()"
   ]
  },
  {
   "cell_type": "code",
   "execution_count": 137,
   "metadata": {},
   "outputs": [
    {
     "data": {
      "image/png": "[encoded data removed]",
      "text/plain": [
       "<Figure size 432x288 with 1 Axes>"
      ]
     },
     "metadata": {
      "needs_background": "light"
     },
     "output_type": "display_data"
    }
   ],
   "source": [
    "plt.scatter(df[df.Target == 1].index, df[df.Target == 1]['Torque Nm'], color='b')\n",
    "plt.title('Distribution Torque')\n",
    "plt.xlabel('Amount of produced produces')\n",
    "plt.ylabel('Torque')\n",
    "plt.show()"
   ]
  },
  {
   "cell_type": "code",
   "execution_count": 379,
   "metadata": {},
   "outputs": [
    {
     "data": {
      "image/png": "[encoded data removed]",
      "text/plain": [
       "<Figure size 432x288 with 1 Axes>"
      ]
     },
     "metadata": {
      "needs_background": "light"
     },
     "output_type": "display_data"
    }
   ],
   "source": [
    "plt.scatter(df[df.Target == 0].index, df[df.Target == 0]['Torque Nm'], color='b')\n",
    "plt.title('Distribution Torque')\n",
    "plt.xlabel('Amount of produced produces')\n",
    "plt.ylabel('Torque')\n",
    "plt.show()"
   ]
  },
  {
   "cell_type": "code",
   "execution_count": 394,
   "metadata": {},
   "outputs": [
    {
     "data": {
      "image/png": "[encoded data removed]",
      "text/plain": [
       "<Figure size 432x288 with 1 Axes>"
      ]
     },
     "metadata": {
      "needs_background": "light"
     },
     "output_type": "display_data"
    }
   ],
   "source": [
    "plt.scatter(df[df.Target == 1].index, df[df.Target == 1]['Rotational speed rpm'], color='b')\n",
    "plt.title('Distribution Torque')\n",
    "plt.xlabel('Amount of produced produces')\n",
    "plt.ylabel('Torque')\n",
    "plt.show()"
   ]
  },
  {
   "cell_type": "code",
   "execution_count": 396,
   "metadata": {},
   "outputs": [
    {
     "data": {
      "image/png": "[encoded data removed]",
      "text/plain": [
       "<Figure size 432x288 with 1 Axes>"
      ]
     },
     "metadata": {
      "needs_background": "light"
     },
     "output_type": "display_data"
    }
   ],
   "source": [
    "plt.scatter(df[df.Target == 0].index, df[df.Target == 0]['Rotational speed rpm'], color='b')\n",
    "plt.title('Distribution Torque')\n",
    "plt.xlabel('Amount of produced produces')\n",
    "plt.ylabel('Torque')\n",
    "plt.show()"
   ]
  },
  {
   "cell_type": "code",
   "execution_count": 397,
   "metadata": {},
   "outputs": [
    {
     "data": {
      "image/png": "[encoded data removed]",
      "text/plain": [
       "<Figure size 432x288 with 1 Axes>"
      ]
     },
     "metadata": {
      "needs_background": "light"
     },
     "output_type": "display_data"
    }
   ],
   "source": [
    "plt.scatter(df[df.Target == 1].index, df[df.Target == 1]['Process temperature K'], color='b')\n",
    "plt.title('Distribution Torque')\n",
    "plt.xlabel('Amount of produced produces')\n",
    "plt.ylabel('Torque')\n",
    "plt.show()"
   ]
  },
  {
   "cell_type": "code",
   "execution_count": 398,
   "metadata": {},
   "outputs": [
    {
     "data": {
      "image/png": "[encoded data removed]",
      "text/plain": [
       "<Figure size 432x288 with 1 Axes>"
      ]
     },
     "metadata": {
      "needs_background": "light"
     },
     "output_type": "display_data"
    }
   ],
   "source": [
    "plt.scatter(df[df.Target == 0].index, df[df.Target == 0]['Process temperature K'], color='b')\n",
    "plt.title('Distribution Torque')\n",
    "plt.xlabel('Amount of produced produces')\n",
    "plt.ylabel('Torque')\n",
    "plt.show()"
   ]
  },
  {
   "cell_type": "code",
   "execution_count": 400,
   "metadata": {},
   "outputs": [
    {
     "data": {
      "image/png": "[encoded data removed]",
      "text/plain": [
       "<Figure size 432x288 with 1 Axes>"
      ]
     },
     "metadata": {
      "needs_background": "light"
     },
     "output_type": "display_data"
    }
   ],
   "source": [
    "plt.scatter(df[df.Target == 1].index, df[df.Target == 1]['Air temperature K'], color='b')\n",
    "plt.title('Distribution Torque')\n",
    "plt.xlabel('Amount of produced produces')\n",
    "plt.ylabel('Torque')\n",
    "plt.show()"
   ]
  },
  {
   "cell_type": "code",
   "execution_count": 401,
   "metadata": {},
   "outputs": [
    {
     "data": {
      "image/png": "[encoded data removed]",
      "text/plain": [
       "<Figure size 432x288 with 1 Axes>"
      ]
     },
     "metadata": {
      "needs_background": "light"
     },
     "output_type": "display_data"
    }
   ],
   "source": [
    "plt.scatter(df[df.Target == 0].index, df[df.Target == 0]['Air temperature K'], color='b')\n",
    "plt.title('Distribution Torque')\n",
    "plt.xlabel('Amount of produced produces')\n",
    "plt.ylabel('Torque')\n",
    "plt.show()"
   ]
  },
  {
   "cell_type": "code",
   "execution_count": null,
   "metadata": {},
   "outputs": [],
   "source": []
  },
  {
   "cell_type": "markdown",
   "metadata": {},
   "source": [
    "Due to the distribution, we will insert a binary variable to indicate if Torque is above 45 and simultaneously tool wear above 175."
   ]
  },
  {
   "cell_type": "code",
   "execution_count": 386,
   "metadata": {},
   "outputs": [],
   "source": [
    "df['tool_wear_torque_high'] = 0"
   ]
  },
  {
   "cell_type": "code",
   "execution_count": 387,
   "metadata": {},
   "outputs": [],
   "source": [
    "df.loc[((df['Tool wear min'] > 199)&(df['Rotational speed rpm'] > 140)), 'tool_wear_torque_high'] = 1"
   ]
  },
  {
   "cell_type": "markdown",
   "metadata": {},
   "source": [
    "We will also have a look which values were predicted wrongly."
   ]
  },
  {
   "cell_type": "code",
   "execution_count": 374,
   "metadata": {},
   "outputs": [],
   "source": [
    "df_comparison = pd.concat([data_val.reset_index(),target_val.reset_index(drop=True), pd.Series(prediction)], axis=1)"
   ]
  },
  {
   "cell_type": "code",
   "execution_count": 375,
   "metadata": {},
   "outputs": [
    {
     "data": {
      "text/html": [
       "<div>\n",
       "<style scoped>\n",
       "    .dataframe tbody tr th:only-of-type {\n",
       "        vertical-align: middle;\n",
       "    }\n",
       "\n",
       "    .dataframe tbody tr th {\n",
       "        vertical-align: top;\n",
       "    }\n",
       "\n",
       "    .dataframe thead th {\n",
       "        text-align: right;\n",
       "    }\n",
       "</style>\n",
       "<table border=\"1\" class=\"dataframe\">\n",
       "  <thead>\n",
       "    <tr style=\"text-align: right;\">\n",
       "      <th></th>\n",
       "      <th>index</th>\n",
       "      <th>Air temperature K</th>\n",
       "      <th>Process temperature K</th>\n",
       "      <th>Rotational speed rpm</th>\n",
       "      <th>Torque Nm</th>\n",
       "      <th>Tool wear min</th>\n",
       "      <th>tool_wear_torque_high</th>\n",
       "      <th>Type_H</th>\n",
       "      <th>Type_L</th>\n",
       "      <th>Type_M</th>\n",
       "      <th>Target</th>\n",
       "      <th>0</th>\n",
       "    </tr>\n",
       "  </thead>\n",
       "  <tbody>\n",
       "    <tr>\n",
       "      <th>0</th>\n",
       "      <td>1267</td>\n",
       "      <td>-0.954816</td>\n",
       "      <td>-0.273958</td>\n",
       "      <td>0.055368</td>\n",
       "      <td>-0.129306</td>\n",
       "      <td>-1.007403</td>\n",
       "      <td>0</td>\n",
       "      <td>0.0</td>\n",
       "      <td>0.0</td>\n",
       "      <td>1.0</td>\n",
       "      <td>0</td>\n",
       "      <td>0</td>\n",
       "    </tr>\n",
       "    <tr>\n",
       "      <th>1</th>\n",
       "      <td>5085</td>\n",
       "      <td>1.999787</td>\n",
       "      <td>2.026827</td>\n",
       "      <td>-0.904749</td>\n",
       "      <td>1.599876</td>\n",
       "      <td>-0.725095</td>\n",
       "      <td>0</td>\n",
       "      <td>0.0</td>\n",
       "      <td>0.0</td>\n",
       "      <td>1.0</td>\n",
       "      <td>0</td>\n",
       "      <td>0</td>\n",
       "    </tr>\n",
       "    <tr>\n",
       "      <th>2</th>\n",
       "      <td>440</td>\n",
       "      <td>-1.305362</td>\n",
       "      <td>-1.018330</td>\n",
       "      <td>-0.837764</td>\n",
       "      <td>-0.079330</td>\n",
       "      <td>-0.834881</td>\n",
       "      <td>0</td>\n",
       "      <td>0.0</td>\n",
       "      <td>1.0</td>\n",
       "      <td>0.0</td>\n",
       "      <td>0</td>\n",
       "      <td>0</td>\n",
       "    </tr>\n",
       "    <tr>\n",
       "      <th>3</th>\n",
       "      <td>3445</td>\n",
       "      <td>0.797915</td>\n",
       "      <td>0.402743</td>\n",
       "      <td>0.334472</td>\n",
       "      <td>-0.389183</td>\n",
       "      <td>1.580419</td>\n",
       "      <td>2</td>\n",
       "      <td>0.0</td>\n",
       "      <td>0.0</td>\n",
       "      <td>1.0</td>\n",
       "      <td>0</td>\n",
       "      <td>0</td>\n",
       "    </tr>\n",
       "    <tr>\n",
       "      <th>4</th>\n",
       "      <td>1693</td>\n",
       "      <td>-1.004894</td>\n",
       "      <td>-1.695032</td>\n",
       "      <td>0.803366</td>\n",
       "      <td>-1.218791</td>\n",
       "      <td>-1.274027</td>\n",
       "      <td>0</td>\n",
       "      <td>1.0</td>\n",
       "      <td>0.0</td>\n",
       "      <td>0.0</td>\n",
       "      <td>0</td>\n",
       "      <td>0</td>\n",
       "    </tr>\n",
       "    <tr>\n",
       "      <th>...</th>\n",
       "      <td>...</td>\n",
       "      <td>...</td>\n",
       "      <td>...</td>\n",
       "      <td>...</td>\n",
       "      <td>...</td>\n",
       "      <td>...</td>\n",
       "      <td>...</td>\n",
       "      <td>...</td>\n",
       "      <td>...</td>\n",
       "      <td>...</td>\n",
       "      <td>...</td>\n",
       "      <td>...</td>\n",
       "    </tr>\n",
       "    <tr>\n",
       "      <th>1595</th>\n",
       "      <td>7388</td>\n",
       "      <td>-0.103489</td>\n",
       "      <td>0.402743</td>\n",
       "      <td>0.864769</td>\n",
       "      <td>-0.868956</td>\n",
       "      <td>0.215931</td>\n",
       "      <td>0</td>\n",
       "      <td>0.0</td>\n",
       "      <td>0.0</td>\n",
       "      <td>1.0</td>\n",
       "      <td>0</td>\n",
       "      <td>0</td>\n",
       "    </tr>\n",
       "    <tr>\n",
       "      <th>1596</th>\n",
       "      <td>7443</td>\n",
       "      <td>0.046745</td>\n",
       "      <td>1.079445</td>\n",
       "      <td>0.278651</td>\n",
       "      <td>-0.209268</td>\n",
       "      <td>-1.101505</td>\n",
       "      <td>0</td>\n",
       "      <td>1.0</td>\n",
       "      <td>0.0</td>\n",
       "      <td>0.0</td>\n",
       "      <td>0</td>\n",
       "      <td>0</td>\n",
       "    </tr>\n",
       "    <tr>\n",
       "      <th>1597</th>\n",
       "      <td>8008</td>\n",
       "      <td>0.397291</td>\n",
       "      <td>1.282455</td>\n",
       "      <td>-0.698212</td>\n",
       "      <td>0.110581</td>\n",
       "      <td>1.000120</td>\n",
       "      <td>0</td>\n",
       "      <td>0.0</td>\n",
       "      <td>1.0</td>\n",
       "      <td>0.0</td>\n",
       "      <td>0</td>\n",
       "      <td>0</td>\n",
       "    </tr>\n",
       "    <tr>\n",
       "      <th>1598</th>\n",
       "      <td>8365</td>\n",
       "      <td>-0.604270</td>\n",
       "      <td>-0.138618</td>\n",
       "      <td>0.066532</td>\n",
       "      <td>-0.339207</td>\n",
       "      <td>-1.446548</td>\n",
       "      <td>0</td>\n",
       "      <td>0.0</td>\n",
       "      <td>0.0</td>\n",
       "      <td>1.0</td>\n",
       "      <td>0</td>\n",
       "      <td>0</td>\n",
       "    </tr>\n",
       "    <tr>\n",
       "      <th>1599</th>\n",
       "      <td>1436</td>\n",
       "      <td>-0.604270</td>\n",
       "      <td>-0.138618</td>\n",
       "      <td>-0.162333</td>\n",
       "      <td>0.420434</td>\n",
       "      <td>-1.132873</td>\n",
       "      <td>0</td>\n",
       "      <td>1.0</td>\n",
       "      <td>0.0</td>\n",
       "      <td>0.0</td>\n",
       "      <td>0</td>\n",
       "      <td>0</td>\n",
       "    </tr>\n",
       "  </tbody>\n",
       "</table>\n",
       "<p>1600 rows × 12 columns</p>\n",
       "</div>"
      ],
      "text/plain": [
       "      index  Air temperature K  Process temperature K  Rotational speed rpm  \\\n",
       "0      1267          -0.954816              -0.273958              0.055368   \n",
       "1      5085           1.999787               2.026827             -0.904749   \n",
       "2       440          -1.305362              -1.018330             -0.837764   \n",
       "3      3445           0.797915               0.402743              0.334472   \n",
       "4      1693          -1.004894              -1.695032              0.803366   \n",
       "...     ...                ...                    ...                   ...   \n",
       "1595   7388          -0.103489               0.402743              0.864769   \n",
       "1596   7443           0.046745               1.079445              0.278651   \n",
       "1597   8008           0.397291               1.282455             -0.698212   \n",
       "1598   8365          -0.604270              -0.138618              0.066532   \n",
       "1599   1436          -0.604270              -0.138618             -0.162333   \n",
       "\n",
       "      Torque Nm  Tool wear min  tool_wear_torque_high  Type_H  Type_L  Type_M  \\\n",
       "0     -0.129306      -1.007403                      0     0.0     0.0     1.0   \n",
       "1      1.599876      -0.725095                      0     0.0     0.0     1.0   \n",
       "2     -0.079330      -0.834881                      0     0.0     1.0     0.0   \n",
       "3     -0.389183       1.580419                      2     0.0     0.0     1.0   \n",
       "4     -1.218791      -1.274027                      0     1.0     0.0     0.0   \n",
       "...         ...            ...                    ...     ...     ...     ...   \n",
       "1595  -0.868956       0.215931                      0     0.0     0.0     1.0   \n",
       "1596  -0.209268      -1.101505                      0     1.0     0.0     0.0   \n",
       "1597   0.110581       1.000120                      0     0.0     1.0     0.0   \n",
       "1598  -0.339207      -1.446548                      0     0.0     0.0     1.0   \n",
       "1599   0.420434      -1.132873                      0     1.0     0.0     0.0   \n",
       "\n",
       "      Target  0  \n",
       "0          0  0  \n",
       "1          0  0  \n",
       "2          0  0  \n",
       "3          0  0  \n",
       "4          0  0  \n",
       "...      ... ..  \n",
       "1595       0  0  \n",
       "1596       0  0  \n",
       "1597       0  0  \n",
       "1598       0  0  \n",
       "1599       0  0  \n",
       "\n",
       "[1600 rows x 12 columns]"
      ]
     },
     "execution_count": 375,
     "metadata": {},
     "output_type": "execute_result"
    }
   ],
   "source": [
    "df_comparison"
   ]
  },
  {
   "cell_type": "code",
   "execution_count": 377,
   "metadata": {},
   "outputs": [],
   "source": [
    "index_list = df_comparison[(df_comparison.Target!=df_comparison[0])]['index'].to_list()"
   ]
  },
  {
   "cell_type": "code",
   "execution_count": 378,
   "metadata": {},
   "outputs": [
    {
     "data": {
      "text/html": [
       "<div>\n",
       "<style scoped>\n",
       "    .dataframe tbody tr th:only-of-type {\n",
       "        vertical-align: middle;\n",
       "    }\n",
       "\n",
       "    .dataframe tbody tr th {\n",
       "        vertical-align: top;\n",
       "    }\n",
       "\n",
       "    .dataframe thead th {\n",
       "        text-align: right;\n",
       "    }\n",
       "</style>\n",
       "<table border=\"1\" class=\"dataframe\">\n",
       "  <thead>\n",
       "    <tr style=\"text-align: right;\">\n",
       "      <th></th>\n",
       "      <th>Type</th>\n",
       "      <th>Air temperature K</th>\n",
       "      <th>Process temperature K</th>\n",
       "      <th>Rotational speed rpm</th>\n",
       "      <th>Torque Nm</th>\n",
       "      <th>Tool wear min</th>\n",
       "      <th>Target</th>\n",
       "      <th>tool_wear_torque_high</th>\n",
       "    </tr>\n",
       "  </thead>\n",
       "  <tbody>\n",
       "    <tr>\n",
       "      <th>1162</th>\n",
       "      <td>L</td>\n",
       "      <td>296.9</td>\n",
       "      <td>307.8</td>\n",
       "      <td>1400</td>\n",
       "      <td>57.1</td>\n",
       "      <td>202</td>\n",
       "      <td>1</td>\n",
       "      <td>2</td>\n",
       "    </tr>\n",
       "    <tr>\n",
       "      <th>1509</th>\n",
       "      <td>L</td>\n",
       "      <td>298.0</td>\n",
       "      <td>308.5</td>\n",
       "      <td>1429</td>\n",
       "      <td>37.7</td>\n",
       "      <td>220</td>\n",
       "      <td>1</td>\n",
       "      <td>2</td>\n",
       "    </tr>\n",
       "    <tr>\n",
       "      <th>1756</th>\n",
       "      <td>M</td>\n",
       "      <td>298.1</td>\n",
       "      <td>307.4</td>\n",
       "      <td>1363</td>\n",
       "      <td>60.1</td>\n",
       "      <td>187</td>\n",
       "      <td>0</td>\n",
       "      <td>0</td>\n",
       "    </tr>\n",
       "    <tr>\n",
       "      <th>2332</th>\n",
       "      <td>L</td>\n",
       "      <td>299.2</td>\n",
       "      <td>308.5</td>\n",
       "      <td>1378</td>\n",
       "      <td>50.4</td>\n",
       "      <td>220</td>\n",
       "      <td>1</td>\n",
       "      <td>2</td>\n",
       "    </tr>\n",
       "    <tr>\n",
       "      <th>3461</th>\n",
       "      <td>H</td>\n",
       "      <td>301.6</td>\n",
       "      <td>310.4</td>\n",
       "      <td>1330</td>\n",
       "      <td>49.5</td>\n",
       "      <td>30</td>\n",
       "      <td>0</td>\n",
       "      <td>0</td>\n",
       "    </tr>\n",
       "    <tr>\n",
       "      <th>4002</th>\n",
       "      <td>L</td>\n",
       "      <td>302.1</td>\n",
       "      <td>311.2</td>\n",
       "      <td>1454</td>\n",
       "      <td>59.2</td>\n",
       "      <td>153</td>\n",
       "      <td>1</td>\n",
       "      <td>0</td>\n",
       "    </tr>\n",
       "    <tr>\n",
       "      <th>4191</th>\n",
       "      <td>L</td>\n",
       "      <td>302.4</td>\n",
       "      <td>311.0</td>\n",
       "      <td>1317</td>\n",
       "      <td>59.4</td>\n",
       "      <td>179</td>\n",
       "      <td>0</td>\n",
       "      <td>0</td>\n",
       "    </tr>\n",
       "    <tr>\n",
       "      <th>4233</th>\n",
       "      <td>M</td>\n",
       "      <td>302.2</td>\n",
       "      <td>310.9</td>\n",
       "      <td>1302</td>\n",
       "      <td>53.4</td>\n",
       "      <td>58</td>\n",
       "      <td>0</td>\n",
       "      <td>0</td>\n",
       "    </tr>\n",
       "    <tr>\n",
       "      <th>4816</th>\n",
       "      <td>L</td>\n",
       "      <td>303.4</td>\n",
       "      <td>312.0</td>\n",
       "      <td>1521</td>\n",
       "      <td>35.9</td>\n",
       "      <td>215</td>\n",
       "      <td>1</td>\n",
       "      <td>2</td>\n",
       "    </tr>\n",
       "    <tr>\n",
       "      <th>5617</th>\n",
       "      <td>L</td>\n",
       "      <td>303.1</td>\n",
       "      <td>312.4</td>\n",
       "      <td>1404</td>\n",
       "      <td>61.5</td>\n",
       "      <td>127</td>\n",
       "      <td>1</td>\n",
       "      <td>0</td>\n",
       "    </tr>\n",
       "    <tr>\n",
       "      <th>5941</th>\n",
       "      <td>L</td>\n",
       "      <td>300.6</td>\n",
       "      <td>310.7</td>\n",
       "      <td>1438</td>\n",
       "      <td>48.5</td>\n",
       "      <td>78</td>\n",
       "      <td>1</td>\n",
       "      <td>0</td>\n",
       "    </tr>\n",
       "    <tr>\n",
       "      <th>6172</th>\n",
       "      <td>L</td>\n",
       "      <td>300.8</td>\n",
       "      <td>310.6</td>\n",
       "      <td>1577</td>\n",
       "      <td>37.9</td>\n",
       "      <td>227</td>\n",
       "      <td>1</td>\n",
       "      <td>2</td>\n",
       "    </tr>\n",
       "    <tr>\n",
       "      <th>6256</th>\n",
       "      <td>L</td>\n",
       "      <td>301.0</td>\n",
       "      <td>310.6</td>\n",
       "      <td>1493</td>\n",
       "      <td>37.8</td>\n",
       "      <td>206</td>\n",
       "      <td>1</td>\n",
       "      <td>2</td>\n",
       "    </tr>\n",
       "    <tr>\n",
       "      <th>6419</th>\n",
       "      <td>H</td>\n",
       "      <td>300.3</td>\n",
       "      <td>309.9</td>\n",
       "      <td>1394</td>\n",
       "      <td>46.7</td>\n",
       "      <td>210</td>\n",
       "      <td>1</td>\n",
       "      <td>2</td>\n",
       "    </tr>\n",
       "    <tr>\n",
       "      <th>6618</th>\n",
       "      <td>M</td>\n",
       "      <td>301.6</td>\n",
       "      <td>310.6</td>\n",
       "      <td>1309</td>\n",
       "      <td>65.8</td>\n",
       "      <td>75</td>\n",
       "      <td>1</td>\n",
       "      <td>0</td>\n",
       "    </tr>\n",
       "    <tr>\n",
       "      <th>6990</th>\n",
       "      <td>L</td>\n",
       "      <td>300.7</td>\n",
       "      <td>311.1</td>\n",
       "      <td>2478</td>\n",
       "      <td>13.4</td>\n",
       "      <td>170</td>\n",
       "      <td>1</td>\n",
       "      <td>0</td>\n",
       "    </tr>\n",
       "    <tr>\n",
       "      <th>7763</th>\n",
       "      <td>L</td>\n",
       "      <td>300.4</td>\n",
       "      <td>311.6</td>\n",
       "      <td>1200</td>\n",
       "      <td>76.6</td>\n",
       "      <td>3</td>\n",
       "      <td>1</td>\n",
       "      <td>0</td>\n",
       "    </tr>\n",
       "    <tr>\n",
       "      <th>8003</th>\n",
       "      <td>M</td>\n",
       "      <td>300.8</td>\n",
       "      <td>312.0</td>\n",
       "      <td>1274</td>\n",
       "      <td>67.3</td>\n",
       "      <td>159</td>\n",
       "      <td>0</td>\n",
       "      <td>0</td>\n",
       "    </tr>\n",
       "    <tr>\n",
       "      <th>8028</th>\n",
       "      <td>L</td>\n",
       "      <td>300.6</td>\n",
       "      <td>311.8</td>\n",
       "      <td>1501</td>\n",
       "      <td>44.8</td>\n",
       "      <td>226</td>\n",
       "      <td>0</td>\n",
       "      <td>2</td>\n",
       "    </tr>\n",
       "    <tr>\n",
       "      <th>8199</th>\n",
       "      <td>L</td>\n",
       "      <td>299.2</td>\n",
       "      <td>310.7</td>\n",
       "      <td>1737</td>\n",
       "      <td>27.0</td>\n",
       "      <td>225</td>\n",
       "      <td>1</td>\n",
       "      <td>2</td>\n",
       "    </tr>\n",
       "    <tr>\n",
       "      <th>8357</th>\n",
       "      <td>L</td>\n",
       "      <td>298.5</td>\n",
       "      <td>309.5</td>\n",
       "      <td>1385</td>\n",
       "      <td>46.3</td>\n",
       "      <td>203</td>\n",
       "      <td>1</td>\n",
       "      <td>2</td>\n",
       "    </tr>\n",
       "    <tr>\n",
       "      <th>8609</th>\n",
       "      <td>L</td>\n",
       "      <td>297.4</td>\n",
       "      <td>308.3</td>\n",
       "      <td>1475</td>\n",
       "      <td>40.5</td>\n",
       "      <td>222</td>\n",
       "      <td>1</td>\n",
       "      <td>2</td>\n",
       "    </tr>\n",
       "    <tr>\n",
       "      <th>8690</th>\n",
       "      <td>L</td>\n",
       "      <td>297.1</td>\n",
       "      <td>308.5</td>\n",
       "      <td>1323</td>\n",
       "      <td>44.4</td>\n",
       "      <td>207</td>\n",
       "      <td>1</td>\n",
       "      <td>2</td>\n",
       "    </tr>\n",
       "    <tr>\n",
       "      <th>9613</th>\n",
       "      <td>L</td>\n",
       "      <td>299.0</td>\n",
       "      <td>310.2</td>\n",
       "      <td>1377</td>\n",
       "      <td>62.5</td>\n",
       "      <td>92</td>\n",
       "      <td>1</td>\n",
       "      <td>0</td>\n",
       "    </tr>\n",
       "    <tr>\n",
       "      <th>9758</th>\n",
       "      <td>L</td>\n",
       "      <td>298.6</td>\n",
       "      <td>309.8</td>\n",
       "      <td>2271</td>\n",
       "      <td>16.2</td>\n",
       "      <td>218</td>\n",
       "      <td>1</td>\n",
       "      <td>2</td>\n",
       "    </tr>\n",
       "  </tbody>\n",
       "</table>\n",
       "</div>"
      ],
      "text/plain": [
       "     Type  Air temperature K  Process temperature K  Rotational speed rpm  \\\n",
       "1162    L              296.9                  307.8                  1400   \n",
       "1509    L              298.0                  308.5                  1429   \n",
       "1756    M              298.1                  307.4                  1363   \n",
       "2332    L              299.2                  308.5                  1378   \n",
       "3461    H              301.6                  310.4                  1330   \n",
       "4002    L              302.1                  311.2                  1454   \n",
       "4191    L              302.4                  311.0                  1317   \n",
       "4233    M              302.2                  310.9                  1302   \n",
       "4816    L              303.4                  312.0                  1521   \n",
       "5617    L              303.1                  312.4                  1404   \n",
       "5941    L              300.6                  310.7                  1438   \n",
       "6172    L              300.8                  310.6                  1577   \n",
       "6256    L              301.0                  310.6                  1493   \n",
       "6419    H              300.3                  309.9                  1394   \n",
       "6618    M              301.6                  310.6                  1309   \n",
       "6990    L              300.7                  311.1                  2478   \n",
       "7763    L              300.4                  311.6                  1200   \n",
       "8003    M              300.8                  312.0                  1274   \n",
       "8028    L              300.6                  311.8                  1501   \n",
       "8199    L              299.2                  310.7                  1737   \n",
       "8357    L              298.5                  309.5                  1385   \n",
       "8609    L              297.4                  308.3                  1475   \n",
       "8690    L              297.1                  308.5                  1323   \n",
       "9613    L              299.0                  310.2                  1377   \n",
       "9758    L              298.6                  309.8                  2271   \n",
       "\n",
       "      Torque Nm  Tool wear min  Target  tool_wear_torque_high  \n",
       "1162       57.1            202       1                      2  \n",
       "1509       37.7            220       1                      2  \n",
       "1756       60.1            187       0                      0  \n",
       "2332       50.4            220       1                      2  \n",
       "3461       49.5             30       0                      0  \n",
       "4002       59.2            153       1                      0  \n",
       "4191       59.4            179       0                      0  \n",
       "4233       53.4             58       0                      0  \n",
       "4816       35.9            215       1                      2  \n",
       "5617       61.5            127       1                      0  \n",
       "5941       48.5             78       1                      0  \n",
       "6172       37.9            227       1                      2  \n",
       "6256       37.8            206       1                      2  \n",
       "6419       46.7            210       1                      2  \n",
       "6618       65.8             75       1                      0  \n",
       "6990       13.4            170       1                      0  \n",
       "7763       76.6              3       1                      0  \n",
       "8003       67.3            159       0                      0  \n",
       "8028       44.8            226       0                      2  \n",
       "8199       27.0            225       1                      2  \n",
       "8357       46.3            203       1                      2  \n",
       "8609       40.5            222       1                      2  \n",
       "8690       44.4            207       1                      2  \n",
       "9613       62.5             92       1                      0  \n",
       "9758       16.2            218       1                      2  "
      ]
     },
     "execution_count": 378,
     "metadata": {},
     "output_type": "execute_result"
    }
   ],
   "source": [
    "df[df.index.isin(index_list)]"
   ]
  },
  {
   "cell_type": "code",
   "execution_count": null,
   "metadata": {},
   "outputs": [],
   "source": []
  },
  {
   "cell_type": "code",
   "execution_count": null,
   "metadata": {},
   "outputs": [],
   "source": []
  },
  {
   "cell_type": "code",
   "execution_count": null,
   "metadata": {},
   "outputs": [],
   "source": []
  },
  {
   "cell_type": "code",
   "execution_count": 388,
   "metadata": {},
   "outputs": [
    {
     "name": "stderr",
     "output_type": "stream",
     "text": [
      "C:\\Users\\Nikla\\anaconda3\\envs\\Industrial-Applications-of-Artificial-Intelligence\\lib\\site-packages\\sklearn\\utils\\deprecation.py:87: FutureWarning: Function get_feature_names is deprecated; get_feature_names is deprecated in 1.0 and will be removed in 1.2. Please use get_feature_names_out instead.\n",
      "  warnings.warn(msg, category=FutureWarning)\n"
     ]
    },
    {
     "data": {
      "text/html": [
       "<div>\n",
       "<style scoped>\n",
       "    .dataframe tbody tr th:only-of-type {\n",
       "        vertical-align: middle;\n",
       "    }\n",
       "\n",
       "    .dataframe tbody tr th {\n",
       "        vertical-align: top;\n",
       "    }\n",
       "\n",
       "    .dataframe thead th {\n",
       "        text-align: right;\n",
       "    }\n",
       "</style>\n",
       "<table border=\"1\" class=\"dataframe\">\n",
       "  <thead>\n",
       "    <tr style=\"text-align: right;\">\n",
       "      <th></th>\n",
       "      <th>Air temperature K</th>\n",
       "      <th>Process temperature K</th>\n",
       "      <th>Rotational speed rpm</th>\n",
       "      <th>Torque Nm</th>\n",
       "      <th>Tool wear min</th>\n",
       "      <th>Target</th>\n",
       "      <th>tool_wear_torque_high</th>\n",
       "      <th>Type_H</th>\n",
       "      <th>Type_L</th>\n",
       "      <th>Type_M</th>\n",
       "    </tr>\n",
       "  </thead>\n",
       "  <tbody>\n",
       "    <tr>\n",
       "      <th>0</th>\n",
       "      <td>298.1</td>\n",
       "      <td>308.6</td>\n",
       "      <td>1551</td>\n",
       "      <td>42.8</td>\n",
       "      <td>0</td>\n",
       "      <td>0</td>\n",
       "      <td>0</td>\n",
       "      <td>0.0</td>\n",
       "      <td>0.0</td>\n",
       "      <td>1.0</td>\n",
       "    </tr>\n",
       "    <tr>\n",
       "      <th>1</th>\n",
       "      <td>298.2</td>\n",
       "      <td>308.7</td>\n",
       "      <td>1408</td>\n",
       "      <td>46.3</td>\n",
       "      <td>3</td>\n",
       "      <td>0</td>\n",
       "      <td>0</td>\n",
       "      <td>0.0</td>\n",
       "      <td>1.0</td>\n",
       "      <td>0.0</td>\n",
       "    </tr>\n",
       "    <tr>\n",
       "      <th>2</th>\n",
       "      <td>298.1</td>\n",
       "      <td>308.5</td>\n",
       "      <td>1498</td>\n",
       "      <td>49.4</td>\n",
       "      <td>5</td>\n",
       "      <td>0</td>\n",
       "      <td>0</td>\n",
       "      <td>0.0</td>\n",
       "      <td>1.0</td>\n",
       "      <td>0.0</td>\n",
       "    </tr>\n",
       "    <tr>\n",
       "      <th>3</th>\n",
       "      <td>298.2</td>\n",
       "      <td>308.6</td>\n",
       "      <td>1433</td>\n",
       "      <td>39.5</td>\n",
       "      <td>7</td>\n",
       "      <td>0</td>\n",
       "      <td>0</td>\n",
       "      <td>0.0</td>\n",
       "      <td>1.0</td>\n",
       "      <td>0.0</td>\n",
       "    </tr>\n",
       "    <tr>\n",
       "      <th>4</th>\n",
       "      <td>298.2</td>\n",
       "      <td>308.7</td>\n",
       "      <td>1408</td>\n",
       "      <td>40.0</td>\n",
       "      <td>9</td>\n",
       "      <td>0</td>\n",
       "      <td>0</td>\n",
       "      <td>0.0</td>\n",
       "      <td>1.0</td>\n",
       "      <td>0.0</td>\n",
       "    </tr>\n",
       "    <tr>\n",
       "      <th>5</th>\n",
       "      <td>298.1</td>\n",
       "      <td>308.6</td>\n",
       "      <td>1425</td>\n",
       "      <td>41.9</td>\n",
       "      <td>11</td>\n",
       "      <td>0</td>\n",
       "      <td>0</td>\n",
       "      <td>0.0</td>\n",
       "      <td>0.0</td>\n",
       "      <td>1.0</td>\n",
       "    </tr>\n",
       "    <tr>\n",
       "      <th>6</th>\n",
       "      <td>298.1</td>\n",
       "      <td>308.6</td>\n",
       "      <td>1558</td>\n",
       "      <td>42.4</td>\n",
       "      <td>14</td>\n",
       "      <td>0</td>\n",
       "      <td>0</td>\n",
       "      <td>0.0</td>\n",
       "      <td>1.0</td>\n",
       "      <td>0.0</td>\n",
       "    </tr>\n",
       "    <tr>\n",
       "      <th>7</th>\n",
       "      <td>298.1</td>\n",
       "      <td>308.6</td>\n",
       "      <td>1527</td>\n",
       "      <td>40.2</td>\n",
       "      <td>16</td>\n",
       "      <td>0</td>\n",
       "      <td>0</td>\n",
       "      <td>0.0</td>\n",
       "      <td>1.0</td>\n",
       "      <td>0.0</td>\n",
       "    </tr>\n",
       "    <tr>\n",
       "      <th>8</th>\n",
       "      <td>298.3</td>\n",
       "      <td>308.7</td>\n",
       "      <td>1667</td>\n",
       "      <td>28.6</td>\n",
       "      <td>18</td>\n",
       "      <td>0</td>\n",
       "      <td>0</td>\n",
       "      <td>0.0</td>\n",
       "      <td>0.0</td>\n",
       "      <td>1.0</td>\n",
       "    </tr>\n",
       "    <tr>\n",
       "      <th>9</th>\n",
       "      <td>298.5</td>\n",
       "      <td>309.0</td>\n",
       "      <td>1741</td>\n",
       "      <td>28.0</td>\n",
       "      <td>21</td>\n",
       "      <td>0</td>\n",
       "      <td>0</td>\n",
       "      <td>0.0</td>\n",
       "      <td>0.0</td>\n",
       "      <td>1.0</td>\n",
       "    </tr>\n",
       "  </tbody>\n",
       "</table>\n",
       "</div>"
      ],
      "text/plain": [
       "   Air temperature K  Process temperature K  Rotational speed rpm  Torque Nm  \\\n",
       "0              298.1                  308.6                  1551       42.8   \n",
       "1              298.2                  308.7                  1408       46.3   \n",
       "2              298.1                  308.5                  1498       49.4   \n",
       "3              298.2                  308.6                  1433       39.5   \n",
       "4              298.2                  308.7                  1408       40.0   \n",
       "5              298.1                  308.6                  1425       41.9   \n",
       "6              298.1                  308.6                  1558       42.4   \n",
       "7              298.1                  308.6                  1527       40.2   \n",
       "8              298.3                  308.7                  1667       28.6   \n",
       "9              298.5                  309.0                  1741       28.0   \n",
       "\n",
       "   Tool wear min  Target  tool_wear_torque_high  Type_H  Type_L  Type_M  \n",
       "0              0       0                      0     0.0     0.0     1.0  \n",
       "1              3       0                      0     0.0     1.0     0.0  \n",
       "2              5       0                      0     0.0     1.0     0.0  \n",
       "3              7       0                      0     0.0     1.0     0.0  \n",
       "4              9       0                      0     0.0     1.0     0.0  \n",
       "5             11       0                      0     0.0     0.0     1.0  \n",
       "6             14       0                      0     0.0     1.0     0.0  \n",
       "7             16       0                      0     0.0     1.0     0.0  \n",
       "8             18       0                      0     0.0     0.0     1.0  \n",
       "9             21       0                      0     0.0     0.0     1.0  "
      ]
     },
     "execution_count": 388,
     "metadata": {},
     "output_type": "execute_result"
    }
   ],
   "source": [
    "# encode type as last remaining categorical feature\n",
    "categorical_features = ['Type']\n",
    "encoder = OneHotEncoder()\n",
    "#create encoded dataframe\n",
    "encoded = pd.DataFrame(encoder.fit_transform(df[categorical_features]).toarray(), columns=encoder.get_feature_names(categorical_features))\n",
    "df_ohe = df.drop(columns=categorical_features).join(encoded)\n",
    "df_ohe.head(10)"
   ]
  },
  {
   "cell_type": "code",
   "execution_count": 389,
   "metadata": {},
   "outputs": [],
   "source": [
    "# first split up in train+val and test\n",
    "data_train_val, data_test, target_train_val, target_test = train_test_split(df_ohe.drop(columns=['Target']), df_preprocessed['Target'], test_size=0.2, random_state=42, stratify=df_preprocessed['Target'])"
   ]
  },
  {
   "cell_type": "code",
   "execution_count": 390,
   "metadata": {},
   "outputs": [],
   "source": [
    "#  split up train+val in train and val\n",
    "data_train, data_val, target_train, target_val = train_test_split(data_train_val, target_train_val, test_size=0.2, random_state=42, stratify=target_train_val)"
   ]
  },
  {
   "cell_type": "code",
   "execution_count": 391,
   "metadata": {},
   "outputs": [],
   "source": [
    "# define standard scaler\n",
    "scaler = StandardScaler()\n",
    "# features to scale\n",
    "numerical_features = ['Process temperature K','Torque Nm','Tool wear min', 'Air temperature K', 'Process temperature K', 'Rotational speed rpm' ]\n",
    "# transform data\n",
    "data_train[numerical_features] = scaler.fit_transform(data_train[numerical_features])\n",
    "data_val[numerical_features] = scaler.transform(data_val[numerical_features])\n",
    "data_test[numerical_features] = scaler.transform(data_test[numerical_features])"
   ]
  },
  {
   "cell_type": "code",
   "execution_count": 392,
   "metadata": {
    "scrolled": true
   },
   "outputs": [
    {
     "name": "stderr",
     "output_type": "stream",
     "text": [
      "C:\\Users\\Nikla\\anaconda3\\envs\\Industrial-Applications-of-Artificial-Intelligence\\lib\\site-packages\\xgboost\\sklearn.py:1224: UserWarning: The use of label encoder in XGBClassifier is deprecated and will be removed in a future release. To remove this warning, do the following: 1) Pass option use_label_encoder=False when constructing XGBClassifier object; and 2) Encode your labels (y) as integers starting with 0, i.e. 0, 1, 2, ..., [num_class - 1].\n",
      "  warnings.warn(label_encoder_deprecation_msg, UserWarning)\n",
      "C:\\Users\\Nikla\\anaconda3\\envs\\Industrial-Applications-of-Artificial-Intelligence\\lib\\site-packages\\xgboost\\data.py:262: FutureWarning: pandas.Int64Index is deprecated and will be removed from pandas in a future version. Use pandas.Index with the appropriate dtype instead.\n",
      "  elif isinstance(data.columns, (pd.Int64Index, pd.RangeIndex)):\n",
      "C:\\Users\\Nikla\\anaconda3\\envs\\Industrial-Applications-of-Artificial-Intelligence\\lib\\site-packages\\xgboost\\sklearn.py:1224: UserWarning: The use of label encoder in XGBClassifier is deprecated and will be removed in a future release. To remove this warning, do the following: 1) Pass option use_label_encoder=False when constructing XGBClassifier object; and 2) Encode your labels (y) as integers starting with 0, i.e. 0, 1, 2, ..., [num_class - 1].\n",
      "  warnings.warn(label_encoder_deprecation_msg, UserWarning)\n"
     ]
    },
    {
     "name": "stdout",
     "output_type": "stream",
     "text": [
      "[19:23:59] WARNING: C:/Users/Administrator/workspace/xgboost-win64_release_1.5.1/src/learner.cc:1115: Starting in XGBoost 1.3.0, the default evaluation metric used with the objective 'binary:logistic' was changed from 'error' to 'logloss'. Explicitly set eval_metric if you'd like to restore the old behavior.\n"
     ]
    },
    {
     "name": "stderr",
     "output_type": "stream",
     "text": [
      "C:\\Users\\Nikla\\anaconda3\\envs\\Industrial-Applications-of-Artificial-Intelligence\\lib\\site-packages\\xgboost\\data.py:262: FutureWarning: pandas.Int64Index is deprecated and will be removed from pandas in a future version. Use pandas.Index with the appropriate dtype instead.\n",
      "  elif isinstance(data.columns, (pd.Int64Index, pd.RangeIndex)):\n",
      "C:\\Users\\Nikla\\anaconda3\\envs\\Industrial-Applications-of-Artificial-Intelligence\\lib\\site-packages\\xgboost\\sklearn.py:1224: UserWarning: The use of label encoder in XGBClassifier is deprecated and will be removed in a future release. To remove this warning, do the following: 1) Pass option use_label_encoder=False when constructing XGBClassifier object; and 2) Encode your labels (y) as integers starting with 0, i.e. 0, 1, 2, ..., [num_class - 1].\n",
      "  warnings.warn(label_encoder_deprecation_msg, UserWarning)\n"
     ]
    },
    {
     "name": "stdout",
     "output_type": "stream",
     "text": [
      "[19:23:59] WARNING: C:/Users/Administrator/workspace/xgboost-win64_release_1.5.1/src/learner.cc:1115: Starting in XGBoost 1.3.0, the default evaluation metric used with the objective 'binary:logistic' was changed from 'error' to 'logloss'. Explicitly set eval_metric if you'd like to restore the old behavior.\n"
     ]
    },
    {
     "name": "stderr",
     "output_type": "stream",
     "text": [
      "C:\\Users\\Nikla\\anaconda3\\envs\\Industrial-Applications-of-Artificial-Intelligence\\lib\\site-packages\\xgboost\\data.py:262: FutureWarning: pandas.Int64Index is deprecated and will be removed from pandas in a future version. Use pandas.Index with the appropriate dtype instead.\n",
      "  elif isinstance(data.columns, (pd.Int64Index, pd.RangeIndex)):\n"
     ]
    },
    {
     "name": "stdout",
     "output_type": "stream",
     "text": [
      "[19:23:59] WARNING: C:/Users/Administrator/workspace/xgboost-win64_release_1.5.1/src/learner.cc:1115: Starting in XGBoost 1.3.0, the default evaluation metric used with the objective 'binary:logistic' was changed from 'error' to 'logloss'. Explicitly set eval_metric if you'd like to restore the old behavior.\n"
     ]
    },
    {
     "name": "stderr",
     "output_type": "stream",
     "text": [
      "C:\\Users\\Nikla\\anaconda3\\envs\\Industrial-Applications-of-Artificial-Intelligence\\lib\\site-packages\\xgboost\\sklearn.py:1224: UserWarning: The use of label encoder in XGBClassifier is deprecated and will be removed in a future release. To remove this warning, do the following: 1) Pass option use_label_encoder=False when constructing XGBClassifier object; and 2) Encode your labels (y) as integers starting with 0, i.e. 0, 1, 2, ..., [num_class - 1].\n",
      "  warnings.warn(label_encoder_deprecation_msg, UserWarning)\n",
      "C:\\Users\\Nikla\\anaconda3\\envs\\Industrial-Applications-of-Artificial-Intelligence\\lib\\site-packages\\xgboost\\data.py:262: FutureWarning: pandas.Int64Index is deprecated and will be removed from pandas in a future version. Use pandas.Index with the appropriate dtype instead.\n",
      "  elif isinstance(data.columns, (pd.Int64Index, pd.RangeIndex)):\n",
      "C:\\Users\\Nikla\\anaconda3\\envs\\Industrial-Applications-of-Artificial-Intelligence\\lib\\site-packages\\xgboost\\sklearn.py:1224: UserWarning: The use of label encoder in XGBClassifier is deprecated and will be removed in a future release. To remove this warning, do the following: 1) Pass option use_label_encoder=False when constructing XGBClassifier object; and 2) Encode your labels (y) as integers starting with 0, i.e. 0, 1, 2, ..., [num_class - 1].\n",
      "  warnings.warn(label_encoder_deprecation_msg, UserWarning)\n"
     ]
    },
    {
     "name": "stdout",
     "output_type": "stream",
     "text": [
      "[19:23:59] WARNING: C:/Users/Administrator/workspace/xgboost-win64_release_1.5.1/src/learner.cc:1115: Starting in XGBoost 1.3.0, the default evaluation metric used with the objective 'binary:logistic' was changed from 'error' to 'logloss'. Explicitly set eval_metric if you'd like to restore the old behavior.\n"
     ]
    },
    {
     "name": "stderr",
     "output_type": "stream",
     "text": [
      "C:\\Users\\Nikla\\anaconda3\\envs\\Industrial-Applications-of-Artificial-Intelligence\\lib\\site-packages\\xgboost\\data.py:262: FutureWarning: pandas.Int64Index is deprecated and will be removed from pandas in a future version. Use pandas.Index with the appropriate dtype instead.\n",
      "  elif isinstance(data.columns, (pd.Int64Index, pd.RangeIndex)):\n",
      "C:\\Users\\Nikla\\anaconda3\\envs\\Industrial-Applications-of-Artificial-Intelligence\\lib\\site-packages\\xgboost\\sklearn.py:1224: UserWarning: The use of label encoder in XGBClassifier is deprecated and will be removed in a future release. To remove this warning, do the following: 1) Pass option use_label_encoder=False when constructing XGBClassifier object; and 2) Encode your labels (y) as integers starting with 0, i.e. 0, 1, 2, ..., [num_class - 1].\n",
      "  warnings.warn(label_encoder_deprecation_msg, UserWarning)\n"
     ]
    },
    {
     "name": "stdout",
     "output_type": "stream",
     "text": [
      "[19:23:59] WARNING: C:/Users/Administrator/workspace/xgboost-win64_release_1.5.1/src/learner.cc:1115: Starting in XGBoost 1.3.0, the default evaluation metric used with the objective 'binary:logistic' was changed from 'error' to 'logloss'. Explicitly set eval_metric if you'd like to restore the old behavior.\n"
     ]
    },
    {
     "name": "stderr",
     "output_type": "stream",
     "text": [
      "C:\\Users\\Nikla\\anaconda3\\envs\\Industrial-Applications-of-Artificial-Intelligence\\lib\\site-packages\\xgboost\\data.py:262: FutureWarning: pandas.Int64Index is deprecated and will be removed from pandas in a future version. Use pandas.Index with the appropriate dtype instead.\n",
      "  elif isinstance(data.columns, (pd.Int64Index, pd.RangeIndex)):\n"
     ]
    },
    {
     "name": "stdout",
     "output_type": "stream",
     "text": [
      "[19:24:00] WARNING: C:/Users/Administrator/workspace/xgboost-win64_release_1.5.1/src/learner.cc:1115: Starting in XGBoost 1.3.0, the default evaluation metric used with the objective 'binary:logistic' was changed from 'error' to 'logloss'. Explicitly set eval_metric if you'd like to restore the old behavior.\n",
      "CV-average F1-score: 0.8742\n",
      "The F1-Score micro on the validation set: 0.8644\n",
      "The Precision on the validation set: 0.9207\n",
      "The Recall on the validation set: 0.8221\n",
      "Confusion Matrix : \n",
      "[[1540    6]\n",
      " [  19   35]]\n"
     ]
    }
   ],
   "source": [
    "xgb = XGBClassifier()\n",
    "cross_val=cross_val_score(xgb, data_train, target_train, cv=5, scoring='f1_macro')\n",
    "xgb.fit(data_train, target_train)\n",
    "prediction = xgb.predict(data_val)\n",
    "f1= f1_score(target_val,prediction, average = 'macro') \n",
    "precision = precision_score(target_val,prediction, average = 'macro')\n",
    "recall = recall_score(target_val,prediction, average = 'macro')\n",
    "print(\"CV-average F1-score: %.4f\" % cross_val.mean())\n",
    "print(\"The F1-Score micro on the validation set: {:.4f}\".format(f1))\n",
    "print(\"The Precision on the validation set: {:.4f}\".format(precision))\n",
    "print(\"The Recall on the validation set: {:.4f}\".format(recall))\n",
    "print('Confusion Matrix : \\n' + str(confusion_matrix(target_val,prediction)))"
   ]
  },
  {
   "cell_type": "markdown",
   "metadata": {},
   "source": [
    "# VI. Hyperparameter tuning"
   ]
  },
  {
   "cell_type": "markdown",
   "metadata": {},
   "source": [
    "# VII. Discussion"
   ]
  },
  {
   "cell_type": "markdown",
   "metadata": {},
   "source": [
    "## VIII. Outlook"
   ]
  }
 ],
 "metadata": {
  "kernelspec": {
   "display_name": "Python 3 (ipykernel)",
   "language": "python",
   "name": "python3"
  },
  "language_info": {
   "codemirror_mode": {
    "name": "ipython",
    "version": 3
   },
   "file_extension": ".py",
   "mimetype": "text/x-python",
   "name": "python",
   "nbconvert_exporter": "python",
   "pygments_lexer": "ipython3",
   "version": "3.8.12"
  }
 },
 "nbformat": 4,
 "nbformat_minor": 1
}