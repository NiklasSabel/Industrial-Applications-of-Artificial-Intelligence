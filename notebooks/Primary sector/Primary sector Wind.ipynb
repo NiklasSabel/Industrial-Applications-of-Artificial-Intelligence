{
 "cells": [
  {
   "cell_type": "markdown",
   "metadata": {
    "collapsed": true
   },
   "source": [
    "# Industrial Applications of Artificial Intelligence - Wind"
   ]
  },
  {
   "cell_type": "markdown",
   "metadata": {},
   "source": [
    "### This notebook will give an overview on the datasets and algorithms that will be used for the first hand-in regarding the primary sector wind in the lecture Industrial Applications of AI by Niklas Sabel (Matr. no. 1599748)"
   ]
  },
  {
   "cell_type": "markdown",
   "metadata": {},
   "source": [
    "Due to excessive use of resources and climate change, the biggest challenge in human history will be the transformation of our way of living to a more considerate and mindful future. Renewable energies play a vital part in this transformation. Sources like wind, sund and water need to replace fossil materials coal and oil. Production can be improved if the plant operators are able to predict the predict natural forces and use them as efficient as possible. For this reason we will investigate different models for time series analysis of windspeed data. The dataset also contains a variety of different features. So, we want to explore if we can also predict the windspeed with classical algorithms."
   ]
  },
  {
   "cell_type": "code",
   "execution_count": 1,
   "metadata": {},
   "outputs": [],
   "source": [
    "import matplotlib.pyplot as plt\n",
    "import numpy as np\n",
    "import pandas as pd\n",
    "from tqdm import tqdm\n",
    "import datetime\n",
    "import ipyparallel as ipp\n",
    "import os\n",
    "import seaborn as sns\n",
    "\n",
    "from statsmodels.graphics.tsaplots import plot_acf, plot_pacf\n",
    "from statsmodels.tsa.stattools import adfuller, kpss\n",
    "from statsmodels.tsa.arima.model import ARIMA\n",
    "from statsmodels.tsa.exponential_smoothing.ets import ETSModel\n",
    "from scipy.stats import boxcox\n",
    "import warnings\n",
    "from pmdarima import auto_arima\n",
    "\n",
    "import tensorflow as tf\n",
    "from tensorflow import keras\n",
    "from tensorflow.keras.models import Sequential\n",
    "from tensorflow.keras.layers import Dense\n",
    "from tensorflow.keras.layers import LSTM\n",
    "from sklearn.preprocessing import StandardScaler\n",
    "\n",
    "from platform import python_version\n",
    "if python_version() < '3.8':\n",
    "    import pickle5 as pickle\n",
    "else:\n",
    "    import pickle"
   ]
  },
  {
   "cell_type": "code",
   "execution_count": 2,
   "metadata": {},
   "outputs": [],
   "source": [
    "def drop_correlated_features(df, thr=0.8):\n",
    "    \"\"\"\n",
    "    Function to detect all correlated features\n",
    "    :param df: general dataframe and threshold for the correlation param\n",
    "    :return: dataframe without correlated features\n",
    "    \"\"\"\n",
    "    correlated_features = set()\n",
    "    correlation_matrix = df.corr()\n",
    "\n",
    "    for i in range(len(correlation_matrix.columns)):\n",
    "        for j in range(i):\n",
    "            if abs(correlation_matrix.iloc[i, j]) > thr:\n",
    "                print(\n",
    "                    f\"The following features are correlated: {correlation_matrix.columns[i]} and {correlation_matrix.columns[j]}. Correlation = {round(abs(correlation_matrix.iloc[i, j]), 2)}\")\n",
    "                colname = correlation_matrix.columns[j]\n",
    "                correlated_features.add(colname)\n",
    "    print(f\"Drop the following features: {correlated_features}\")\n",
    "    # drop correlated features\n",
    "    df = df.drop(columns=correlated_features)\n",
    "\n",
    "    return df"
   ]
  },
  {
   "cell_type": "markdown",
   "metadata": {},
   "source": [
    "## 1. Import data"
   ]
  },
  {
   "cell_type": "markdown",
   "metadata": {},
   "source": [
    "The dataset can be found on kaggle unter the following [url](https://www.kaggle.com/datasets/theforcecoder/wind-power-forecasting). In consists of 118.224 timestamps in the intervall between Jan 2018 to Mar 2020 of a wind turbine, at a 10 minute frequency. We will try to give a short explanation of the features in the following that have been collected by sensors. We see that we have a lot of NaNs in the dataset and have to cope with them.\n",
    "* Timestamp: Timestamp of the dataset in 10 minute steps\n",
    "* Active Power: Power that was produced by the turbine\n",
    "* AmbientTemperature: Surrounding temperature of the system\n",
    "* BearingShaftTemperature: Temperature of the shaft of the turbine\n",
    "* Blade1PitchAngle: The angle between the propeller blade chord line and the plane of rotation of propeller 1\n",
    "* Blade2PitchAngle: The angle between the propeller blade chord line and the plane of rotation of propeller 2\n",
    "* Blade3PitchAngle: The angle between the propeller blade chord line and the plane of rotation of propeller 3\n",
    "* ControlBoxTemperature: Temperature of the control box\n",
    "* GearboxBearingTemperature: Temperature of the gearbox bearing\t\t\n",
    "* GearboxOilTemperature: Temperature of the gearbox oil\t\t\n",
    "* GeneratorRPM: Generator rotation speed\n",
    "* GeneratorWinding1Temperature:\tTemperature of generator winding 1\n",
    "* GeneratorWinding2Temperature: Temperature of generator winding 1\n",
    "* HubTemperature: Temperature of the hub\t\t\n",
    "* MainBoxTemperature: Temperature of the main box\t\n",
    "* NacellePosition: A nacelle is a cover housing that houses all of the generating components\n",
    "* ReactivePower: idle power of the generator\t\n",
    "* RotorRPM:\tRotor rotation speed\n",
    "* TurbineStatus: Status of the Turbine\n",
    "* WTG: no further information, always the same value\n",
    "* WindDirection: Cardinal direction the wind is coming from\t\n",
    "* WindSpeed: Wind speed, target variable"
   ]
  },
  {
   "cell_type": "code",
   "execution_count": 3,
   "metadata": {},
   "outputs": [],
   "source": [
    "path = '../../src/data/Abgabe_1'"
   ]
  },
  {
   "cell_type": "code",
   "execution_count": 4,
   "metadata": {
    "scrolled": false
   },
   "outputs": [
    {
     "data": {
      "text/plain": "                   timestamp  ActivePower  AmbientTemperatue  \\\n0  2017-12-31 00:00:00+00:00          NaN                NaN   \n1  2017-12-31 00:10:00+00:00          NaN                NaN   \n2  2017-12-31 00:20:00+00:00          NaN                NaN   \n3  2017-12-31 00:30:00+00:00          NaN                NaN   \n4  2017-12-31 00:40:00+00:00          NaN                NaN   \n\n   BearingShaftTemperature  Blade1PitchAngle  Blade2PitchAngle  \\\n0                      NaN               NaN               NaN   \n1                      NaN               NaN               NaN   \n2                      NaN               NaN               NaN   \n3                      NaN               NaN               NaN   \n4                      NaN               NaN               NaN   \n\n   Blade3PitchAngle  ControlBoxTemperature  GearboxBearingTemperature  \\\n0               NaN                    NaN                        NaN   \n1               NaN                    NaN                        NaN   \n2               NaN                    NaN                        NaN   \n3               NaN                    NaN                        NaN   \n4               NaN                    NaN                        NaN   \n\n   GearboxOilTemperature  ...  GeneratorWinding2Temperature  HubTemperature  \\\n0                    NaN  ...                           NaN             NaN   \n1                    NaN  ...                           NaN             NaN   \n2                    NaN  ...                           NaN             NaN   \n3                    NaN  ...                           NaN             NaN   \n4                    NaN  ...                           NaN             NaN   \n\n   MainBoxTemperature  NacellePosition  ReactivePower  RotorRPM  \\\n0                 NaN              NaN            NaN       NaN   \n1                 NaN              NaN            NaN       NaN   \n2                 NaN              NaN            NaN       NaN   \n3                 NaN              NaN            NaN       NaN   \n4                 NaN              NaN            NaN       NaN   \n\n   TurbineStatus  WTG  WindDirection WindSpeed  \n0            NaN  G01            NaN       NaN  \n1            NaN  G01            NaN       NaN  \n2            NaN  G01            NaN       NaN  \n3            NaN  G01            NaN       NaN  \n4            NaN  G01            NaN       NaN  \n\n[5 rows x 22 columns]",
      "text/html": "<div>\n<style scoped>\n    .dataframe tbody tr th:only-of-type {\n        vertical-align: middle;\n    }\n\n    .dataframe tbody tr th {\n        vertical-align: top;\n    }\n\n    .dataframe thead th {\n        text-align: right;\n    }\n</style>\n<table border=\"1\" class=\"dataframe\">\n  <thead>\n    <tr style=\"text-align: right;\">\n      <th></th>\n      <th>timestamp</th>\n      <th>ActivePower</th>\n      <th>AmbientTemperatue</th>\n      <th>BearingShaftTemperature</th>\n      <th>Blade1PitchAngle</th>\n      <th>Blade2PitchAngle</th>\n      <th>Blade3PitchAngle</th>\n      <th>ControlBoxTemperature</th>\n      <th>GearboxBearingTemperature</th>\n      <th>GearboxOilTemperature</th>\n      <th>...</th>\n      <th>GeneratorWinding2Temperature</th>\n      <th>HubTemperature</th>\n      <th>MainBoxTemperature</th>\n      <th>NacellePosition</th>\n      <th>ReactivePower</th>\n      <th>RotorRPM</th>\n      <th>TurbineStatus</th>\n      <th>WTG</th>\n      <th>WindDirection</th>\n      <th>WindSpeed</th>\n    </tr>\n  </thead>\n  <tbody>\n    <tr>\n      <th>0</th>\n      <td>2017-12-31 00:00:00+00:00</td>\n      <td>NaN</td>\n      <td>NaN</td>\n      <td>NaN</td>\n      <td>NaN</td>\n      <td>NaN</td>\n      <td>NaN</td>\n      <td>NaN</td>\n      <td>NaN</td>\n      <td>NaN</td>\n      <td>...</td>\n      <td>NaN</td>\n      <td>NaN</td>\n      <td>NaN</td>\n      <td>NaN</td>\n      <td>NaN</td>\n      <td>NaN</td>\n      <td>NaN</td>\n      <td>G01</td>\n      <td>NaN</td>\n      <td>NaN</td>\n    </tr>\n    <tr>\n      <th>1</th>\n      <td>2017-12-31 00:10:00+00:00</td>\n      <td>NaN</td>\n      <td>NaN</td>\n      <td>NaN</td>\n      <td>NaN</td>\n      <td>NaN</td>\n      <td>NaN</td>\n      <td>NaN</td>\n      <td>NaN</td>\n      <td>NaN</td>\n      <td>...</td>\n      <td>NaN</td>\n      <td>NaN</td>\n      <td>NaN</td>\n      <td>NaN</td>\n      <td>NaN</td>\n      <td>NaN</td>\n      <td>NaN</td>\n      <td>G01</td>\n      <td>NaN</td>\n      <td>NaN</td>\n    </tr>\n    <tr>\n      <th>2</th>\n      <td>2017-12-31 00:20:00+00:00</td>\n      <td>NaN</td>\n      <td>NaN</td>\n      <td>NaN</td>\n      <td>NaN</td>\n      <td>NaN</td>\n      <td>NaN</td>\n      <td>NaN</td>\n      <td>NaN</td>\n      <td>NaN</td>\n      <td>...</td>\n      <td>NaN</td>\n      <td>NaN</td>\n      <td>NaN</td>\n      <td>NaN</td>\n      <td>NaN</td>\n      <td>NaN</td>\n      <td>NaN</td>\n      <td>G01</td>\n      <td>NaN</td>\n      <td>NaN</td>\n    </tr>\n    <tr>\n      <th>3</th>\n      <td>2017-12-31 00:30:00+00:00</td>\n      <td>NaN</td>\n      <td>NaN</td>\n      <td>NaN</td>\n      <td>NaN</td>\n      <td>NaN</td>\n      <td>NaN</td>\n      <td>NaN</td>\n      <td>NaN</td>\n      <td>NaN</td>\n      <td>...</td>\n      <td>NaN</td>\n      <td>NaN</td>\n      <td>NaN</td>\n      <td>NaN</td>\n      <td>NaN</td>\n      <td>NaN</td>\n      <td>NaN</td>\n      <td>G01</td>\n      <td>NaN</td>\n      <td>NaN</td>\n    </tr>\n    <tr>\n      <th>4</th>\n      <td>2017-12-31 00:40:00+00:00</td>\n      <td>NaN</td>\n      <td>NaN</td>\n      <td>NaN</td>\n      <td>NaN</td>\n      <td>NaN</td>\n      <td>NaN</td>\n      <td>NaN</td>\n      <td>NaN</td>\n      <td>NaN</td>\n      <td>...</td>\n      <td>NaN</td>\n      <td>NaN</td>\n      <td>NaN</td>\n      <td>NaN</td>\n      <td>NaN</td>\n      <td>NaN</td>\n      <td>NaN</td>\n      <td>G01</td>\n      <td>NaN</td>\n      <td>NaN</td>\n    </tr>\n  </tbody>\n</table>\n<p>5 rows × 22 columns</p>\n</div>"
     },
     "execution_count": 4,
     "metadata": {},
     "output_type": "execute_result"
    }
   ],
   "source": [
    "#import data\n",
    "df_turbine = pd.read_csv(os.path.join(path, 'Turbine_Data.csv')).rename(columns={'Unnamed: 0':'timestamp'})\n",
    "df_turbine.head(5)"
   ]
  },
  {
   "cell_type": "code",
   "execution_count": 6,
   "metadata": {},
   "outputs": [
    {
     "data": {
      "text/plain": "str"
     },
     "execution_count": 6,
     "metadata": {},
     "output_type": "execute_result"
    }
   ],
   "source": [
    "type(df_turbine.timestamp[0])"
   ]
  },
  {
   "cell_type": "markdown",
   "metadata": {},
   "source": [
    "In a first step we will transform the timestamp string into a datetime type to be able to better work with it.\n"
   ]
  },
  {
   "cell_type": "code",
   "execution_count": 8,
   "metadata": {},
   "outputs": [],
   "source": [
    "df_turbine['timestamp'] = pd.to_datetime(df_turbine['timestamp'], format='%Y-%m-%d %H:%M:%S')"
   ]
  },
  {
   "cell_type": "markdown",
   "metadata": {},
   "source": [
    "We will now reduce the dataset to only half-hourly measures by only keeping every third entry and reduce our set to around 40.000 entries."
   ]
  },
  {
   "cell_type": "code",
   "execution_count": 10,
   "metadata": {},
   "outputs": [],
   "source": [
    "df_turbine_filtered = df_turbine.iloc[::2, :].reset_index()"
   ]
  },
  {
   "cell_type": "code",
   "execution_count": 12,
   "metadata": {},
   "outputs": [
    {
     "data": {
      "text/plain": "        index                 timestamp  ActivePower  AmbientTemperatue  \\\n0           0 2017-12-31 00:00:00+00:00          NaN                NaN   \n1           2 2017-12-31 00:20:00+00:00          NaN                NaN   \n2           4 2017-12-31 00:40:00+00:00          NaN                NaN   \n3           6 2017-12-31 01:00:00+00:00          NaN                NaN   \n4           8 2017-12-31 01:20:00+00:00          NaN                NaN   \n...       ...                       ...          ...                ...   \n59107  118214 2020-03-30 22:20:00+00:00   145.027415          27.583998   \n59108  118216 2020-03-30 22:40:00+00:00   117.706939          27.508489   \n59109  118218 2020-03-30 23:00:00+00:00    90.331065          27.581193   \n59110  118220 2020-03-30 23:20:00+00:00    40.833474          27.602882   \n59111  118222 2020-03-30 23:40:00+00:00    62.091039          27.810472   \n\n       BearingShaftTemperature  Blade1PitchAngle  Blade2PitchAngle  \\\n0                          NaN               NaN               NaN   \n1                          NaN               NaN               NaN   \n2                          NaN               NaN               NaN   \n3                          NaN               NaN               NaN   \n4                          NaN               NaN               NaN   \n...                        ...               ...               ...   \n59107                46.363847          0.682622          1.115857   \n59108                46.088975          1.023465          1.456349   \n59109                45.819084          1.411808          1.846226   \n59110                45.598573          1.702809          2.136732   \n59111                45.343827          1.575352          2.009781   \n\n       Blade3PitchAngle  ControlBoxTemperature  GearboxBearingTemperature  \\\n0                   NaN                    NaN                        NaN   \n1                   NaN                    NaN                        NaN   \n2                   NaN                    NaN                        NaN   \n3                   NaN                    NaN                        NaN   \n4                   NaN                    NaN                        NaN   \n...                 ...                    ...                        ...   \n59107          1.115857                    0.0                  62.243332   \n59108          1.456349                    0.0                  61.789414   \n59109          1.846226                    0.0                  60.275851   \n59110          2.136732                    0.0                  59.142038   \n59111          2.009781                    0.0                  58.205413   \n\n       ...  GeneratorWinding2Temperature  HubTemperature  MainBoxTemperature  \\\n0      ...                           NaN             NaN                 NaN   \n1      ...                           NaN             NaN                 NaN   \n2      ...                           NaN             NaN                 NaN   \n3      ...                           NaN             NaN                 NaN   \n4      ...                           NaN             NaN                 NaN   \n...    ...                           ...             ...                 ...   \n59107  ...                     61.174030       39.982463           37.375000   \n59108  ...                     60.123138       39.024528           37.034593   \n59109  ...                     58.729390       39.010394           36.650659   \n59110  ...                     57.550367       39.006759           36.328125   \n59111  ...                     56.847239       39.003815           36.007805   \n\n       NacellePosition  ReactivePower  RotorRPM  TurbineStatus  WTG  \\\n0                  NaN            NaN       NaN            NaN  G01   \n1                  NaN            NaN       NaN            NaN  G01   \n2                  NaN            NaN       NaN            NaN  G01   \n3                  NaN            NaN       NaN            NaN  G01   \n4                  NaN            NaN       NaN            NaN  G01   \n...                ...            ...       ...            ...  ...   \n59107       188.000000      28.709709  9.234751            2.0  G01   \n59108       184.666667      22.846505  9.233694            2.0  G01   \n59109       178.000000      17.792888  9.235228            2.0  G01   \n59110       178.000000       8.088928  9.229370            2.0  G01   \n59111       190.000000      12.018077  9.237374            2.0  G01   \n\n       WindDirection  WindSpeed  \n0                NaN        NaN  \n1                NaN        NaN  \n2                NaN        NaN  \n3                NaN        NaN  \n4                NaN        NaN  \n...              ...        ...  \n59107     188.000000   3.954384  \n59108     184.666667   3.949295  \n59109     178.000000   3.612339  \n59110     178.000000   3.261231  \n59111     190.000000   3.284468  \n\n[59112 rows x 23 columns]",
      "text/html": "<div>\n<style scoped>\n    .dataframe tbody tr th:only-of-type {\n        vertical-align: middle;\n    }\n\n    .dataframe tbody tr th {\n        vertical-align: top;\n    }\n\n    .dataframe thead th {\n        text-align: right;\n    }\n</style>\n<table border=\"1\" class=\"dataframe\">\n  <thead>\n    <tr style=\"text-align: right;\">\n      <th></th>\n      <th>index</th>\n      <th>timestamp</th>\n      <th>ActivePower</th>\n      <th>AmbientTemperatue</th>\n      <th>BearingShaftTemperature</th>\n      <th>Blade1PitchAngle</th>\n      <th>Blade2PitchAngle</th>\n      <th>Blade3PitchAngle</th>\n      <th>ControlBoxTemperature</th>\n      <th>GearboxBearingTemperature</th>\n      <th>...</th>\n      <th>GeneratorWinding2Temperature</th>\n      <th>HubTemperature</th>\n      <th>MainBoxTemperature</th>\n      <th>NacellePosition</th>\n      <th>ReactivePower</th>\n      <th>RotorRPM</th>\n      <th>TurbineStatus</th>\n      <th>WTG</th>\n      <th>WindDirection</th>\n      <th>WindSpeed</th>\n    </tr>\n  </thead>\n  <tbody>\n    <tr>\n      <th>0</th>\n      <td>0</td>\n      <td>2017-12-31 00:00:00+00:00</td>\n      <td>NaN</td>\n      <td>NaN</td>\n      <td>NaN</td>\n      <td>NaN</td>\n      <td>NaN</td>\n      <td>NaN</td>\n      <td>NaN</td>\n      <td>NaN</td>\n      <td>...</td>\n      <td>NaN</td>\n      <td>NaN</td>\n      <td>NaN</td>\n      <td>NaN</td>\n      <td>NaN</td>\n      <td>NaN</td>\n      <td>NaN</td>\n      <td>G01</td>\n      <td>NaN</td>\n      <td>NaN</td>\n    </tr>\n    <tr>\n      <th>1</th>\n      <td>2</td>\n      <td>2017-12-31 00:20:00+00:00</td>\n      <td>NaN</td>\n      <td>NaN</td>\n      <td>NaN</td>\n      <td>NaN</td>\n      <td>NaN</td>\n      <td>NaN</td>\n      <td>NaN</td>\n      <td>NaN</td>\n      <td>...</td>\n      <td>NaN</td>\n      <td>NaN</td>\n      <td>NaN</td>\n      <td>NaN</td>\n      <td>NaN</td>\n      <td>NaN</td>\n      <td>NaN</td>\n      <td>G01</td>\n      <td>NaN</td>\n      <td>NaN</td>\n    </tr>\n    <tr>\n      <th>2</th>\n      <td>4</td>\n      <td>2017-12-31 00:40:00+00:00</td>\n      <td>NaN</td>\n      <td>NaN</td>\n      <td>NaN</td>\n      <td>NaN</td>\n      <td>NaN</td>\n      <td>NaN</td>\n      <td>NaN</td>\n      <td>NaN</td>\n      <td>...</td>\n      <td>NaN</td>\n      <td>NaN</td>\n      <td>NaN</td>\n      <td>NaN</td>\n      <td>NaN</td>\n      <td>NaN</td>\n      <td>NaN</td>\n      <td>G01</td>\n      <td>NaN</td>\n      <td>NaN</td>\n    </tr>\n    <tr>\n      <th>3</th>\n      <td>6</td>\n      <td>2017-12-31 01:00:00+00:00</td>\n      <td>NaN</td>\n      <td>NaN</td>\n      <td>NaN</td>\n      <td>NaN</td>\n      <td>NaN</td>\n      <td>NaN</td>\n      <td>NaN</td>\n      <td>NaN</td>\n      <td>...</td>\n      <td>NaN</td>\n      <td>NaN</td>\n      <td>NaN</td>\n      <td>NaN</td>\n      <td>NaN</td>\n      <td>NaN</td>\n      <td>NaN</td>\n      <td>G01</td>\n      <td>NaN</td>\n      <td>NaN</td>\n    </tr>\n    <tr>\n      <th>4</th>\n      <td>8</td>\n      <td>2017-12-31 01:20:00+00:00</td>\n      <td>NaN</td>\n      <td>NaN</td>\n      <td>NaN</td>\n      <td>NaN</td>\n      <td>NaN</td>\n      <td>NaN</td>\n      <td>NaN</td>\n      <td>NaN</td>\n      <td>...</td>\n      <td>NaN</td>\n      <td>NaN</td>\n      <td>NaN</td>\n      <td>NaN</td>\n      <td>NaN</td>\n      <td>NaN</td>\n      <td>NaN</td>\n      <td>G01</td>\n      <td>NaN</td>\n      <td>NaN</td>\n    </tr>\n    <tr>\n      <th>...</th>\n      <td>...</td>\n      <td>...</td>\n      <td>...</td>\n      <td>...</td>\n      <td>...</td>\n      <td>...</td>\n      <td>...</td>\n      <td>...</td>\n      <td>...</td>\n      <td>...</td>\n      <td>...</td>\n      <td>...</td>\n      <td>...</td>\n      <td>...</td>\n      <td>...</td>\n      <td>...</td>\n      <td>...</td>\n      <td>...</td>\n      <td>...</td>\n      <td>...</td>\n      <td>...</td>\n    </tr>\n    <tr>\n      <th>59107</th>\n      <td>118214</td>\n      <td>2020-03-30 22:20:00+00:00</td>\n      <td>145.027415</td>\n      <td>27.583998</td>\n      <td>46.363847</td>\n      <td>0.682622</td>\n      <td>1.115857</td>\n      <td>1.115857</td>\n      <td>0.0</td>\n      <td>62.243332</td>\n      <td>...</td>\n      <td>61.174030</td>\n      <td>39.982463</td>\n      <td>37.375000</td>\n      <td>188.000000</td>\n      <td>28.709709</td>\n      <td>9.234751</td>\n      <td>2.0</td>\n      <td>G01</td>\n      <td>188.000000</td>\n      <td>3.954384</td>\n    </tr>\n    <tr>\n      <th>59108</th>\n      <td>118216</td>\n      <td>2020-03-30 22:40:00+00:00</td>\n      <td>117.706939</td>\n      <td>27.508489</td>\n      <td>46.088975</td>\n      <td>1.023465</td>\n      <td>1.456349</td>\n      <td>1.456349</td>\n      <td>0.0</td>\n      <td>61.789414</td>\n      <td>...</td>\n      <td>60.123138</td>\n      <td>39.024528</td>\n      <td>37.034593</td>\n      <td>184.666667</td>\n      <td>22.846505</td>\n      <td>9.233694</td>\n      <td>2.0</td>\n      <td>G01</td>\n      <td>184.666667</td>\n      <td>3.949295</td>\n    </tr>\n    <tr>\n      <th>59109</th>\n      <td>118218</td>\n      <td>2020-03-30 23:00:00+00:00</td>\n      <td>90.331065</td>\n      <td>27.581193</td>\n      <td>45.819084</td>\n      <td>1.411808</td>\n      <td>1.846226</td>\n      <td>1.846226</td>\n      <td>0.0</td>\n      <td>60.275851</td>\n      <td>...</td>\n      <td>58.729390</td>\n      <td>39.010394</td>\n      <td>36.650659</td>\n      <td>178.000000</td>\n      <td>17.792888</td>\n      <td>9.235228</td>\n      <td>2.0</td>\n      <td>G01</td>\n      <td>178.000000</td>\n      <td>3.612339</td>\n    </tr>\n    <tr>\n      <th>59110</th>\n      <td>118220</td>\n      <td>2020-03-30 23:20:00+00:00</td>\n      <td>40.833474</td>\n      <td>27.602882</td>\n      <td>45.598573</td>\n      <td>1.702809</td>\n      <td>2.136732</td>\n      <td>2.136732</td>\n      <td>0.0</td>\n      <td>59.142038</td>\n      <td>...</td>\n      <td>57.550367</td>\n      <td>39.006759</td>\n      <td>36.328125</td>\n      <td>178.000000</td>\n      <td>8.088928</td>\n      <td>9.229370</td>\n      <td>2.0</td>\n      <td>G01</td>\n      <td>178.000000</td>\n      <td>3.261231</td>\n    </tr>\n    <tr>\n      <th>59111</th>\n      <td>118222</td>\n      <td>2020-03-30 23:40:00+00:00</td>\n      <td>62.091039</td>\n      <td>27.810472</td>\n      <td>45.343827</td>\n      <td>1.575352</td>\n      <td>2.009781</td>\n      <td>2.009781</td>\n      <td>0.0</td>\n      <td>58.205413</td>\n      <td>...</td>\n      <td>56.847239</td>\n      <td>39.003815</td>\n      <td>36.007805</td>\n      <td>190.000000</td>\n      <td>12.018077</td>\n      <td>9.237374</td>\n      <td>2.0</td>\n      <td>G01</td>\n      <td>190.000000</td>\n      <td>3.284468</td>\n    </tr>\n  </tbody>\n</table>\n<p>59112 rows × 23 columns</p>\n</div>"
     },
     "execution_count": 12,
     "metadata": {},
     "output_type": "execute_result"
    }
   ],
   "source": [
    "df_turbine_filtered"
   ]
  },
  {
   "cell_type": "markdown",
   "metadata": {},
   "source": [
    "We see that we have values at the beginning without windspeed data. We will discard the values in the beginning of the time series until we have a first measured windspeed. That leaves us with around 15.000 entries for WindSpeed."
   ]
  },
  {
   "cell_type": "code",
   "execution_count": 14,
   "metadata": {},
   "outputs": [],
   "source": [
    "# identify the rows with some NaN\n",
    "s = df_turbine_filtered.notnull().all(1)\n",
    "\n",
    "# remove those with NaN at beginning and at the end:\n",
    "df_turbine_clean = df_turbine_filtered.loc[s.idxmax():s[::-1].idxmax()].reset_index()"
   ]
  },
  {
   "cell_type": "code",
   "execution_count": 16,
   "metadata": {},
   "outputs": [
    {
     "data": {
      "text/plain": "   level_0  index                 timestamp  ActivePower  AmbientTemperatue  \\\n0    35397  70794 2019-05-06 15:00:00+00:00    -5.768376          38.992667   \n1    35398  70796 2019-05-06 15:20:00+00:00    -5.542307          38.792036   \n2    35399  70798 2019-05-06 15:40:00+00:00    -5.495585          38.872741   \n3    35400  70800 2019-05-06 16:00:00+00:00    -4.521693          38.993935   \n4    35401  70802 2019-05-06 16:20:00+00:00    -4.787421          38.919999   \n\n   BearingShaftTemperature  Blade1PitchAngle  Blade2PitchAngle  \\\n0                46.419196         47.399521         48.299502   \n1                41.101336         41.869510         41.869653   \n2                46.169015         32.884011         35.143688   \n3                46.054246               NaN               NaN   \n4                45.915047         85.000380         84.999664   \n\n   Blade3PitchAngle  ControlBoxTemperature  ...  GeneratorWinding2Temperature  \\\n0         48.299502                    0.0  ...                     59.855694   \n1         41.869653                    0.0  ...                     59.206516   \n2         35.143688                    0.0  ...                     58.284742   \n3               NaN                    0.0  ...                     57.722183   \n4         84.999664                    0.0  ...                     57.306624   \n\n   HubTemperature  MainBoxTemperature  NacellePosition  ReactivePower  \\\n0       46.004238           51.900000            93.25     -12.594477   \n1       40.892280           46.479357           133.20     -10.514899   \n2       46.003815           52.506506           117.00     -10.573747   \n3       46.003815           52.569364              NaN      -9.770303   \n4       46.003815           52.618896            78.50     -10.546541   \n\n   RotorRPM  TurbineStatus  WTG  WindDirection  WindSpeed  \n0  0.550434          129.0  G01          93.25   2.161460  \n1  0.680123            2.0  G01         133.20   2.393622  \n2  0.587822            2.0  G01         117.00   2.321825  \n3       NaN            1.0  G01            NaN   1.740130  \n4  0.000000          512.0  G01          78.50   1.479235  \n\n[5 rows x 24 columns]",
      "text/html": "<div>\n<style scoped>\n    .dataframe tbody tr th:only-of-type {\n        vertical-align: middle;\n    }\n\n    .dataframe tbody tr th {\n        vertical-align: top;\n    }\n\n    .dataframe thead th {\n        text-align: right;\n    }\n</style>\n<table border=\"1\" class=\"dataframe\">\n  <thead>\n    <tr style=\"text-align: right;\">\n      <th></th>\n      <th>level_0</th>\n      <th>index</th>\n      <th>timestamp</th>\n      <th>ActivePower</th>\n      <th>AmbientTemperatue</th>\n      <th>BearingShaftTemperature</th>\n      <th>Blade1PitchAngle</th>\n      <th>Blade2PitchAngle</th>\n      <th>Blade3PitchAngle</th>\n      <th>ControlBoxTemperature</th>\n      <th>...</th>\n      <th>GeneratorWinding2Temperature</th>\n      <th>HubTemperature</th>\n      <th>MainBoxTemperature</th>\n      <th>NacellePosition</th>\n      <th>ReactivePower</th>\n      <th>RotorRPM</th>\n      <th>TurbineStatus</th>\n      <th>WTG</th>\n      <th>WindDirection</th>\n      <th>WindSpeed</th>\n    </tr>\n  </thead>\n  <tbody>\n    <tr>\n      <th>0</th>\n      <td>35397</td>\n      <td>70794</td>\n      <td>2019-05-06 15:00:00+00:00</td>\n      <td>-5.768376</td>\n      <td>38.992667</td>\n      <td>46.419196</td>\n      <td>47.399521</td>\n      <td>48.299502</td>\n      <td>48.299502</td>\n      <td>0.0</td>\n      <td>...</td>\n      <td>59.855694</td>\n      <td>46.004238</td>\n      <td>51.900000</td>\n      <td>93.25</td>\n      <td>-12.594477</td>\n      <td>0.550434</td>\n      <td>129.0</td>\n      <td>G01</td>\n      <td>93.25</td>\n      <td>2.161460</td>\n    </tr>\n    <tr>\n      <th>1</th>\n      <td>35398</td>\n      <td>70796</td>\n      <td>2019-05-06 15:20:00+00:00</td>\n      <td>-5.542307</td>\n      <td>38.792036</td>\n      <td>41.101336</td>\n      <td>41.869510</td>\n      <td>41.869653</td>\n      <td>41.869653</td>\n      <td>0.0</td>\n      <td>...</td>\n      <td>59.206516</td>\n      <td>40.892280</td>\n      <td>46.479357</td>\n      <td>133.20</td>\n      <td>-10.514899</td>\n      <td>0.680123</td>\n      <td>2.0</td>\n      <td>G01</td>\n      <td>133.20</td>\n      <td>2.393622</td>\n    </tr>\n    <tr>\n      <th>2</th>\n      <td>35399</td>\n      <td>70798</td>\n      <td>2019-05-06 15:40:00+00:00</td>\n      <td>-5.495585</td>\n      <td>38.872741</td>\n      <td>46.169015</td>\n      <td>32.884011</td>\n      <td>35.143688</td>\n      <td>35.143688</td>\n      <td>0.0</td>\n      <td>...</td>\n      <td>58.284742</td>\n      <td>46.003815</td>\n      <td>52.506506</td>\n      <td>117.00</td>\n      <td>-10.573747</td>\n      <td>0.587822</td>\n      <td>2.0</td>\n      <td>G01</td>\n      <td>117.00</td>\n      <td>2.321825</td>\n    </tr>\n    <tr>\n      <th>3</th>\n      <td>35400</td>\n      <td>70800</td>\n      <td>2019-05-06 16:00:00+00:00</td>\n      <td>-4.521693</td>\n      <td>38.993935</td>\n      <td>46.054246</td>\n      <td>NaN</td>\n      <td>NaN</td>\n      <td>NaN</td>\n      <td>0.0</td>\n      <td>...</td>\n      <td>57.722183</td>\n      <td>46.003815</td>\n      <td>52.569364</td>\n      <td>NaN</td>\n      <td>-9.770303</td>\n      <td>NaN</td>\n      <td>1.0</td>\n      <td>G01</td>\n      <td>NaN</td>\n      <td>1.740130</td>\n    </tr>\n    <tr>\n      <th>4</th>\n      <td>35401</td>\n      <td>70802</td>\n      <td>2019-05-06 16:20:00+00:00</td>\n      <td>-4.787421</td>\n      <td>38.919999</td>\n      <td>45.915047</td>\n      <td>85.000380</td>\n      <td>84.999664</td>\n      <td>84.999664</td>\n      <td>0.0</td>\n      <td>...</td>\n      <td>57.306624</td>\n      <td>46.003815</td>\n      <td>52.618896</td>\n      <td>78.50</td>\n      <td>-10.546541</td>\n      <td>0.000000</td>\n      <td>512.0</td>\n      <td>G01</td>\n      <td>78.50</td>\n      <td>1.479235</td>\n    </tr>\n  </tbody>\n</table>\n<p>5 rows × 24 columns</p>\n</div>"
     },
     "execution_count": 16,
     "metadata": {},
     "output_type": "execute_result"
    }
   ],
   "source": [
    "df_turbine_clean.head(5)"
   ]
  },
  {
   "cell_type": "code",
   "execution_count": 18,
   "metadata": {},
   "outputs": [],
   "source": [
    "y = df_turbine_clean['WindSpeed'].values\n",
    "x = df_turbine_clean['timestamp'].values"
   ]
  },
  {
   "cell_type": "code",
   "execution_count": null,
   "metadata": {
    "pycharm": {
     "is_executing": true
    }
   },
   "outputs": [
    {
     "name": "stdout",
     "output_type": "stream",
     "text": [
      "Error in callback <function flush_figures at 0x0000022EF9038280> (for post_execute):\n"
     ]
    }
   ],
   "source": [
    "fig, axes = plt.subplots()\n",
    "title = '$y_t$'\n",
    "\n",
    "# plot data with different orders of differencing and tranformations\n",
    "# make sure to choose appropriate settings for KPSS and ADF tests\n",
    "axes.plot(x, y, color='b')\n",
    "axes.set_xticks(x[::20])\n",
    "axes.set_title(title)\n",
    "axes.set_xlabel('Time')\n",
    "axes.set_ylabel('WindSpeed')\n",
    "fig.suptitle('WindSpeed Time Series')\n",
    "fig.tight_layout()"
   ]
  },
  {
   "cell_type": "code",
   "execution_count": null,
   "metadata": {
    "pycharm": {
     "is_executing": true
    }
   },
   "outputs": [],
   "source": [
    "# look at distribution\n",
    "df_turbine_clean.describe().transpose().applymap(\"{:.2f}\".format)"
   ]
  },
  {
   "cell_type": "markdown",
   "metadata": {},
   "source": [
    "### For a possible comparison to a feature based regression model, we will have a look at NaN values and correlated features."
   ]
  },
  {
   "cell_type": "code",
   "execution_count": null,
   "metadata": {
    "pycharm": {
     "is_executing": true
    }
   },
   "outputs": [],
   "source": [
    "# we clearly see that we have a lot of NaN values inside our dataframe\n",
    "df_turbine.isna().sum()"
   ]
  },
  {
   "cell_type": "code",
   "execution_count": null,
   "metadata": {
    "pycharm": {
     "is_executing": true
    }
   },
   "outputs": [],
   "source": [
    "# Fill numeric rows with the median\n",
    "for label, content in df_turbine.items():\n",
    "    if pd.api.types.is_numeric_dtype(content):\n",
    "        if pd.isnull(content).sum():\n",
    "            # Fill missing numeric values with median since it's more robust than the mean\n",
    "            df_turbine[label] = content.fillna(content.median())"
   ]
  },
  {
   "cell_type": "code",
   "execution_count": null,
   "metadata": {
    "pycharm": {
     "is_executing": true
    }
   },
   "outputs": [],
   "source": [
    "df_turbine"
   ]
  },
  {
   "cell_type": "code",
   "execution_count": null,
   "metadata": {
    "pycharm": {
     "is_executing": true
    }
   },
   "outputs": [],
   "source": [
    "# look at distribution\n",
    "df_turbine.describe()"
   ]
  },
  {
   "cell_type": "code",
   "execution_count": null,
   "metadata": {
    "scrolled": true,
    "pycharm": {
     "is_executing": true
    }
   },
   "outputs": [],
   "source": [
    "# investigate correlation heatmap\n",
    "corrMatrix=df_turbine.corr()\n",
    "f=plt.figure(figsize=(14,9))\n",
    "sns.heatmap(corrMatrix, annot=False)\n",
    "f.show()"
   ]
  },
  {
   "cell_type": "code",
   "execution_count": null,
   "metadata": {
    "pycharm": {
     "is_executing": true
    }
   },
   "outputs": [],
   "source": [
    "#drop WTG feature since it is always the same value and windSpeed as target\n",
    "df_target = df_turbine['WindSpeed']\n",
    "#drop WTG and ControlBoxTemperature as they have always the same value in the whole column\n",
    "df_turbine_cor = df_turbine.drop(columns=['WTG','WindSpeed','ControlBoxTemperature'])\n",
    "# drop highly correlated features for a SVM baseline\n",
    "df_turbine_cor = drop_correlated_features(df_turbine_cor)\n",
    "# drop Blade3PitchAngle cause it has too much NaNs\n",
    "df_turbine_cor = df_turbine_cor.drop(columns=['Blade3PitchAngle'])"
   ]
  },
  {
   "cell_type": "code",
   "execution_count": null,
   "metadata": {
    "pycharm": {
     "is_executing": true
    }
   },
   "outputs": [],
   "source": [
    "#attach windspeed again for further processing\n",
    "df_turbine_cor = pd.concat([df_turbine_cor, df_target], axis = 1)\n",
    "df_turbine_cor"
   ]
  },
  {
   "cell_type": "markdown",
   "metadata": {},
   "source": [
    "### We have seen that we have a lot of correlated features. So, we dropped them to be able to use regression baselines like SVM."
   ]
  },
  {
   "cell_type": "code",
   "execution_count": null,
   "metadata": {
    "pycharm": {
     "is_executing": true
    }
   },
   "outputs": [],
   "source": [
    "df_turbine_cor.isna().sum()"
   ]
  },
  {
   "cell_type": "code",
   "execution_count": null,
   "metadata": {
    "pycharm": {
     "is_executing": true
    }
   },
   "outputs": [],
   "source": [
    "y = df_turbine_cor['WindSpeed'].values\n",
    "x = df_turbine_cor['timestamp'].values"
   ]
  },
  {
   "cell_type": "code",
   "execution_count": null,
   "metadata": {
    "pycharm": {
     "is_executing": true
    }
   },
   "outputs": [],
   "source": [
    "fig, axes = plt.subplots()\n",
    "title = '$y_t$'\n",
    "\n",
    "# plot data with different orders of differencing and tranformations\n",
    "# make sure to choose appropriate settings for KPSS and ADF tests\n",
    "axes.plot(x, y, color='b')\n",
    "axes.set_xticks(x[::20])\n",
    "axes.set_title(title)\n",
    "axes.set_xlabel('Time')\n",
    "axes.set_ylabel('WindSpeed')\n",
    "fig.suptitle('WindSpeed Time Series')\n",
    "fig.tight_layout()"
   ]
  },
  {
   "cell_type": "code",
   "execution_count": null,
   "metadata": {
    "pycharm": {
     "is_executing": true
    }
   },
   "outputs": [],
   "source": [
    "# we select a promising subset out of the data by focusing on newer time intervalls, where data does not have to be imputed via mean \n",
    "input_df = df_turbine_cor[df_turbine_cor['timestamp'] > '2019-12-17 00:00:00+00:00']"
   ]
  },
  {
   "cell_type": "code",
   "execution_count": null,
   "metadata": {
    "pycharm": {
     "is_executing": true
    }
   },
   "outputs": [],
   "source": [
    "y = input_df['WindSpeed'].values\n",
    "x = input_df['timestamp'].values"
   ]
  },
  {
   "cell_type": "code",
   "execution_count": null,
   "metadata": {
    "pycharm": {
     "is_executing": true
    }
   },
   "outputs": [],
   "source": [
    "fig, axes = plt.subplots()\n",
    "title = '$y_t$'\n",
    "\n",
    "# plot data with different orders of differencing and tranformations\n",
    "# make sure to choose appropriate settings for KPSS and ADF tests\n",
    "axes.plot(x, y, color='b')\n",
    "axes.set_xticks(x[::20])\n",
    "axes.set_title(title)\n",
    "axes.set_xlabel('Time')\n",
    "axes.set_ylabel('WindSpeed')\n",
    "fig.suptitle('WindSpeed Time Series')\n",
    "fig.tight_layout()"
   ]
  },
  {
   "cell_type": "markdown",
   "metadata": {},
   "source": [
    "### After searching for a promising subset, we have a look at the newest 15.000 data points."
   ]
  },
  {
   "cell_type": "code",
   "execution_count": null,
   "metadata": {
    "pycharm": {
     "is_executing": true
    }
   },
   "outputs": [],
   "source": [
    "df_turbine_without_na = input_df"
   ]
  },
  {
   "cell_type": "code",
   "execution_count": null,
   "metadata": {
    "scrolled": true,
    "pycharm": {
     "is_executing": true
    }
   },
   "outputs": [],
   "source": [
    "df_turbine_without_na"
   ]
  },
  {
   "cell_type": "markdown",
   "metadata": {},
   "source": [
    "### We take the first 1150 timestamps for training and  try to predict 50 steps. "
   ]
  },
  {
   "cell_type": "code",
   "execution_count": null,
   "metadata": {
    "pycharm": {
     "is_executing": true
    }
   },
   "outputs": [],
   "source": [
    "from sklearn.preprocessing import MinMaxScaler\n",
    "#scale all features without WindSpeed\n",
    "scale_features =['ActivePower','AmbientTemperatue','GeneratorWinding2Temperature','HubTemperature','MainBoxTemperature','ReactivePower','RotorRPM','TurbineStatus','WindDirection']\n",
    "scaler = MinMaxScaler()\n",
    "df_turbine_without_na[scale_features] = scaler.fit_transform(df_turbine_without_na[scale_features])"
   ]
  },
  {
   "cell_type": "code",
   "execution_count": null,
   "metadata": {
    "pycharm": {
     "is_executing": true
    }
   },
   "outputs": [],
   "source": [
    "# df_turbine_train = df_turbine_without_na[df_turbine_without_na['timestamp'] < '2020-03-01 00:00:00+00:00']\n",
    "# df_turbine_test = df_turbine_without_na[df_turbine_without_na['timestamp'] >= '2020-03-01 00:00:00+00:00']"
   ]
  },
  {
   "cell_type": "code",
   "execution_count": null,
   "metadata": {
    "pycharm": {
     "is_executing": true
    }
   },
   "outputs": [],
   "source": [
    "df_turbine_train = df_turbine_without_na [:1150]\n",
    "df_turbine_test = df_turbine_without_na[1150:1200]"
   ]
  },
  {
   "cell_type": "code",
   "execution_count": null,
   "metadata": {
    "scrolled": true,
    "pycharm": {
     "is_executing": true
    }
   },
   "outputs": [],
   "source": [
    "df_turbine_train"
   ]
  },
  {
   "cell_type": "code",
   "execution_count": null,
   "metadata": {
    "scrolled": true,
    "pycharm": {
     "is_executing": true
    }
   },
   "outputs": [],
   "source": [
    "df_turbine_test"
   ]
  },
  {
   "cell_type": "code",
   "execution_count": null,
   "metadata": {
    "pycharm": {
     "is_executing": true
    }
   },
   "outputs": [],
   "source": [
    "#generate split\n",
    "data_train, target_train, data_test, target_test = df_turbine_train.drop(columns=['WindSpeed','timestamp']),df_turbine_train['WindSpeed'],df_turbine_test.drop(columns=['WindSpeed','timestamp']),df_turbine_test['WindSpeed']"
   ]
  },
  {
   "cell_type": "code",
   "execution_count": null,
   "metadata": {
    "pycharm": {
     "is_executing": true
    }
   },
   "outputs": [],
   "source": [
    "#rmse implementation\n",
    "def rmse(predictions, targets):\n",
    "    return np.sqrt(((predictions - targets) ** 2).mean())"
   ]
  },
  {
   "cell_type": "markdown",
   "metadata": {},
   "source": [
    "### Compute a SVM and a random forest classification baseline for our data points to compare them to the values of ARIMA."
   ]
  },
  {
   "cell_type": "code",
   "execution_count": null,
   "metadata": {
    "pycharm": {
     "is_executing": true
    }
   },
   "outputs": [],
   "source": [
    "from sklearn.ensemble import RandomForestRegressor\n",
    "\n",
    "rf = RandomForestRegressor()\n",
    "rf.fit(data_train, target_train)\n",
    "prediction = rf.predict(data_test)\n",
    "rmse_score = rmse(prediction,target_test) \n",
    "print(\"The RMSE on test set: {:.4f}\".format(rmse_score))"
   ]
  },
  {
   "cell_type": "code",
   "execution_count": null,
   "metadata": {
    "pycharm": {
     "is_executing": true
    }
   },
   "outputs": [],
   "source": [
    "from sklearn.svm import SVR\n",
    "\n",
    "sv_regressor = SVR(kernel = 'rbf')\n",
    "sv_regressor.fit(data_train, target_train)\n",
    "prediction = sv_regressor.predict(data_test)\n",
    "rmse_score = rmse(prediction,target_test) \n",
    "print(\"The RMSE on test set: {:.4f}\".format(rmse_score))"
   ]
  },
  {
   "cell_type": "markdown",
   "metadata": {},
   "source": [
    "### Try to improve by voting ensemble."
   ]
  },
  {
   "cell_type": "code",
   "execution_count": null,
   "metadata": {
    "pycharm": {
     "is_executing": true
    }
   },
   "outputs": [],
   "source": [
    "from sklearn.ensemble import VotingRegressor, RandomForestRegressor\n",
    "from sklearn.svm import SVR\n",
    "\n",
    "rf = RandomForestRegressor()\n",
    "sv_regressor = SVR(kernel = 'rbf')\n",
    "\n",
    "vo_reg = VotingRegressor([('rf', rf), ('svr', sv_regressor)])\n",
    "vo_reg.fit(data_train, target_train)\n",
    "prediction = vo_reg.predict(data_test)\n",
    "rmse_score = rmse(prediction,target_test) \n",
    "print(\"The RMSE on test set: {:.4f}\".format(rmse_score))"
   ]
  },
  {
   "cell_type": "markdown",
   "metadata": {},
   "source": [
    "### Compute a naive baseline for time series data. We use the persistence algorithm. Use the value at the previous time step the predict the expected outcome at the next time step."
   ]
  },
  {
   "cell_type": "code",
   "execution_count": null,
   "metadata": {
    "pycharm": {
     "is_executing": true
    }
   },
   "outputs": [],
   "source": [
    "# create a lagged representation for the train set to compute a supervised learning problem\n",
    "values = pd.DataFrame(df_turbine_train['WindSpeed'].values)\n",
    "df_train= pd.concat([values.shift(1), values], axis=1)\n",
    "df_train.columns = ['t-1', 't+1']\n",
    "#drop first row due to NaN\n",
    "df_train = df_train.iloc[1:]\n",
    "print(df_train.head(5))"
   ]
  },
  {
   "cell_type": "code",
   "execution_count": null,
   "metadata": {
    "pycharm": {
     "is_executing": true
    }
   },
   "outputs": [],
   "source": [
    "# create a lagged representation for the test set to compute a supervised learning problem\n",
    "values = pd.DataFrame(df_turbine_test['WindSpeed'].values)\n",
    "df_test = pd.concat([values.shift(1), values], axis=1)\n",
    "df_test.columns = ['t-1', 't+1']\n",
    "#input last value of train t+1 in t-1 test\n",
    "df_test['t-1'][0] = df_train['t+1'].iloc[-1]\n",
    "print(df_test.head(5))"
   ]
  },
  {
   "cell_type": "code",
   "execution_count": null,
   "metadata": {
    "pycharm": {
     "is_executing": true
    }
   },
   "outputs": [],
   "source": [
    "#split into input and target\n",
    "train_X, train_y = df_train.values[:,0], df_train.values[:,1]\n",
    "test_X, test_y = df_test.values[:,0], df_test.values[:,1]"
   ]
  },
  {
   "cell_type": "code",
   "execution_count": null,
   "metadata": {
    "pycharm": {
     "is_executing": true
    }
   },
   "outputs": [],
   "source": [
    "# persistence model to return actual input\n",
    "def model_persistence(x):\n",
    "    return x\n",
    "#rmse implementation\n",
    "def rmse(predictions, targets):\n",
    "    return np.sqrt(((predictions - targets) ** 2).mean())"
   ]
  },
  {
   "cell_type": "code",
   "execution_count": null,
   "metadata": {
    "pycharm": {
     "is_executing": true
    }
   },
   "outputs": [],
   "source": [
    "# walk-forward validation\n",
    "predictions = list()\n",
    "for x in test_X:\n",
    "    yhat = model_persistence(x)\n",
    "    predictions.append(yhat)\n",
    "test_score = rmse(predictions,test_y)\n",
    "print('Test MSE: %.3f' % test_score)"
   ]
  },
  {
   "cell_type": "code",
   "execution_count": null,
   "metadata": {
    "pycharm": {
     "is_executing": true
    }
   },
   "outputs": [],
   "source": [
    "# plot predictions and expected results\n",
    "plt.plot(train_y)\n",
    "plt.plot([None for i in train_y] + [x for x in test_y])\n",
    "plt.plot([None for i in train_y] + [x for x in predictions])\n",
    "plt.show()"
   ]
  },
  {
   "cell_type": "markdown",
   "metadata": {},
   "source": [
    "### We can clearly see from our test results that our distribution is already stationary and therefore needs no further preprocessing."
   ]
  },
  {
   "cell_type": "code",
   "execution_count": null,
   "metadata": {
    "pycharm": {
     "is_executing": true
    }
   },
   "outputs": [],
   "source": [
    "y = df_turbine_without_na['WindSpeed'][:1200].values\n",
    "x = df_turbine_without_na['timestamp'][:1200].values"
   ]
  },
  {
   "cell_type": "code",
   "execution_count": null,
   "metadata": {
    "pycharm": {
     "is_executing": true
    }
   },
   "outputs": [],
   "source": [
    "fig, axes = plt.subplots()\n",
    "title = '$y_t$'\n",
    "\n",
    "# plot data with different orders of differencing and tranformations\n",
    "# make sure to choose appropriate settings for KPSS and ADF tests\n",
    "axes.plot(x, y, color='b')\n",
    "axes.set_xticks(x[::20])\n",
    "title += '\\n ADF-test: {:.4f}.'.format(adfuller(y, regression='ctt')[1])\n",
    "title += '\\n KPSS-test: {:.4f}.'.format(kpss(y, regression='ct', nlags='auto')[1])\n",
    "axes.set_title(title)\n",
    "axes.set_xlabel('Time')\n",
    "axes.set_ylabel('WindSpeed')\n",
    "fig.suptitle('WindSpeed Time Series')\n",
    "fig.tight_layout()"
   ]
  },
  {
   "cell_type": "markdown",
   "metadata": {},
   "source": [
    "###  ARIMA Selection - Initial Guesses for Autoregressive and Moving Average Order"
   ]
  },
  {
   "cell_type": "code",
   "execution_count": null,
   "metadata": {
    "pycharm": {
     "is_executing": true
    }
   },
   "outputs": [],
   "source": [
    "max_lag= 18\n",
    "title = 'Without changes'\n",
    "stld_plot = plot_acf(y, lags=range(1, max_lag+1),  title='ACF || '+ title)"
   ]
  },
  {
   "cell_type": "code",
   "execution_count": null,
   "metadata": {
    "pycharm": {
     "is_executing": true
    }
   },
   "outputs": [],
   "source": [
    "max_lag= 18\n",
    "title = 'Without changes'\n",
    "stld_plot = plot_pacf(y, lags=range(1, max_lag+1), title='PACF || ' + title)"
   ]
  },
  {
   "cell_type": "markdown",
   "metadata": {},
   "source": [
    "### We can see that there is an PACF spike at LAG 1 -> initial guess: ARIMA (1,0,0)"
   ]
  },
  {
   "cell_type": "code",
   "execution_count": null,
   "metadata": {
    "pycharm": {
     "is_executing": true
    }
   },
   "outputs": [],
   "source": [
    "# helper function to evaluate a SARIMA model\n",
    "\n",
    "def eval_sarima(order, seasonal_order, y, n_train, transform=None, inverse_transform=None):\n",
    "    \"\"\"\n",
    "    Evaluate the model SARIMA(order, seasonal_order) on the target y in a one-step ahead prediction fashion.\n",
    "    \n",
    "    Parameters\n",
    "    ----------\n",
    "    order: 3-tuple\n",
    "        (p, d, q), specifying the ARIMA parameters\n",
    "    seasonal_order: 4-tuple\n",
    "        (P, D, Q, m), specifying the seasonal parameters\n",
    "    y: np.array(n,)\n",
    "        target\n",
    "    n_train: int\n",
    "        Min. training size. For t=0, ..., len(y)-n_train-1, the SARIMA model is fit on y[:n_train+t] and evaluated on\n",
    "        y[n_train+t].\n",
    "    transform: callable, optional\n",
    "        Transformation function applied to y before model is fit.\n",
    "    inverse_transform: callable, optional (must be specified if transform is not None)\n",
    "        Inverse of transformation function. Applied to predictions to ensure the error is computed in the rigt scale.\n",
    "    \"\"\"\n",
    "    \n",
    "    \n",
    "    y_transf = transform(y) if transform is not None else y\n",
    "    inverse_transform = inverse_transform if inverse_transform is not None else lambda x: x\n",
    "    preds = []\n",
    "        \n",
    "    try:\n",
    "        for t in range(n_train, len(y)):\n",
    "            model = ARIMA(y_transf[:t], order=order, seasonal_order=seasonal_order)\n",
    "            model = model.fit()\n",
    "            preds.append(inverse_transform(model.forecast().item()))\n",
    "        preds = np.array(preds)\n",
    "        rmse = np.sqrt( np.mean( (y[n_train:]-preds)**2 ) )\n",
    "        msg = 'Success'\n",
    "        \n",
    "    except Exception as e:\n",
    "        msg = e\n",
    "        rmse = np.nan\n",
    "        preds = np.array(preds)\n",
    "        \n",
    "    return rmse, preds, msg"
   ]
  },
  {
   "cell_type": "code",
   "execution_count": null,
   "metadata": {
    "pycharm": {
     "is_executing": true
    }
   },
   "outputs": [],
   "source": [
    "# helper function to visualize the results of a SARIMA gridsearch\n",
    "\n",
    "def vis_comp(savefig, path, suptitle):\n",
    "    \"\"\"\n",
    "    Visualizes results of a SARIMA gridsearch in comparison to some naive baselines.\n",
    "    \n",
    "    Parameters:\n",
    "    ----------\n",
    "    savefig: boolean\n",
    "        Whether to save the resulting figure.\n",
    "    path: string\n",
    "        Where to load the results from that are to be visualized. If savefig is True, figure is saved to 'Image/' + path\n",
    "    path: string\n",
    "        ARIMA or SARIMA\n",
    "    \"\"\"\n",
    "\n",
    "    # load best models for transformed and original data\n",
    "    results = load_obj('', path)\n",
    "    (order_transf, (_, preds_transf, _)) = min(results['bc'].items(), key=lambda x: x[1][0])\n",
    "    (order_notransf, (_, preds_notransf, _)) = min(results['none'].items(), key=lambda x: x[1][0])\n",
    "\n",
    "    # some naive baselines to contextualize model performance\n",
    "    y_preds_naive = y[int(len(df_turbine_train))-1:-1]\n",
    "    y_preds_snaive = y[int(len(df_turbine_train))-12:-12]\n",
    "\n",
    "    # visualize results\n",
    "    nrows, ncols = 2, 2\n",
    "    fig, axes = plt.subplots(ncols, nrows, figsize=(14, 10))\n",
    "    model_title = 'SARIMA(({},{},{})({},{},{},{}))' if suptitle=='SARIMA' else 'ARIMA({},{},{})'\n",
    "    for n_plot, (y_preds, method) in enumerate([(y_preds_naive, 'Naive'), (y_preds_snaive, 'Seasonal Naive'),\n",
    "                                (preds_transf, model_title.format(*order_transf) + '[bct(y)]'),\n",
    "                                (preds_notransf, model_title.format(*order_transf) + '[y]')]):\n",
    "\n",
    "        # compute errors (rmse and mape)\n",
    "        rmse = np.sqrt( np.mean( (y_preds-y[int(len(df_turbine_train)):])**2 ) )\n",
    "        mape = np.mean( abs(y_preds-y[int(len(df_turbine_train)):])/y[int(len(df_turbine_train)):] )*100\n",
    "\n",
    "        # plot actuals and predictions\n",
    "        ax = axes[n_plot//ncols, n_plot%ncols]\n",
    "        ax.plot(y, color='b', label='actual')\n",
    "        ax.plot(range(int(len(df_turbine_train)), len(y)), y_preds, ls='--', color='orange', label='prediction')\n",
    "        ax.set_title('{}. RMSE={:.2f}. MAPE={:.2f}%.'.format(method, rmse, mape))\n",
    "\n",
    "    fig.suptitle('RMSE-optimal ARIMA models with and without transformation vs. naive baselines.'.format(suptitle))\n",
    "    fig.tight_layout()\n",
    "    if savefig:\n",
    "        fig.savefig(r'Images/' + path)"
   ]
  },
  {
   "cell_type": "code",
   "execution_count": null,
   "metadata": {
    "pycharm": {
     "is_executing": true
    }
   },
   "outputs": [],
   "source": [
    "def save_obj(obj, path, name):\n",
    "    with open(path + name + '.pkl', 'wb') as f:\n",
    "        pickle.dump(obj, f, pickle.HIGHEST_PROTOCOL)\n",
    "\n",
    "def load_obj(path, name):\n",
    "    with open(path + name + '.pkl', 'rb') as f:\n",
    "        return pickle.load(f)"
   ]
  },
  {
   "cell_type": "code",
   "execution_count": null,
   "metadata": {
    "pycharm": {
     "is_executing": true
    }
   },
   "outputs": [],
   "source": [
    "save=True\n",
    "saveto=r'results_initialguess_arima'\n",
    "\n",
    "order_ls = [(1,0,0)]\n",
    "min_rmse = np.inf\n",
    "results = {}\n",
    "results['bc'] = {}\n",
    "for order in tqdm(order_ls):\n",
    "    rmse, preds, msg = eval_sarima(order=order, seasonal_order=(0,0,0,0), y=y, n_train=int(len(df_turbine_train)))\n",
    "    results['bc'][order] = (rmse, preds, msg)\n",
    "\n",
    "if save:\n",
    "    save_obj(results, '', saveto)"
   ]
  },
  {
   "cell_type": "code",
   "execution_count": null,
   "metadata": {
    "pycharm": {
     "is_executing": true
    }
   },
   "outputs": [],
   "source": [
    "save=True\n",
    "saveto=r'results_initialguess_arima'\n",
    "\n",
    "order_ls = [(1,0,0)]\n",
    "results = {}\n",
    "for (preprocess, transform, inverse_transform) in [('bc', None, None), ('none', None, None)]:\n",
    "    min_rmse = np.inf\n",
    "    results[preprocess] = {}\n",
    "    for order in tqdm(order_ls):\n",
    "        rmse, preds, msg = eval_sarima(order=order, seasonal_order=(0,0,0,0), y=y, n_train=int(len(df_turbine_train)))\n",
    "        results[preprocess][order] = (rmse, preds, msg)\n",
    "\n",
    "if save:\n",
    "    save_obj(results, '', saveto)"
   ]
  },
  {
   "cell_type": "code",
   "execution_count": null,
   "metadata": {
    "pycharm": {
     "is_executing": true
    }
   },
   "outputs": [],
   "source": [
    "vis_comp(savefig=True, path='results_initialguess_arima', suptitle='ARIMA')"
   ]
  },
  {
   "cell_type": "code",
   "execution_count": null,
   "metadata": {
    "pycharm": {
     "is_executing": true
    }
   },
   "outputs": [],
   "source": [
    "results"
   ]
  },
  {
   "cell_type": "code",
   "execution_count": null,
   "metadata": {
    "pycharm": {
     "is_executing": true
    }
   },
   "outputs": [],
   "source": []
  },
  {
   "cell_type": "code",
   "execution_count": null,
   "metadata": {
    "pycharm": {
     "is_executing": true
    }
   },
   "outputs": [],
   "source": []
  },
  {
   "cell_type": "code",
   "execution_count": null,
   "metadata": {
    "pycharm": {
     "is_executing": true
    }
   },
   "outputs": [],
   "source": []
  },
  {
   "cell_type": "code",
   "execution_count": null,
   "metadata": {
    "pycharm": {
     "is_executing": true
    }
   },
   "outputs": [],
   "source": []
  },
  {
   "cell_type": "code",
   "execution_count": null,
   "metadata": {
    "pycharm": {
     "is_executing": true
    }
   },
   "outputs": [],
   "source": []
  },
  {
   "cell_type": "code",
   "execution_count": null,
   "metadata": {
    "pycharm": {
     "is_executing": true
    }
   },
   "outputs": [],
   "source": []
  },
  {
   "cell_type": "code",
   "execution_count": null,
   "metadata": {
    "pycharm": {
     "is_executing": true
    }
   },
   "outputs": [],
   "source": []
  },
  {
   "cell_type": "code",
   "execution_count": null,
   "metadata": {
    "pycharm": {
     "is_executing": true
    }
   },
   "outputs": [],
   "source": []
  },
  {
   "cell_type": "code",
   "execution_count": null,
   "metadata": {
    "pycharm": {
     "is_executing": true
    }
   },
   "outputs": [],
   "source": [
    "#import data\n",
    "df_wind = pd.read_csv(os.path.join(path, 'germany-wind-energy.csv'))\n",
    "df_wind"
   ]
  },
  {
   "cell_type": "code",
   "execution_count": null,
   "metadata": {
    "pycharm": {
     "is_executing": true
    }
   },
   "outputs": [],
   "source": [
    "#import data\n",
    "df_all = pd.read_csv(os.path.join(path, 'all_energy_statistics.csv'))\n",
    "df_all"
   ]
  },
  {
   "cell_type": "code",
   "execution_count": null,
   "metadata": {
    "pycharm": {
     "is_executing": true
    }
   },
   "outputs": [],
   "source": []
  }
 ],
 "metadata": {
  "kernelspec": {
   "display_name": "Python 3 (ipykernel)",
   "language": "python",
   "name": "python3"
  },
  "language_info": {
   "codemirror_mode": {
    "name": "ipython",
    "version": 3
   },
   "file_extension": ".py",
   "mimetype": "text/x-python",
   "name": "python",
   "nbconvert_exporter": "python",
   "pygments_lexer": "ipython3",
   "version": "3.8.12"
  }
 },
 "nbformat": 4,
 "nbformat_minor": 1
}